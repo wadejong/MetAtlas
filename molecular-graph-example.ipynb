{
 "cells": [
  {
   "cell_type": "code",
   "execution_count": 1,
   "metadata": {},
   "outputs": [
    {
     "name": "stdout",
     "output_type": "stream",
     "text": [
      "Number of fragments before: 1\n",
      "Number of fragments after : 2\n",
      "The broken bond is between: (0, 2) O H\n",
      "Number of fragments before: 1\n",
      "Number of fragments after : 2\n",
      "The broken bond is between: (1, 2) O C\n"
     ]
    }
   ],
   "source": [
    "from numpy import *\n",
    "\n",
    "import sys\n",
    "sys.path.append( './malt' )\n",
    "from malt.algorithm.topology import Fragmentation\n",
    "\n",
    "frag = Fragmentation()\n",
    "\n",
    "water_symbols = [ 'O', 'H', 'H' ]\n",
    "water_xyz_intact = array( [ [ -1.89071, -0.25814,  0.10872 ],\n",
    "                            [ -2.18007,  0.46912,  0.71533 ],\n",
    "                            [ -0.90138, -0.22523,  0.13618 ] ] )\n",
    "water_xyz_broken = array( [ [ -1.89071, -0.25814,  0.10872 ],\n",
    "                            [ -2.18007,  0.46912,  0.71533 ],\n",
    "                            [  0.12249, -0.08978,  0.07429 ] ] )\n",
    "\n",
    "print( 'Number of fragments before:', frag.get_number_of_fragments( water_xyz_intact, water_symbols ) )\n",
    "print( 'Number of fragments after :', frag.get_number_of_fragments( water_xyz_broken, water_symbols ) )\n",
    "b = frag.find_broken_bond( water_xyz_intact, water_xyz_broken, water_symbols )\n",
    "print( 'The broken bond is between:', b, water_symbols[b[0]], water_symbols[b[1]] )\n",
    "\n",
    "ether_symbols = [ 'C', 'O', 'C', 'C', 'N', 'C', 'O', 'C', 'C', 'H', 'H', 'H', 'H', 'H', 'H', 'H', 'H', 'H', 'H' ]\n",
    "ether_xyz_intact = array( [ [-0.327416,  1.336690, -0.088826],\n",
    "                            [ 0.122257,  0.006020, -0.017027],\n",
    "                            [ 0.780770, -0.494286, -1.164555],\n",
    "                            [ 1.341085, -1.915222, -0.923429],\n",
    "                            [ 0.459332, -2.780424, -1.701691],\n",
    "                            [ 0.525173, -4.155488, -1.732579],\n",
    "                            [-0.184837, -4.886886, -2.409895],\n",
    "                            [-0.359337, -2.031089, -2.506565],\n",
    "                            [-0.206559, -0.724103, -2.275109],\n",
    "                            [ 0.493974,  1.992902, -0.394846],\n",
    "                            [-1.121766,  1.435638, -0.832994],\n",
    "                            [-0.674073,  1.656186,  0.896923],\n",
    "                            [ 1.574333,  0.194635, -1.474166],\n",
    "                            [ 2.355830, -2.023499, -1.324117],\n",
    "                            [ 1.341442, -2.235434,  0.124245],\n",
    "                            [ 1.295273, -4.556482, -1.053162],\n",
    "                            [-1.013705, -2.506801, -3.231184],\n",
    "                            [-0.732005,  0.045806, -2.825277],\n",
    "                            [ 0.658562, -0.131861,  0.804267] ] )\n",
    "ether_xyz_broken = array( [ [-0.524245,  1.424635,  0.591764],\n",
    "                            [ 0.190000,  0.284826,  0.981061],\n",
    "                            [ 1.107076, -0.600138, -2.175731],\n",
    "                            [ 1.350642, -1.795145, -1.314970],\n",
    "                            [ 0.441878, -2.824707, -1.926330],\n",
    "                            [ 0.351717, -4.218926, -1.392620],\n",
    "                            [-0.363033, -4.961388, -1.992102],\n",
    "                            [-0.227092, -2.278384, -2.965217],\n",
    "                            [ 0.179742, -0.907323, -3.130348],\n",
    "                            [-0.098930,  2.343718,  1.011183],\n",
    "                            [-0.433378,  1.441556, -0.498958],\n",
    "                            [-1.582161,  1.347319,  0.868932],\n",
    "                            [ 1.611429,  0.357352, -2.011294],\n",
    "                            [ 2.411530, -2.126562, -1.325097],\n",
    "                            [ 1.077126, -1.603811, -0.250745],\n",
    "                            [ 0.955962, -4.425453, -0.492598],\n",
    "                            [-0.967027, -2.813743, -3.579330],\n",
    "                            [-0.212034, -0.245715, -3.909398],\n",
    "                            [ 0.249302,  0.299962,  1.928197] ] )\n",
    "\n",
    "print( 'Number of fragments before:', frag.get_number_of_fragments( ether_xyz_intact, ether_symbols ) )\n",
    "print( 'Number of fragments after :', frag.get_number_of_fragments( ether_xyz_broken, ether_symbols ) )\n",
    "b = frag.find_broken_bond( ether_xyz_intact, ether_xyz_broken, ether_symbols )\n",
    "print( 'The broken bond is between:', b, ether_symbols[b[0]], ether_symbols[b[1]] )"
   ]
  }
 ],
 "metadata": {
  "kernelspec": {
   "display_name": "Python 3",
   "language": "python",
   "name": "python3"
  },
  "language_info": {
   "codemirror_mode": {
    "name": "ipython",
    "version": 3
   },
   "file_extension": ".py",
   "mimetype": "text/x-python",
   "name": "python",
   "nbconvert_exporter": "python",
   "pygments_lexer": "ipython3",
   "version": "3.6.5"
  }
 },
 "nbformat": 4,
 "nbformat_minor": 2
}
