{
 "cells": [
  {
   "cell_type": "code",
   "execution_count": 46,
   "metadata": {},
   "outputs": [
    {
     "name": "stdout",
     "output_type": "stream",
     "text": [
      "[u'fireworks', u'workflows', u'launches', u'fw_id_assigner']\n"
     ]
    },
    {
     "name": "stderr",
     "output_type": "stream",
     "text": [
      "/home/bkrull/bin/anaconda/lib/python2.7/site-packages/ipykernel/__main__.py:13: DeprecationWarning: You passed a bytestring as `filenames`. This will not work on Python 3. Use `cp.read_file()` or switch to using Unicode strings across the board.\n"
     ]
    }
   ],
   "source": [
    "from pymongo import MongoClient\n",
    "from configparser import ConfigParser\n",
    "from pprint import pprint\n",
    "\n",
    "from metatlas import make_xyz_from_stored_data\n",
    "\"\"\"\n",
    "Creates a connection to the mongodb specified by the config file DB_CONFIG.\n",
    "The name of the database is 'fireworks' with\n",
    "collection names 'fireworks', 'workflows', 'launches', and 'fw_id_assigner'\n",
    "\"\"\"\n",
    "DB_CONFIG = 'qm9_local.ini'\n",
    "config = ConfigParser()\n",
    "config.read(DB_CONFIG)\n",
    "creds = config['db']\n",
    "\n",
    "client = MongoClient(host=creds['host'], \n",
    "                     username=creds['username'],\n",
    "                     password=creds['password'],\n",
    "                     authSource=creds['name'])\n",
    "\n",
    "db = client['fireworks']\n",
    "\n",
    "print db.collection_names()"
   ]
  },
  {
   "cell_type": "markdown",
   "metadata": {},
   "source": [
    "## Getting the data out\n",
    "\n",
    "The fw_ids are unique across the whole database (i.e. 1 molecule <-> 1 fw_id), however, in the 'fireworks' collection, there is no information about stored data. This information is stored in the 'launches' collection. Single fireworks can have multiple launches (which you'll notice for all of them but an excessive number of archived launches for fw_id = [1, 2] because I used these for testing). "
   ]
  },
  {
   "cell_type": "code",
   "execution_count": 58,
   "metadata": {},
   "outputs": [
    {
     "name": "stdout",
     "output_type": "stream",
     "text": [
      "{u'_id': ObjectId('5aaa072b85e51e02812a16dd'),\n",
      " u'archived_launches': [3, 133997],\n",
      " u'created_on': u'2018-03-15T05:39:55.283749',\n",
      " u'fw_id': 3,\n",
      " u'launches': [134002],\n",
      " u'name': u'/home/bkrull/Documents/data/qm9/dsgdb9nsd_004178',\n",
      " u'spec': {u'_tasks': [{u'_fw_name': u'ProtonateMolecule',\n",
      "                        u'xyzparent': u'/home/bkrull/Documents/data/qm9/dsgdb9nsd_004178.xyz'}]},\n",
      " u'state': u'COMPLETED',\n",
      " u'updated_on': u'2018-05-09T17:14:04.514475'}\n"
     ]
    }
   ],
   "source": [
    "fw = db['fireworks'].find_one({'fw_id': 3})\n",
    "\n",
    "pprint(fw)"
   ]
  },
  {
   "cell_type": "markdown",
   "metadata": {},
   "source": [
    "With a launch_id in hand (`max(fw['launches'])` -> yields the largest launch_id aka the most recent launch), you can query the 'launches' collection to get the stored data"
   ]
  },
  {
   "cell_type": "code",
   "execution_count": 47,
   "metadata": {
    "collapsed": true
   },
   "outputs": [],
   "source": [
    "launch_id = max(fw['launches'])\n",
    "launch = db['launches'].find_one({'launch_id': launch_id})\n",
    "pprint(launch)"
   ]
  },
  {
   "cell_type": "markdown",
   "metadata": {},
   "source": [
    "## To make an xyz trajectory from stored_data"
   ]
  },
  {
   "cell_type": "code",
   "execution_count": 56,
   "metadata": {},
   "outputs": [],
   "source": [
    "parent = launch['action']['stored_data']['parent']\n",
    "children = launch['action']['stored_data']['protonated_children']"
   ]
  },
  {
   "cell_type": "code",
   "execution_count": 59,
   "metadata": {},
   "outputs": [],
   "source": [
    "atoms = parent['atom_list']\n",
    "coords = parent['coords'] # [nsteps, natoms, 3]\n",
    "energies = parent['energies'] # [nsteps]\n",
    "\n",
    "fname = fw['name'].split('/')[-1]\n",
    "with open(fname+'.xyz', 'w') as f:\n",
    "    for step in range(len(coords)):\n",
    "        f.write(make_xyz_from_stored_data(atoms, coords[step], energies[step]))"
   ]
  }
 ],
 "metadata": {
  "anaconda-cloud": {},
  "kernelspec": {
   "display_name": "Python [conda root]",
   "language": "python",
   "name": "conda-root-py"
  },
  "language_info": {
   "codemirror_mode": {
    "name": "ipython",
    "version": 2
   },
   "file_extension": ".py",
   "mimetype": "text/x-python",
   "name": "python",
   "nbconvert_exporter": "python",
   "pygments_lexer": "ipython2",
   "version": "2.7.13"
  }
 },
 "nbformat": 4,
 "nbformat_minor": 2
}
