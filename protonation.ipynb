{
 "cells": [
  {
   "cell_type": "code",
   "execution_count": 70,
   "metadata": {
    "collapsed": true
   },
   "outputs": [],
   "source": [
    "import pybel\n",
    "import os\n",
    "import openbabel\n",
    "from metatlas import create_launchpad, create_obmol, create_orca_input_string, \\\n",
    "OBUFFOptimize, OrcaOptimize, ComputeProtonationEnergy\n",
    "from IPython.display import SVG, HTML\n",
    "import imolecule\n",
    "import molvs\n",
    "from pprint import pprint\n",
    "from fireworks import Firework, Workflow, FWorker\n",
    "from fireworks.core.rocket import Rocket\n",
    "from fireworks.core.rocket_launcher import launch_rocket\n",
    "from mendeleev import element\n",
    "\n",
    "def draw_html(pymol):\n",
    "    return HTML(imolecule.draw(pymol.clone, \n",
    "                               format=\"pybel\", \n",
    "                               display_html=False))\n",
    "\n",
    "LOCAL_DB_CONFIG = '/home/bkrull/.fireworks/local_db.ini'\n",
    "lpad = create_launchpad(LOCAL_DB_CONFIG)"
   ]
  },
  {
   "cell_type": "code",
   "execution_count": 62,
   "metadata": {},
   "outputs": [
    {
     "data": {
      "text/html": [
       "<div id=\"molecule_8be04d7c-12e1-42cc-8483-30bd41911fd9\"></div>\n",
       "           <script type=\"text/javascript\">\n",
       "           require.config({baseUrl: '/',\n",
       "                           paths: {imolecule: ['nbextensions/imolecule.min', 'https://rawgit.com/patrickfuller/imolecule/master/imolecule/js/build/imolecule.min']}});\n",
       "           require(['imolecule'], function () {\n",
       "               var $d = $('#molecule_8be04d7c-12e1-42cc-8483-30bd41911fd9');\n",
       "               $d.width(400); $d.height(300);\n",
       "               $d.imolecule = jQuery.extend({}, imolecule);\n",
       "               $d.imolecule.create($d, {drawingType: 'ball and stick',\n",
       "                                        cameraType: 'perspective',\n",
       "                                        shader: 'lambert',\n",
       "                                        showSave: false});\n",
       "               $d.imolecule.addElements({});\n",
       "               $d.imolecule.draw({\"atoms\":[{\"charge\":-0.391670,\"element\":\"O\",\"location\":[-0.208057,2.358984,-0.434601]},{\"charge\":0.058551,\"element\":\"C\",\"location\":[0.340858,1.436840,0.505601]},{\"charge\":-0.016268,\"element\":\"C\",\"location\":[-0.830607,0.525332,0.984870]},{\"charge\":0.028169,\"element\":\"C\",\"location\":[-0.777256,-0.686615,0.076633]},{\"charge\":-0.012577,\"element\":\"C\",\"location\":[-0.701272,-0.515023,-1.432544]},{\"charge\":0.080413,\"element\":\"C\",\"location\":[0.551834,-0.676832,-0.638295]},{\"charge\":0.003009,\"element\":\"C\",\"location\":[1.388506,0.477406,-0.149687]},{\"charge\":-0.371977,\"element\":\"O\",\"location\":[0.835546,-2.056569,-0.344784]},{\"charge\":0.056827,\"element\":\"C\",\"location\":[-0.391680,-2.124039,0.442190]},{\"charge\":0.209778,\"element\":\"H\",\"location\":[0.510698,2.901336,-0.774821]},{\"charge\":0.059419,\"element\":\"H\",\"location\":[0.787304,1.991030,1.343306]},{\"charge\":0.029704,\"element\":\"H\",\"location\":[-0.655109,0.217447,2.021535]},{\"charge\":0.029704,\"element\":\"H\",\"location\":[-1.765363,1.092583,0.960434]},{\"charge\":0.030012,\"element\":\"H\",\"location\":[-1.014725,-1.335095,-2.071270]},{\"charge\":0.030012,\"element\":\"H\",\"location\":[-0.918742,0.481906,-1.795989]},{\"charge\":0.031808,\"element\":\"H\",\"location\":[1.976859,0.997452,-0.914341]},{\"charge\":0.031808,\"element\":\"H\",\"location\":[2.084073,0.104614,0.610066]},{\"charge\":0.056639,\"element\":\"H\",\"location\":[-0.164287,-2.256225,1.507299]},{\"charge\":0.056639,\"element\":\"H\",\"location\":[-1.048579,-2.934533,0.104398]}],\"bonds\":[{\"atoms\":[13,4],\"order\":1},{\"atoms\":[14,4],\"order\":1},{\"atoms\":[4,5],\"order\":1},{\"atoms\":[4,3],\"order\":1},{\"atoms\":[15,6],\"order\":1},{\"atoms\":[9,0],\"order\":1},{\"atoms\":[5,7],\"order\":1},{\"atoms\":[5,6],\"order\":1},{\"atoms\":[5,3],\"order\":1},{\"atoms\":[0,1],\"order\":1},{\"atoms\":[7,8],\"order\":1},{\"atoms\":[6,1],\"order\":1},{\"atoms\":[6,16],\"order\":1},{\"atoms\":[3,8],\"order\":1},{\"atoms\":[3,2],\"order\":1},{\"atoms\":[18,8],\"order\":1},{\"atoms\":[8,17],\"order\":1},{\"atoms\":[1,2],\"order\":1},{\"atoms\":[1,10],\"order\":1},{\"atoms\":[12,2],\"order\":1},{\"atoms\":[2,11],\"order\":1}],\"formula\":\"C7H10O2\",\"molecular_weight\":126.153100,\"units\":{\"molecular_weight\":\"g / mol\"}});\n",
       "\n",
       "               $d.resizable({\n",
       "                   aspectRatio: 400 / 300,\n",
       "                   resize: function (evt, ui) {\n",
       "                       $d.imolecule.renderer.setSize(ui.size.width,\n",
       "                                                     ui.size.height);\n",
       "                   }\n",
       "               });\n",
       "           });\n",
       "           </script>"
      ],
      "text/plain": [
       "<IPython.core.display.HTML object>"
      ]
     },
     "execution_count": 62,
     "metadata": {},
     "output_type": "execute_result"
    }
   ],
   "source": [
    "mol = pybel.readfile('xyz', '/home/bkrull/Documents/data/qm9/dsgdb9nsd_090177.xyz').next()\n",
    "mol.write('smi').split('\\t')[0]\n",
    "mol.formula\n",
    "draw_html(mol)"
   ]
  },
  {
   "cell_type": "code",
   "execution_count": 84,
   "metadata": {},
   "outputs": [
    {
     "name": "stdout",
     "output_type": "stream",
     "text": [
      "C7H10O2\n",
      "(-1.458512084, -4.124054443, -0.5299022186)\n",
      "Atom #1 is 8 O Oxygen atom with\n",
      " coords (-0.6179908654, 1.1694625638, -1.0689009303)\n",
      "New Proton is #20 with info 1 H Hydrogen and\n",
      " coords (-0.4179908654, 1.3694625638. -0.8689009303)\n",
      "Atom #8 is 8 O Oxygen atom with\n",
      " coords (0.425612108, -3.2460898425, -0.9790845529)\n",
      "New Proton is #20 with info 1 H Hydrogen and\n",
      " coords (0.625612108, -3.0460898425. -0.7790845529)\n",
      "C7H32O2+\n",
      "atom#1: Atom: 8 (-0.62 1.17 -1.07)\n",
      "atom#2: Atom: 6 (-0.07 0.25 -0.13)\n",
      "atom#3: Atom: 6 (-1.24 -0.66 0.35)\n",
      "atom#4: Atom: 6 (-1.19 -1.88 -0.56)\n",
      "atom#5: Atom: 6 (-1.11 -1.70 -2.07)\n",
      "atom#6: Atom: 6 (0.14 -1.87 -1.27)\n",
      "atom#7: Atom: 6 (0.98 -0.71 -0.78)\n",
      "atom#8: Atom: 8 (0.43 -3.25 -0.98)\n",
      "atom#9: Atom: 6 (-0.80 -3.31 -0.19)\n",
      "atom#10: Atom: 1 (0.10 1.71 -1.41)\n",
      "atom#11: Atom: 1 (0.38 0.80 0.71)\n",
      "atom#12: Atom: 1 (-1.07 -0.97 1.39)\n",
      "atom#13: Atom: 1 (-2.18 -0.10 0.33)\n",
      "atom#14: Atom: 1 (-1.42 -2.52 -2.71)\n",
      "atom#15: Atom: 1 (-1.33 -0.71 -2.43)\n",
      "atom#16: Atom: 1 (1.57 -0.19 -1.55)\n",
      "atom#17: Atom: 1 (1.67 -1.08 -0.02)\n",
      "atom#18: Atom: 1 (-0.57 -3.45 0.87)\n",
      "atom#19: Atom: 1 (-1.46 -4.12 -0.53)\n",
      "atom#20: Atom: 1 (-0.42 1.37 -0.87)\n",
      "C7H32O2+\n",
      "atom#1: Atom: 8 (-0.62 1.17 -1.07)\n",
      "atom#2: Atom: 6 (-0.07 0.25 -0.13)\n",
      "atom#3: Atom: 6 (-1.24 -0.66 0.35)\n",
      "atom#4: Atom: 6 (-1.19 -1.88 -0.56)\n",
      "atom#5: Atom: 6 (-1.11 -1.70 -2.07)\n",
      "atom#6: Atom: 6 (0.14 -1.87 -1.27)\n",
      "atom#7: Atom: 6 (0.98 -0.71 -0.78)\n",
      "atom#8: Atom: 8 (0.43 -3.25 -0.98)\n",
      "atom#9: Atom: 6 (-0.80 -3.31 -0.19)\n",
      "atom#10: Atom: 1 (0.10 1.71 -1.41)\n",
      "atom#11: Atom: 1 (0.38 0.80 0.71)\n",
      "atom#12: Atom: 1 (-1.07 -0.97 1.39)\n",
      "atom#13: Atom: 1 (-2.18 -0.10 0.33)\n",
      "atom#14: Atom: 1 (-1.42 -2.52 -2.71)\n",
      "atom#15: Atom: 1 (-1.33 -0.71 -2.43)\n",
      "atom#16: Atom: 1 (1.57 -0.19 -1.55)\n",
      "atom#17: Atom: 1 (1.67 -1.08 -0.02)\n",
      "atom#18: Atom: 1 (-0.57 -3.45 0.87)\n",
      "atom#19: Atom: 1 (-1.46 -4.12 -0.53)\n",
      "atom#20: Atom: 1 (0.63 -3.05 -0.78)\n"
     ]
    }
   ],
   "source": [
    "mol = pybel.readfile('xyz', '/home/bkrull/Documents/data/qm9/dsgdb9nsd_090177.xyz').next()\n",
    "\n",
    "orca_strings = []\n",
    "mols = []\n",
    "print mol.formula\n",
    "print mol.atoms[-1].coords\n",
    "    \n",
    "for atom in mol.atoms:\n",
    "    if atom.atomicnum in [7, 8, 15, 16]:\n",
    "        print 'Atom #{} is {} atom with\\n coords {}'.format(atom.idx, element(atom.atomicnum), atom.coords)\n",
    "        obmol = create_obmol(mol)\n",
    "        a = obmol.NewAtom()\n",
    "#         a.SetFormalCharge(atom.formalcharge+1)\n",
    "        a.SetAtomicNum(1)\n",
    "        a.SetVector(*atom.coords)\n",
    "        a.SetVector(a.GetVector().GetX() + 0.2, \n",
    "                    a.GetVector().GetY() + 0.2,\n",
    "                    a.GetVector().GetZ() + 0.2)\n",
    "        print 'New Proton is #{} with info {} and\\n coords ({}, {}. {})'.format(a.GetIdx(), \n",
    "                                                                      element(a.GetAtomicNum()),\n",
    "                                                                      a.GetVector().GetX(),\n",
    "                                                                      a.GetVector().GetY(),\n",
    "                                                                      a.GetVector().GetZ())\n",
    "        obmol.AddBond(atom.idx, a.GetIdx(), 1)\n",
    "        obmol.SetTotalCharge(mol.charge + 1)\n",
    "        tmp_pymol = pybel.Molecule(obmol)\n",
    "        tmp_pymol.localopt()\n",
    "        \n",
    "        mols.append(tmp_pymol)\n",
    "\n",
    "        orca_string, _ = create_orca_input_string(tmp_pymol)\n",
    "        orca_strings.append(orca_string)\n",
    "\n",
    "draw_html(mol)\n",
    "for i, mol in enumerate(mols):\n",
    "    print mol.formula\n",
    "    draw_html(mol)\n",
    "\n",
    "    for atom in mol.atoms:\n",
    "        print 'atom#{}: {}'.format(atom.idx, atom)\n",
    "    \n",
    "    mol.write('xyz', '/home/bkrull/Desktop/mol{}.xyz'.format(i), overwrite=True)"
   ]
  },
  {
   "cell_type": "code",
   "execution_count": 17,
   "metadata": {},
   "outputs": [
    {
     "data": {
      "text/plain": [
       "'C7H10O2'"
      ]
     },
     "execution_count": 17,
     "metadata": {},
     "output_type": "execute_result"
    }
   ],
   "source": [
    "mol = pybel.readstring('smi', 'O[C@H]1C[C@@]23C[C@]2(C1)OC3')\n",
    "mol.formula"
   ]
  },
  {
   "cell_type": "code",
   "execution_count": 3,
   "metadata": {
    "collapsed": true
   },
   "outputs": [],
   "source": [
    "orca = OrcaOptimize()\n",
    "orca._"
   ]
  },
  {
   "cell_type": "markdown",
   "metadata": {},
   "source": [
    "## Update all the completed jobs for running neutrals"
   ]
  },
  {
   "cell_type": "code",
   "execution_count": null,
   "metadata": {
    "collapsed": true
   },
   "outputs": [],
   "source": [
    "for fw_id in completed:\n",
    "    fwdict = lpad.get_fw_dict_by_id(fw_id)\n",
    "    lpad.rerun_fw(fw_id, recover_mode='prev_dir')\n",
    "    parent_xyz = fwdict['name']+'.xyz'\n",
    "    mol = pybel.readfile('xyz', parent_xyz).next()\n",
    "    \n",
    "    protonated_energies = []\n",
    "    for optpath in ['stored_data']['energies']: #already counts the number of protonated sites\n",
    "        egy = optpath[-1]\n",
    "        protonated_energies.append(egy)    \n",
    "        \n",
    "    lpad.update_spec([launch_id], {\"_tasks.0._fw_name\": \"OBUFFOptimize\",\n",
    "                       \"_tasks.0.smiles_string\": parent_xyz,\n",
    "                       '_tasks.0.strtype': 'xyz',\n",
    "                       \"_tasks.1._fw_name\": \"OrcaOptimize\",\n",
    "                       '_tasks.2._fw_name': 'ComputeProtonationEnergy',\n",
    "                       '_tasks.2.protonated_mol_energies': protonated_energies,\n",
    "                       '_tasks.2.neutral_mol_energy': neutral_egy})"
   ]
  },
  {
   "cell_type": "markdown",
   "metadata": {},
   "source": [
    "### Test fw update"
   ]
  },
  {
   "cell_type": "code",
   "execution_count": null,
   "metadata": {
    "collapsed": true
   },
   "outputs": [],
   "source": [
    "# fw_id = 1\n",
    "lpad.rerun_fw(1)\n",
    "fwdict = lpad.get_fw_dict_by_id(fw_id)\n",
    "\n",
    "protonated_energies = []\n",
    "for optpath in fwdict['archived_launches'][1]['action']['stored_data']['energies']: #already counts the number of protonated sites\n",
    "    egy = optpath[-1]\n",
    "    protonated_energies.append(egy) \n",
    "    \n",
    "neutral_egy = protonated_energies[-1]\n",
    "\n",
    "lpad.update_spec([1], {\"_tasks.0._fw_name\": \"OBUFFOptimize\",\n",
    "                       \"_tasks.0.smiles_string\": '/home/bkrull/Documents/data/qm9/dsgdb9nsd_090177.xyz',\n",
    "                       '_tasks.0.strtype': 'xyz',\n",
    "                       \"_tasks.1._fw_name\": \"OrcaOptimize\",\n",
    "                       '_tasks.2._fw_name': 'ComputeProtonationEnergy',\n",
    "                       '_tasks.2.protonated_mol_energies': protonated_energies,\n",
    "                       '_tasks.2.neutral_mol_energy': neutral_egy})\n",
    "launch_rocket(lpad, fw_id=1)"
   ]
  },
  {
   "cell_type": "code",
   "execution_count": 85,
   "metadata": {
    "scrolled": true
   },
   "outputs": [
    {
     "name": "stdout",
     "output_type": "stream",
     "text": [
      "2018-05-02 10:24:07,781 INFO Launching Rocket\n",
      "2018-05-02 10:24:09,912 INFO RUNNING fw_id: 1 in directory: /home/bkrull/devel/MetAtlas\n",
      "2018-05-02 10:24:10,937 INFO Task started: OBUFFOptimize.\n",
      "2018-05-02 10:24:11,044 INFO Task completed: OBUFFOptimize \n",
      "2018-05-02 10:24:11,050 INFO Task started: OrcaOptimize.\n",
      "2018-05-02 10:24:11,056 INFO Task completed: OrcaOptimize \n",
      "2018-05-02 10:24:11,093 INFO Task started: ComputeProtonationEnergy.\n",
      "2018-05-02 10:24:11,095 INFO Task completed: ComputeProtonationEnergy \n",
      "2018-05-02 10:24:12,626 INFO Rocket finished\n"
     ]
    },
    {
     "data": {
      "text/plain": [
       "17"
      ]
     },
     "execution_count": 85,
     "metadata": {},
     "output_type": "execute_result"
    }
   ],
   "source": [
    "# for id in lpad.get_fw_ids({'state': 'COMPLETED'}):\n",
    "lpad.mark_fizzled(1)\n",
    "lpad.rerun_fw(1, recover_mode='prev_dir')\n",
    "\n",
    "fwdict = lpad.get_fw_dict_by_id(fw_id)\n",
    "\n",
    "protonated_energies = []\n",
    "for optpath in fwdict['archived_launches'][1]['action']['stored_data']['energies']: #already counts the number of protonated sites\n",
    "    egy = optpath[-1]\n",
    "    protonated_energies.append(egy) \n",
    "    \n",
    "neutral_egy = protonated_energies[-1]\n",
    "\n",
    "lpad.update_spec([1], {\"_tasks.0._fw_name\": \"OBUFFOptimize\",\n",
    "                       \"_tasks.0.smiles_string\": '/home/bkrull/Documents/data/qm9/dsgdb9nsd_090177.xyz',\n",
    "                       '_tasks.0.strtype': 'xyz',\n",
    "                       \"_tasks.1._fw_name\": \"OrcaOptimize\",\n",
    "                       '_tasks.2._fw_name': 'ComputeProtonationEnergy',\n",
    "                       '_tasks.2.protonated_mol_energies': protonated_energies,\n",
    "                       '_tasks.2.neutral_mol_energy': neutral_egy})\n",
    "data = lpad.get_fw_dict_by_id(1)\n",
    "original_spec = data['spec']['_tasks']\n",
    "\n",
    "launch_rocket(lpad, fw_id=1)\n",
    "len(data['archived_launches'])"
   ]
  },
  {
   "cell_type": "code",
   "execution_count": 91,
   "metadata": {
    "scrolled": false
   },
   "outputs": [
    {
     "data": {
      "text/plain": [
       "[-57.620229446238795,\n",
       " -57.628246084866106,\n",
       " -57.6304914733075,\n",
       " -57.63269654949269,\n",
       " -57.6339663566512,\n",
       " -57.63501795963893,\n",
       " -57.63557200890335,\n",
       " -57.636027871464705,\n",
       " -57.636448018646206,\n",
       " -57.6368487372406,\n",
       " -57.63717539494559,\n",
       " -57.63745458106871,\n",
       " -57.63771856499778,\n",
       " -57.63797764238811,\n",
       " -57.63823120305136,\n",
       " -57.638482273525256,\n",
       " -57.63873457450913,\n",
       " -57.63899250503371,\n",
       " -57.63922944559269,\n",
       " -57.639408482692005,\n",
       " -57.63953809004903,\n",
       " -57.63966037503684,\n",
       " -57.639770261981425,\n",
       " -57.6398673283619,\n",
       " -57.639952856441454,\n",
       " -57.64002606278339,\n",
       " -57.64009144041282,\n",
       " -57.640146039856916,\n",
       " -57.64019199762686,\n",
       " -57.64023440928898,\n",
       " -57.64027325680942,\n",
       " -57.640304439520804,\n",
       " -57.64032857128959,\n",
       " -57.64035147751028,\n",
       " -57.64037598588223,\n",
       " -57.640398233184754,\n",
       " -57.640415742847466,\n",
       " -57.64043257658861,\n",
       " -57.640455675182324,\n",
       " -57.64048976739389,\n",
       " -57.6405309379945,\n",
       " -57.64056769806251,\n",
       " -57.64059411979258,\n",
       " -57.64061664190103,\n",
       " -57.64064110969437,\n",
       " -57.64066627097225,\n",
       " -57.64068952866083,\n",
       " -57.64071166854873,\n",
       " -57.64073510856443,\n",
       " -57.64075921333722,\n",
       " -57.64078052770947,\n",
       " -57.640798258116774,\n",
       " -57.64081506819426,\n",
       " -57.640833050314995,\n",
       " -57.640851753534236,\n",
       " -57.64087077132649,\n",
       " -57.64089146696773,\n",
       " -57.640916236589135,\n",
       " -57.64094524191978,\n",
       " -57.64097369760884,\n",
       " -57.64099676419849,\n",
       " -57.64101473884523,\n",
       " -57.64102903024278,\n",
       " -57.641040131454275,\n",
       " -57.641049138013784,\n",
       " -57.641057729908425,\n",
       " -57.6410662641681,\n",
       " -57.64107292725771,\n",
       " -57.64107653443776]"
      ]
     },
     "execution_count": 91,
     "metadata": {},
     "output_type": "execute_result"
    }
   ],
   "source": [
    "fwdict = lpad.get_fw_dict_by_id(1)\n",
    "\n",
    "fwdict['launches'][0]['action']['stored_data']['energies']"
   ]
  },
  {
   "cell_type": "markdown",
   "metadata": {},
   "source": [
    "## launch rockets here"
   ]
  },
  {
   "cell_type": "markdown",
   "metadata": {},
   "source": [
    "### Rerunning to generate neutral molecule's energy\n",
    "\n",
    "want to in-(db-)place update the entry with a new task computing the optimized structure, energy of the neutral molecule.\n",
    "\n",
    "#### Accessing  the protonated molecules' energies\n",
    "```python\n",
    "fwdict['archived_launches'][launch_number]['action']['stored_data']['energies'][protonated_mol_number][:]\n",
    "```\n",
    "\n",
    "This will return the list of energies along the optimization path for molecule=protonated_mol_number of the launch=launch_number.\n",
    "\n",
    "#### Accessing the neutral molecules' energies\n",
    "Since this will be the most recent launch\n",
    "\n",
    "```python\n",
    "fwdict['launches'][0]['action']['stored_data']['energies'][:]\n",
    "```\n"
   ]
  },
  {
   "cell_type": "code",
   "execution_count": 103,
   "metadata": {
    "collapsed": true
   },
   "outputs": [],
   "source": [
    "def make_xyz_from_stored_data(atoms, coords):\n",
    "    xyz = '{}\\n\\n'.format(len(atoms))\n",
    "    \n",
    "    for i, atom in enumerate(atoms):\n",
    "        xyz += '{} {} {} {}\\n'.format(atom[0],\n",
    "                                      coords[i][0], coords[i][1], coords[i][2])\n",
    "        \n",
    "    xyz += '\\n'\n",
    "    return xyz"
   ]
  },
  {
   "cell_type": "code",
   "execution_count": 104,
   "metadata": {
    "collapsed": true,
    "scrolled": false
   },
   "outputs": [],
   "source": [
    "fract = 1\n",
    "\n",
    "for id in lpad.get_fw_ids({'state': 'COMPLETED'}):\n",
    "    data = lpad.get_fw_dict_by_id(id)\n",
    "    name = data['name'].split('/')[-1]\n",
    "    stored_data = data['launches'][0]['action']['stored_data']\n",
    "    \n",
    "    conformers = stored_data['atom_list']\n",
    "    nconformers = len(conformers)\n",
    "    \n",
    "    try:\n",
    "        atoms = conformers[0]\n",
    "    except IndexError:\n",
    "        continue\n",
    "    \n",
    "    for confid in range(nconformers):      \n",
    "        steps = stored_data['coords'][confid]\n",
    "        with open('qm9struct/{}/{}-{}.xyz'.format(fract, name, confid), 'w') as f:\n",
    "            for step in range(len(steps)):\n",
    "                coords = steps[step]\n",
    "                xyz = make_xyz_from_stored_data(atoms, coords)\n",
    "        \n",
    "                f.write(xyz)\n",
    "                \n",
    "    if id%5000 == 0:\n",
    "        fract +=1\n",
    "        os.mkdir('qm9struct/{}'.format(fract))"
   ]
  },
  {
   "cell_type": "code",
   "execution_count": 138,
   "metadata": {
    "collapsed": true
   },
   "outputs": [],
   "source": [
    "mol = pybel.readfile('xyz', '/home/bkrull/Documents/data/qm9/dsgdb9nsd_111111.xyz').next()"
   ]
  },
  {
   "cell_type": "code",
   "execution_count": 128,
   "metadata": {},
   "outputs": [
    {
     "data": {
      "text/html": [
       "<div id=\"molecule_c86f14cb-0ed7-43a1-9f5c-3738e569aefd\"></div>\n",
       "           <script type=\"text/javascript\">\n",
       "           require.config({baseUrl: '/',\n",
       "                           paths: {imolecule: ['nbextensions/imolecule.min', 'https://rawgit.com/patrickfuller/imolecule/master/imolecule/js/build/imolecule.min']}});\n",
       "           require(['imolecule'], function () {\n",
       "               var $d = $('#molecule_c86f14cb-0ed7-43a1-9f5c-3738e569aefd');\n",
       "               $d.width(400); $d.height(300);\n",
       "               $d.imolecule = jQuery.extend({}, imolecule);\n",
       "               $d.imolecule.create($d, {drawingType: 'ball and stick',\n",
       "                                        cameraType: 'perspective',\n",
       "                                        shader: 'lambert',\n",
       "                                        showSave: false});\n",
       "               $d.imolecule.addElements({});\n",
       "               $d.imolecule.draw({\"atoms\":[{\"charge\":-0.099166,\"element\":\"C\",\"location\":[-3.951217,0.342035,-2.828443]},{\"charge\":-0.072954,\"element\":\"C\",\"location\":[-2.724240,0.402104,-2.318193]},{\"charge\":-0.025063,\"element\":\"C\",\"location\":[-1.824365,-0.550092,-1.664291]},{\"charge\":-0.010277,\"element\":\"C\",\"location\":[-0.448607,0.538615,-1.218241]},{\"charge\":-0.039569,\"element\":\"C\",\"location\":[-0.802439,1.708903,-2.054676]},{\"charge\":-0.019581,\"element\":\"C\",\"location\":[-2.284738,1.575759,-1.562621]},{\"charge\":0.034568,\"element\":\"H\",\"location\":[-2.814764,2.496567,-1.769782]},{\"charge\":-0.046109,\"element\":\"C\",\"location\":[-2.444845,0.947833,0.151978]},{\"charge\":-0.045497,\"element\":\"C\",\"location\":[-1.589881,1.878790,0.854095]},{\"charge\":0.005880,\"element\":\"C\",\"location\":[-0.300753,1.423823,0.156115]},{\"charge\":0.034504,\"element\":\"H\",\"location\":[0.272478,2.355327,0.006298]},{\"charge\":0.121412,\"element\":\"C\",\"location\":[0.505611,0.516119,0.976423]},{\"charge\":-0.009852,\"element\":\"C\",\"location\":[-0.087799,0.164953,2.332773]},{\"charge\":-0.022174,\"element\":\"C\",\"location\":[1.007860,-0.571988,2.954324]},{\"charge\":0.071218,\"element\":\"C\",\"location\":[1.800411,-1.766629,2.674847]},{\"charge\":0.060407,\"element\":\"H\",\"location\":[0.995145,-2.588227,2.686506]},{\"charge\":-0.390690,\"element\":\"O\",\"location\":[2.171209,-1.634657,4.148175]},{\"charge\":0.097672,\"element\":\"C\",\"location\":[2.359238,-1.067026,0.945875]},{\"charge\":-0.046573,\"element\":\"C\",\"location\":[3.439732,-1.797247,0.087860]},{\"charge\":0.316509,\"element\":\"C\",\"location\":[2.593487,0.510796,0.680343]},{\"charge\":-0.250104,\"element\":\"O\",\"location\":[3.144428,1.086909,-0.356788]},{\"charge\":-0.456988,\"element\":\"O\",\"location\":[1.684744,1.253325,1.294997]},{\"charge\":0.025564,\"element\":\"C\",\"location\":[0.958213,-0.802630,0.100797]},{\"charge\":0.035724,\"element\":\"H\",\"location\":[0.274980,-1.660437,0.204212]},{\"charge\":0.012432,\"element\":\"C\",\"location\":[0.786040,-0.321793,-1.401871]},{\"charge\":0.037030,\"element\":\"H\",\"location\":[0.182218,-1.039569,-1.973523]},{\"charge\":0.045792,\"element\":\"C\",\"location\":[1.824134,-0.808149,-2.411940]},{\"charge\":-0.549504,\"element\":\"O\",\"location\":[2.252346,0.034038,-3.253719]},{\"charge\":-0.549504,\"element\":\"O\",\"location\":[2.014294,-2.059086,-2.354619]},{\"charge\":0.053449,\"element\":\"H\",\"location\":[-4.487686,-0.592498,-2.755399]},{\"charge\":0.053449,\"element\":\"H\",\"location\":[-4.510210,1.269995,-2.918003]},{\"charge\":0.031564,\"element\":\"H\",\"location\":[-1.626790,-1.623873,-1.656096]},{\"charge\":0.031564,\"element\":\"H\",\"location\":[-2.641519,-0.766067,-0.951235]},{\"charge\":0.027668,\"element\":\"H\",\"location\":[-0.470771,1.540293,-3.087128]},{\"charge\":0.027668,\"element\":\"H\",\"location\":[-0.382395,2.690891,-1.778075]},{\"charge\":0.027108,\"element\":\"H\",\"location\":[-1.909918,-0.032747,0.387299]},{\"charge\":0.027108,\"element\":\"H\",\"location\":[-3.398567,0.648375,0.591190]},{\"charge\":0.026953,\"element\":\"H\",\"location\":[-1.594348,1.815973,1.942423]},{\"charge\":0.026953,\"element\":\"H\",\"location\":[-2.031327,2.835032,0.607567]},{\"charge\":0.030462,\"element\":\"H\",\"location\":[-0.967305,-0.497732,2.257471]},{\"charge\":0.030462,\"element\":\"H\",\"location\":[-0.270044,0.983544,3.018478]},{\"charge\":0.029158,\"element\":\"H\",\"location\":[1.880890,0.123471,3.003620]},{\"charge\":0.029158,\"element\":\"H\",\"location\":[0.685165,-1.107105,2.086878]},{\"charge\":0.209817,\"element\":\"H\",\"location\":[1.472679,-2.029181,4.758005]},{\"charge\":0.024116,\"element\":\"H\",\"location\":[4.465615,-1.677210,0.449783]},{\"charge\":0.024116,\"element\":\"H\",\"location\":[3.567564,-1.306957,-0.893089]},{\"charge\":0.024116,\"element\":\"H\",\"location\":[3.226049,-2.842571,-0.150602]}],\"bonds\":[{\"atoms\":[1,2],\"order\":1},{\"atoms\":[2,3],\"order\":1},{\"atoms\":[3,4],\"order\":1},{\"atoms\":[4,5],\"order\":1},{\"atoms\":[1,5],\"order\":1},{\"atoms\":[5,7],\"order\":1},{\"atoms\":[7,8],\"order\":1},{\"atoms\":[8,9],\"order\":1},{\"atoms\":[3,9],\"order\":1},{\"atoms\":[9,11],\"order\":1},{\"atoms\":[11,12],\"order\":1},{\"atoms\":[12,13],\"order\":1},{\"atoms\":[13,14],\"order\":1},{\"atoms\":[14,17],\"order\":1},{\"atoms\":[17,19],\"order\":1},{\"atoms\":[19,21],\"order\":1},{\"atoms\":[11,21],\"order\":1},{\"atoms\":[17,22],\"order\":1},{\"atoms\":[11,22],\"order\":1},{\"atoms\":[22,24],\"order\":1},{\"atoms\":[3,24],\"order\":1},{\"atoms\":[26,27],\"order\":2},{\"atoms\":[26,28],\"order\":1},{\"atoms\":[0,1],\"order\":2},{\"atoms\":[5,6],\"order\":1},{\"atoms\":[9,10],\"order\":1},{\"atoms\":[17,18],\"order\":1},{\"atoms\":[19,20],\"order\":2},{\"atoms\":[22,23],\"order\":1},{\"atoms\":[14,16],\"order\":1},{\"atoms\":[14,15],\"order\":1},{\"atoms\":[24,26],\"order\":1},{\"atoms\":[24,25],\"order\":1},{\"atoms\":[0,29],\"order\":1},{\"atoms\":[0,30],\"order\":1},{\"atoms\":[2,31],\"order\":1},{\"atoms\":[2,32],\"order\":1},{\"atoms\":[4,33],\"order\":1},{\"atoms\":[4,34],\"order\":1},{\"atoms\":[7,35],\"order\":1},{\"atoms\":[7,36],\"order\":1},{\"atoms\":[8,37],\"order\":1},{\"atoms\":[8,38],\"order\":1},{\"atoms\":[12,39],\"order\":1},{\"atoms\":[12,40],\"order\":1},{\"atoms\":[13,41],\"order\":1},{\"atoms\":[13,42],\"order\":1},{\"atoms\":[16,43],\"order\":1},{\"atoms\":[18,44],\"order\":1},{\"atoms\":[18,45],\"order\":1},{\"atoms\":[18,46],\"order\":1}],\"formula\":\"C19H23O5\",\"molecular_weight\":331.382920,\"units\":{\"molecular_weight\":\"g / mol\"}});\n",
       "\n",
       "               $d.resizable({\n",
       "                   aspectRatio: 400 / 300,\n",
       "                   resize: function (evt, ui) {\n",
       "                       $d.imolecule.renderer.setSize(ui.size.width,\n",
       "                                                     ui.size.height);\n",
       "                   }\n",
       "               });\n",
       "           });\n",
       "           </script>"
      ],
      "text/plain": [
       "<IPython.core.display.HTML object>"
      ]
     },
     "execution_count": 128,
     "metadata": {},
     "output_type": "execute_result"
    }
   ],
   "source": [
    "mol = openbabel.OBMol()\n",
    "smi = molecules.loc[0, 'original_smiles']\n",
    "new_pymol = pybel.readstring('smi', smi)\n",
    "new_pymol.make3D()\n",
    "draw_html(pymol)"
   ]
  },
  {
   "cell_type": "code",
   "execution_count": 127,
   "metadata": {},
   "outputs": [
    {
     "data": {
      "text/html": [
       "<div id=\"molecule_05dbb466-5276-42d1-baa7-77e7af5d86df\"></div>\n",
       "           <script type=\"text/javascript\">\n",
       "           require.config({baseUrl: '/',\n",
       "                           paths: {imolecule: ['nbextensions/imolecule.min', 'https://rawgit.com/patrickfuller/imolecule/master/imolecule/js/build/imolecule.min']}});\n",
       "           require(['imolecule'], function () {\n",
       "               var $d = $('#molecule_05dbb466-5276-42d1-baa7-77e7af5d86df');\n",
       "               $d.width(400); $d.height(300);\n",
       "               $d.imolecule = jQuery.extend({}, imolecule);\n",
       "               $d.imolecule.create($d, {drawingType: 'ball and stick',\n",
       "                                        cameraType: 'perspective',\n",
       "                                        shader: 'lambert',\n",
       "                                        showSave: false});\n",
       "               $d.imolecule.addElements({});\n",
       "               $d.imolecule.draw({\"atoms\":[{\"element\":\"C\",\"location\":[-4.564868,0.189497,-2.830143]},{\"element\":\"C\",\"location\":[-3.337891,0.249566,-2.319893]},{\"element\":\"C\",\"location\":[-2.438015,-0.702630,-1.665991]},{\"element\":\"C\",\"location\":[-1.062257,0.386077,-1.219941]},{\"element\":\"C\",\"location\":[-1.416089,1.556365,-2.056376]},{\"element\":\"C\",\"location\":[-2.898389,1.423221,-1.564321]},{\"element\":\"H\",\"location\":[-3.428414,2.344029,-1.771482]},{\"element\":\"C\",\"location\":[-3.058495,0.795295,0.150278]},{\"element\":\"C\",\"location\":[-2.203531,1.726252,0.852395]},{\"element\":\"C\",\"location\":[-0.914404,1.271284,0.154415]},{\"element\":\"H\",\"location\":[-0.341173,2.202788,0.004598]},{\"element\":\"C\",\"location\":[-0.108040,0.363581,0.974723]},{\"element\":\"C\",\"location\":[-0.701450,0.012415,2.331073]},{\"element\":\"C\",\"location\":[0.394210,-0.724526,2.952624]},{\"element\":\"C\",\"location\":[1.186760,-1.919167,2.673147]},{\"element\":\"H\",\"location\":[0.381494,-2.740765,2.684806]},{\"element\":\"O\",\"location\":[1.557559,-1.787196,4.146475]},{\"element\":\"C\",\"location\":[1.745587,-1.219564,0.944175]},{\"element\":\"C\",\"location\":[2.826081,-1.949785,0.086160]},{\"element\":\"C\",\"location\":[1.979837,0.358258,0.678643]},{\"element\":\"O\",\"location\":[2.530778,0.934371,-0.358488]},{\"element\":\"O\",\"location\":[1.071093,1.100787,1.293297]},{\"element\":\"C\",\"location\":[0.344562,-0.955168,0.099097]},{\"element\":\"H\",\"location\":[-0.338671,-1.812975,0.202512]},{\"element\":\"C\",\"location\":[0.172389,-0.474331,-1.403571]},{\"element\":\"H\",\"location\":[-0.431433,-1.192107,-1.975223]},{\"element\":\"C\",\"location\":[1.210484,-0.960687,-2.413640]},{\"element\":\"O\",\"location\":[1.638695,-0.118500,-3.255419]},{\"element\":\"O\",\"location\":[1.400644,-2.211624,-2.356319]},{\"element\":\"H\",\"location\":[-5.101337,-0.745036,-2.757099]},{\"element\":\"H\",\"location\":[-5.123860,1.117457,-2.919703]},{\"element\":\"H\",\"location\":[-2.240441,-1.776411,-1.657796]},{\"element\":\"H\",\"location\":[-3.255170,-0.918605,-0.952935]},{\"element\":\"H\",\"location\":[-1.084422,1.387755,-3.088828]},{\"element\":\"H\",\"location\":[-0.996046,2.538353,-1.779775]},{\"element\":\"H\",\"location\":[-2.523568,-0.185285,0.385599]},{\"element\":\"H\",\"location\":[-4.012218,0.495837,0.589490]},{\"element\":\"H\",\"location\":[-2.207999,1.663435,1.940723]},{\"element\":\"H\",\"location\":[-2.644978,2.682494,0.605867]},{\"element\":\"H\",\"location\":[-1.580955,-0.650271,2.255771]},{\"element\":\"H\",\"location\":[-0.883695,0.831006,3.016778]},{\"element\":\"H\",\"location\":[1.267240,-0.029067,3.001920]},{\"element\":\"H\",\"location\":[0.071514,-1.259643,2.085178]},{\"element\":\"H\",\"location\":[0.859028,-2.181720,4.756305]},{\"element\":\"H\",\"location\":[3.851964,-1.829748,0.448083]},{\"element\":\"H\",\"location\":[2.953913,-1.459496,-0.894789]},{\"element\":\"H\",\"location\":[2.612399,-2.995109,-0.152302]},{\"element\":\"H\",\"location\":[-4.364868,0.389497,-2.630143]},{\"element\":\"H\",\"location\":[-4.364868,0.389497,-2.630143]},{\"element\":\"H\",\"location\":[-4.364868,0.389497,-2.630143]},{\"element\":\"H\",\"location\":[-3.137891,0.449566,-2.119893]},{\"element\":\"H\",\"location\":[-2.238015,-0.502630,-1.465991]},{\"element\":\"H\",\"location\":[-0.862257,0.586077,-1.019941]},{\"element\":\"H\",\"location\":[-1.216089,1.756365,-1.856376]},{\"element\":\"H\",\"location\":[-2.698389,1.623221,-1.364321]},{\"element\":\"H\",\"location\":[-2.858495,0.995295,0.350278]},{\"element\":\"H\",\"location\":[-2.003531,1.926252,1.052395]},{\"element\":\"H\",\"location\":[-0.714404,1.471284,0.354415]},{\"element\":\"H\",\"location\":[0.091960,0.563581,1.174723]},{\"element\":\"H\",\"location\":[-0.501450,0.212415,2.531073]},{\"element\":\"H\",\"location\":[0.594210,-0.524526,3.152624]},{\"element\":\"H\",\"location\":[1.386760,-1.719167,2.873147]},{\"element\":\"H\",\"location\":[1.757559,-1.587196,4.346475]},{\"element\":\"H\",\"location\":[1.945587,-1.019564,1.144175]},{\"element\":\"H\",\"location\":[3.026081,-1.749785,0.286160]},{\"element\":\"H\",\"location\":[2.179837,0.558258,0.878643]},{\"element\":\"H\",\"location\":[2.730778,1.134371,-0.158488]},{\"element\":\"H\",\"location\":[1.271093,1.300787,1.493297]},{\"element\":\"H\",\"location\":[0.544562,-0.755168,0.299097]},{\"element\":\"H\",\"location\":[0.372389,-0.274331,-1.203571]},{\"element\":\"H\",\"location\":[1.410484,-0.760687,-2.213640]},{\"element\":\"H\",\"location\":[1.838695,0.081500,-3.055419]},{\"element\":\"H\",\"location\":[1.600644,-2.011624,-2.156319]},{\"element\":\"H\",\"location\":[-4.364868,0.389497,-2.630143]},{\"element\":\"H\",\"location\":[-3.137891,0.449566,-2.119893]},{\"element\":\"H\",\"location\":[-2.238015,-0.502630,-1.465991]},{\"element\":\"H\",\"location\":[-0.862257,0.586077,-1.019941]},{\"element\":\"H\",\"location\":[-1.216089,1.756365,-1.856376]},{\"element\":\"H\",\"location\":[-2.698389,1.623221,-1.364321]},{\"element\":\"H\",\"location\":[-2.858495,0.995295,0.350278]},{\"element\":\"H\",\"location\":[-2.003531,1.926252,1.052395]},{\"element\":\"H\",\"location\":[-0.714404,1.471284,0.354415]},{\"element\":\"H\",\"location\":[0.091960,0.563581,1.174723]},{\"element\":\"H\",\"location\":[-0.501450,0.212415,2.531073]},{\"element\":\"H\",\"location\":[0.594210,-0.524526,3.152624]},{\"element\":\"H\",\"location\":[1.386760,-1.719167,2.873147]},{\"element\":\"H\",\"location\":[1.757559,-1.587196,4.346475]},{\"element\":\"H\",\"location\":[1.945587,-1.019564,1.144175]},{\"element\":\"H\",\"location\":[3.026081,-1.749785,0.286160]},{\"element\":\"H\",\"location\":[2.179837,0.558258,0.878643]},{\"element\":\"H\",\"location\":[2.730778,1.134371,-0.158488]},{\"element\":\"H\",\"location\":[1.271093,1.300787,1.493297]},{\"element\":\"H\",\"location\":[0.544562,-0.755168,0.299097]},{\"element\":\"H\",\"location\":[0.372389,-0.274331,-1.203571]},{\"element\":\"H\",\"location\":[1.410484,-0.760687,-2.213640]},{\"element\":\"H\",\"location\":[1.838695,0.081500,-3.055419]},{\"element\":\"H\",\"location\":[1.600644,-2.011624,-2.156319]},{\"element\":\"H\",\"location\":[-4.364868,0.389497,-2.630143]},{\"element\":\"H\",\"location\":[-3.137891,0.449566,-2.119893]},{\"element\":\"H\",\"location\":[-2.238015,-0.502630,-1.465991]},{\"element\":\"H\",\"location\":[-0.862257,0.586077,-1.019941]},{\"element\":\"H\",\"location\":[-1.216089,1.756365,-1.856376]},{\"element\":\"H\",\"location\":[-2.698389,1.623221,-1.364321]},{\"element\":\"H\",\"location\":[-2.858495,0.995295,0.350278]},{\"element\":\"H\",\"location\":[-2.003531,1.926252,1.052395]},{\"element\":\"H\",\"location\":[-0.714404,1.471284,0.354415]},{\"element\":\"H\",\"location\":[0.091960,0.563581,1.174723]},{\"element\":\"H\",\"location\":[-0.501450,0.212415,2.531073]},{\"element\":\"H\",\"location\":[0.594210,-0.524526,3.152624]},{\"element\":\"H\",\"location\":[1.386760,-1.719167,2.873147]},{\"element\":\"H\",\"location\":[1.757559,-1.587196,4.346475]},{\"element\":\"H\",\"location\":[1.945587,-1.019564,1.144175]},{\"element\":\"H\",\"location\":[3.026081,-1.749785,0.286160]},{\"element\":\"H\",\"location\":[2.179837,0.558258,0.878643]},{\"element\":\"H\",\"location\":[2.730778,1.134371,-0.158488]},{\"element\":\"H\",\"location\":[1.271093,1.300787,1.493297]},{\"element\":\"H\",\"location\":[0.544562,-0.755168,0.299097]},{\"element\":\"H\",\"location\":[0.372389,-0.274331,-1.203571]},{\"element\":\"H\",\"location\":[1.410484,-0.760687,-2.213640]},{\"element\":\"H\",\"location\":[1.838695,0.081500,-3.055419]},{\"element\":\"H\",\"location\":[1.600644,-2.011624,-2.156319]},{\"element\":\"H\",\"location\":[-4.364868,0.389497,-2.630143]},{\"element\":\"H\",\"location\":[-3.137891,0.449566,-2.119893]},{\"element\":\"H\",\"location\":[-2.238015,-0.502630,-1.465991]},{\"element\":\"H\",\"location\":[-0.862257,0.586077,-1.019941]},{\"element\":\"H\",\"location\":[-1.216089,1.756365,-1.856376]},{\"element\":\"H\",\"location\":[-2.698389,1.623221,-1.364321]},{\"element\":\"H\",\"location\":[-2.858495,0.995295,0.350278]},{\"element\":\"H\",\"location\":[-2.003531,1.926252,1.052395]},{\"element\":\"H\",\"location\":[-0.714404,1.471284,0.354415]},{\"element\":\"H\",\"location\":[0.091960,0.563581,1.174723]},{\"element\":\"H\",\"location\":[-0.501450,0.212415,2.531073]},{\"element\":\"H\",\"location\":[0.594210,-0.524526,3.152624]},{\"element\":\"H\",\"location\":[1.386760,-1.719167,2.873147]},{\"element\":\"H\",\"location\":[1.757559,-1.587196,4.346475]},{\"element\":\"H\",\"location\":[1.945587,-1.019564,1.144175]},{\"element\":\"H\",\"location\":[3.026081,-1.749785,0.286160]},{\"element\":\"H\",\"location\":[2.179837,0.558258,0.878643]},{\"element\":\"H\",\"location\":[2.730778,1.134371,-0.158488]},{\"element\":\"H\",\"location\":[1.271093,1.300787,1.493297]},{\"element\":\"H\",\"location\":[0.544562,-0.755168,0.299097]},{\"element\":\"H\",\"location\":[0.372389,-0.274331,-1.203571]},{\"element\":\"H\",\"location\":[1.410484,-0.760687,-2.213640]},{\"element\":\"H\",\"location\":[1.838695,0.081500,-3.055419]},{\"element\":\"H\",\"location\":[1.600644,-2.011624,-2.156319]},{\"element\":\"H\",\"location\":[-4.364868,0.389497,-2.630143]},{\"element\":\"H\",\"location\":[-3.137891,0.449566,-2.119893]},{\"element\":\"H\",\"location\":[-2.238015,-0.502630,-1.465991]},{\"element\":\"H\",\"location\":[-0.862257,0.586077,-1.019941]},{\"element\":\"H\",\"location\":[-1.216089,1.756365,-1.856376]},{\"element\":\"H\",\"location\":[-2.698389,1.623221,-1.364321]},{\"element\":\"H\",\"location\":[-2.858495,0.995295,0.350278]},{\"element\":\"H\",\"location\":[-2.003531,1.926252,1.052395]},{\"element\":\"H\",\"location\":[-0.714404,1.471284,0.354415]},{\"element\":\"H\",\"location\":[0.091960,0.563581,1.174723]},{\"element\":\"H\",\"location\":[-0.501450,0.212415,2.531073]},{\"element\":\"H\",\"location\":[0.594210,-0.524526,3.152624]},{\"element\":\"H\",\"location\":[1.386760,-1.719167,2.873147]},{\"element\":\"H\",\"location\":[1.757559,-1.587196,4.346475]},{\"element\":\"H\",\"location\":[1.945587,-1.019564,1.144175]},{\"element\":\"H\",\"location\":[3.026081,-1.749785,0.286160]},{\"element\":\"H\",\"location\":[2.179837,0.558258,0.878643]},{\"element\":\"H\",\"location\":[2.730778,1.134371,-0.158488]},{\"element\":\"H\",\"location\":[1.271093,1.300787,1.493297]},{\"element\":\"H\",\"location\":[0.544562,-0.755168,0.299097]},{\"element\":\"H\",\"location\":[0.372389,-0.274331,-1.203571]},{\"element\":\"H\",\"location\":[1.410484,-0.760687,-2.213640]},{\"element\":\"H\",\"location\":[1.838695,0.081500,-3.055419]},{\"element\":\"H\",\"location\":[1.600644,-2.011624,-2.156319]},{\"element\":\"H\",\"location\":[1.757559,-1.587196,4.346475]},{\"element\":\"H\",\"location\":[2.730778,1.134371,-0.158488]},{\"element\":\"H\",\"location\":[1.271093,1.300787,1.493297]},{\"element\":\"H\",\"location\":[1.838695,0.081500,-3.055419]},{\"element\":\"H\",\"location\":[1.600644,-2.011624,-2.156319]},{\"element\":\"H\",\"location\":[1.757559,-1.587196,4.346475]},{\"element\":\"H\",\"location\":[2.730778,1.134371,-0.158488]},{\"element\":\"H\",\"location\":[1.271093,1.300787,1.493297]},{\"element\":\"H\",\"location\":[1.838695,0.081500,-3.055419]},{\"element\":\"H\",\"location\":[1.600644,-2.011624,-2.156319]},{\"element\":\"H\",\"location\":[1.757559,-1.587196,4.346475]},{\"element\":\"H\",\"location\":[2.730778,1.134371,-0.158488]},{\"element\":\"H\",\"location\":[1.271093,1.300787,1.493297]},{\"element\":\"H\",\"location\":[1.838695,0.081500,-3.055419]},{\"element\":\"H\",\"location\":[1.600644,-2.011624,-2.156319]},{\"element\":\"H\",\"location\":[1.757559,-1.587196,4.346475]},{\"element\":\"H\",\"location\":[2.730778,1.134371,-0.158488]},{\"element\":\"H\",\"location\":[1.271093,1.300787,1.493297]},{\"element\":\"H\",\"location\":[1.838695,0.081500,-3.055419]},{\"element\":\"H\",\"location\":[1.600644,-2.011624,-2.156319]}],\"bonds\":[{\"atoms\":[0,47],\"order\":1},{\"atoms\":[1,47],\"order\":1},{\"atoms\":[2,47],\"order\":1},{\"atoms\":[3,47],\"order\":1},{\"atoms\":[4,47],\"order\":1},{\"atoms\":[5,47],\"order\":1},{\"atoms\":[7,47],\"order\":1},{\"atoms\":[8,47],\"order\":1},{\"atoms\":[9,47],\"order\":1},{\"atoms\":[11,47],\"order\":1},{\"atoms\":[12,47],\"order\":1},{\"atoms\":[13,47],\"order\":1},{\"atoms\":[14,47],\"order\":1},{\"atoms\":[16,47],\"order\":1},{\"atoms\":[17,47],\"order\":1},{\"atoms\":[18,47],\"order\":1},{\"atoms\":[19,47],\"order\":1},{\"atoms\":[20,47],\"order\":1},{\"atoms\":[21,47],\"order\":1},{\"atoms\":[22,47],\"order\":1},{\"atoms\":[24,47],\"order\":1},{\"atoms\":[26,47],\"order\":1},{\"atoms\":[27,47],\"order\":1},{\"atoms\":[28,47],\"order\":1}],\"formula\":\"C19H165O5\",\"molecular_weight\":537.002680,\"units\":{\"molecular_weight\":\"g / mol\"}});\n",
       "\n",
       "               $d.resizable({\n",
       "                   aspectRatio: 400 / 300,\n",
       "                   resize: function (evt, ui) {\n",
       "                       $d.imolecule.renderer.setSize(ui.size.width,\n",
       "                                                     ui.size.height);\n",
       "                   }\n",
       "               });\n",
       "           });\n",
       "           </script>"
      ],
      "text/plain": [
       "<IPython.core.display.HTML object>"
      ]
     },
     "execution_count": 127,
     "metadata": {},
     "output_type": "execute_result"
    }
   ],
   "source": [
    "\n",
    "new_pymol = pybel.Molecule(mol)\n",
    "new_pymol.localopt()\n",
    "draw_html(new_pymol)"
   ]
  },
  {
   "cell_type": "code",
   "execution_count": 133,
   "metadata": {},
   "outputs": [
    {
     "name": "stdout",
     "output_type": "stream",
     "text": [
      "Total atoms 47, charge -1\n",
      "Total atoms 48, charge 0\n",
      "Total atoms 48, charge 0\n",
      "Total atoms 48, charge 0\n",
      "Total atoms 48, charge 0\n",
      "Total atoms 48, charge 0\n"
     ]
    }
   ],
   "source": [
    "def new_obmol(pymol):\n",
    "    mol = openbabel.OBMol()\n",
    "\n",
    "    for atom in pymol.atoms:\n",
    "        a = mol.NewAtom()\n",
    "        a.SetAtomicNum(atom.atomicnum)\n",
    "        a.SetVector(atom.coords[0], atom.coords[1], atom.coords[2])\n",
    "        \n",
    "    return mol\n",
    "\n",
    "def single_deprotonations:\n",
    "    single_protonations = []\n",
    "    print 'Total atoms {}, charge {}'.format(len(new_pymol.atoms), new_pymol.charge)\n",
    "\n",
    "    for atom in new_pymol.atoms:\n",
    "        if atom.atomicnum in [7,8,15,16]:\n",
    "            mol = new_obmol(new_pymol)\n",
    "            a = mol.NewAtom()\n",
    "            a.SetAtomicNum(1)\n",
    "            a.SetVector(atom.coords[0]+0.2, \n",
    "                        atom.coords[1]+0.2, \n",
    "                        atom.coords[2]+0.2)\n",
    "            mol.AddBond(atom.idx, new_pymol.atoms[-1].idx+1, 1)\n",
    "            mol.SetTotalCharge(new_pymol.charge+1)\n",
    "            tmp_pymol = pybel.Molecule(mol)\n",
    "            tmp_pymol.localopt()\n",
    "            print 'Total atoms {}, charge {}'.format(len(tmp_pymol.atoms), tmp_pymol.charge)\n",
    "            single_protonations.append(tmp_pymol)\n",
    "\n",
    "    orca_strings = []\n",
    "    for molecule in single_protonations:\n",
    "        orca_string, _ = create_orca_input_string(molecule)\n",
    "        orca_strings.append(orca_string)\n",
    "        \n",
    "    return orca_strings"
   ]
  },
  {
   "cell_type": "code",
   "execution_count": 134,
   "metadata": {},
   "outputs": [
    {
     "data": {
      "text/html": [
       "<div id=\"molecule_69750df1-e411-4a30-8301-99181c5953cd\"></div>\n",
       "           <script type=\"text/javascript\">\n",
       "           require.config({baseUrl: '/',\n",
       "                           paths: {imolecule: ['nbextensions/imolecule.min', 'https://rawgit.com/patrickfuller/imolecule/master/imolecule/js/build/imolecule.min']}});\n",
       "           require(['imolecule'], function () {\n",
       "               var $d = $('#molecule_69750df1-e411-4a30-8301-99181c5953cd');\n",
       "               $d.width(400); $d.height(300);\n",
       "               $d.imolecule = jQuery.extend({}, imolecule);\n",
       "               $d.imolecule.create($d, {drawingType: 'ball and stick',\n",
       "                                        cameraType: 'perspective',\n",
       "                                        shader: 'lambert',\n",
       "                                        showSave: false});\n",
       "               $d.imolecule.addElements({});\n",
       "               $d.imolecule.draw({\"atoms\":[{\"element\":\"C\",\"location\":[-4.257242,2.355342,0.011752]},{\"element\":\"C\",\"location\":[-2.978772,2.083377,-0.239173]},{\"element\":\"C\",\"location\":[-2.436545,0.746866,-0.375824]},{\"element\":\"C\",\"location\":[-0.878991,1.010829,0.418861]},{\"element\":\"C\",\"location\":[-0.952336,2.452815,0.833388]},{\"element\":\"C\",\"location\":[-1.683381,2.752420,-0.506542]},{\"element\":\"H\",\"location\":[-1.761260,3.827337,-0.587575]},{\"element\":\"C\",\"location\":[-0.932939,1.749498,-1.908872]},{\"element\":\"C\",\"location\":[0.500114,1.886511,-1.750972]},{\"element\":\"C\",\"location\":[0.528514,1.264849,-0.369287]},{\"element\":\"H\",\"location\":[1.228267,1.909282,0.197231]},{\"element\":\"C\",\"location\":[1.101514,-0.064371,-0.401876]},{\"element\":\"C\",\"location\":[1.402497,-0.781188,-1.714148]},{\"element\":\"C\",\"location\":[2.178183,-1.994293,-1.276621]},{\"element\":\"C\",\"location\":[1.782990,-3.092444,-0.380513]},{\"element\":\"H\",\"location\":[1.062823,-3.345826,-1.291265]},{\"charge\":-0.252805,\"element\":\"O\",\"location\":[2.685809,-4.164698,-0.739317]},{\"element\":\"C\",\"location\":[1.572593,-1.836076,1.113729]},{\"element\":\"C\",\"location\":[1.692099,-1.805088,2.671022]},{\"element\":\"C\",\"location\":[2.544937,-0.438942,1.069775]},{\"element\":\"O\",\"location\":[3.101973,0.241479,2.043136]},{\"element\":\"O\",\"location\":[2.439074,0.212881,-0.037121]},{\"element\":\"C\",\"location\":[0.298293,-0.978459,0.663308]},{\"element\":\"H\",\"location\":[-0.410957,-1.650084,0.149402]},{\"element\":\"C\",\"location\":[-0.676374,-0.069439,1.483123]},{\"element\":\"H\",\"location\":[-0.312960,0.342186,2.427914]},{\"element\":\"C\",\"location\":[-2.163166,-0.553388,1.802699]},{\"element\":\"O\",\"location\":[-2.473214,-1.690053,1.340910]},{\"element\":\"O\",\"location\":[-2.906546,0.294089,2.380945]},{\"element\":\"H\",\"location\":[-4.923363,1.496981,-0.055740]},{\"element\":\"H\",\"location\":[-4.683478,3.317430,0.244182]},{\"element\":\"H\",\"location\":[-2.633859,0.827448,-1.463986]},{\"element\":\"H\",\"location\":[-2.863144,-0.245202,-0.378988]},{\"element\":\"H\",\"location\":[-0.011079,3.038934,0.920354]},{\"element\":\"H\",\"location\":[-1.392553,2.572336,1.831665]},{\"element\":\"H\",\"location\":[-1.347723,1.739715,-2.914896]},{\"element\":\"H\",\"location\":[-0.975684,0.597393,-1.791028]},{\"element\":\"H\",\"location\":[0.652962,2.943021,-1.889043]},{\"element\":\"H\",\"location\":[1.136670,1.377879,-2.481391]},{\"element\":\"H\",\"location\":[2.083460,-0.280927,-2.384640]},{\"element\":\"H\",\"location\":[0.465254,-1.070646,-2.214605]},{\"element\":\"H\",\"location\":[1.207831,-1.926565,-0.814869]},{\"element\":\"H\",\"location\":[3.121719,-1.739969,-0.770301]},{\"element\":\"H\",\"location\":[2.477790,-4.372770,-1.707741]},{\"element\":\"H\",\"location\":[1.585366,-2.502297,3.491774]},{\"element\":\"H\",\"location\":[1.172244,-0.877620,3.023190]},{\"element\":\"H\",\"location\":[2.746782,-1.595858,2.867295]},{\"charge\":0.252805,\"element\":\"H\",\"location\":[2.885809,-3.964698,-0.539317]}],\"bonds\":[{\"atoms\":[16,47],\"order\":1}],\"formula\":\"C19H24O5\",\"molecular_weight\":418.065760,\"units\":{\"molecular_weight\":\"g / mol\"}});\n",
       "\n",
       "               $d.resizable({\n",
       "                   aspectRatio: 400 / 300,\n",
       "                   resize: function (evt, ui) {\n",
       "                       $d.imolecule.renderer.setSize(ui.size.width,\n",
       "                                                     ui.size.height);\n",
       "                   }\n",
       "               });\n",
       "           });\n",
       "           </script>"
      ],
      "text/plain": [
       "<IPython.core.display.HTML object>"
      ]
     },
     "execution_count": 134,
     "metadata": {},
     "output_type": "execute_result"
    }
   ],
   "source": [
    "draw_html(single_protonations[0])"
   ]
  },
  {
   "cell_type": "code",
   "execution_count": 135,
   "metadata": {},
   "outputs": [
    {
     "data": {
      "text/html": [
       "<div id=\"molecule_fb82c216-d890-4e59-b461-e8324c418736\"></div>\n",
       "           <script type=\"text/javascript\">\n",
       "           require.config({baseUrl: '/',\n",
       "                           paths: {imolecule: ['nbextensions/imolecule.min', 'https://rawgit.com/patrickfuller/imolecule/master/imolecule/js/build/imolecule.min']}});\n",
       "           require(['imolecule'], function () {\n",
       "               var $d = $('#molecule_fb82c216-d890-4e59-b461-e8324c418736');\n",
       "               $d.width(400); $d.height(300);\n",
       "               $d.imolecule = jQuery.extend({}, imolecule);\n",
       "               $d.imolecule.create($d, {drawingType: 'ball and stick',\n",
       "                                        cameraType: 'perspective',\n",
       "                                        shader: 'lambert',\n",
       "                                        showSave: false});\n",
       "               $d.imolecule.addElements({});\n",
       "               $d.imolecule.draw({\"atoms\":[{\"element\":\"C\",\"location\":[-4.265912,2.263547,-0.046215]},{\"element\":\"C\",\"location\":[-2.987442,1.991582,-0.297141]},{\"element\":\"C\",\"location\":[-2.445216,0.655071,-0.433792]},{\"element\":\"C\",\"location\":[-0.887661,0.919034,0.360893]},{\"element\":\"C\",\"location\":[-0.961006,2.361020,0.775420]},{\"element\":\"C\",\"location\":[-1.692051,2.660625,-0.564510]},{\"element\":\"H\",\"location\":[-1.769930,3.735542,-0.645543]},{\"element\":\"C\",\"location\":[-0.941609,1.657703,-1.966840]},{\"element\":\"C\",\"location\":[0.491443,1.794716,-1.808939]},{\"element\":\"C\",\"location\":[0.519844,1.173054,-0.427255]},{\"element\":\"H\",\"location\":[1.219596,1.817486,0.139263]},{\"element\":\"C\",\"location\":[1.092844,-0.156166,-0.459843]},{\"element\":\"C\",\"location\":[1.393827,-0.872983,-1.772115]},{\"element\":\"C\",\"location\":[2.169513,-2.086089,-1.334589]},{\"element\":\"C\",\"location\":[1.774320,-3.184239,-0.438481]},{\"element\":\"H\",\"location\":[1.054153,-3.437621,-1.349233]},{\"element\":\"O\",\"location\":[2.677139,-4.256493,-0.797285]},{\"element\":\"C\",\"location\":[1.563923,-1.927871,1.055761]},{\"element\":\"C\",\"location\":[1.683429,-1.896883,2.613054]},{\"element\":\"C\",\"location\":[2.536266,-0.530737,1.011807]},{\"charge\":-0.252805,\"element\":\"O\",\"location\":[3.093303,0.149684,1.985168]},{\"element\":\"O\",\"location\":[2.430404,0.121086,-0.095088]},{\"element\":\"C\",\"location\":[0.289623,-1.070255,0.605340]},{\"element\":\"H\",\"location\":[-0.419627,-1.741879,0.091434]},{\"element\":\"C\",\"location\":[-0.685044,-0.161234,1.425155]},{\"element\":\"H\",\"location\":[-0.321630,0.250390,2.369947]},{\"element\":\"C\",\"location\":[-2.171836,-0.645183,1.744732]},{\"element\":\"O\",\"location\":[-2.481884,-1.781848,1.282942]},{\"element\":\"O\",\"location\":[-2.915216,0.202294,2.322977]},{\"element\":\"H\",\"location\":[-4.932033,1.405185,-0.113708]},{\"element\":\"H\",\"location\":[-4.692148,3.225635,0.186214]},{\"element\":\"H\",\"location\":[-2.642529,0.735653,-1.521954]},{\"element\":\"H\",\"location\":[-2.871814,-0.336997,-0.436956]},{\"element\":\"H\",\"location\":[-0.019749,2.947139,0.862386]},{\"element\":\"H\",\"location\":[-1.401223,2.480540,1.773698]},{\"element\":\"H\",\"location\":[-1.356394,1.647919,-2.972864]},{\"element\":\"H\",\"location\":[-0.984354,0.505598,-1.848996]},{\"element\":\"H\",\"location\":[0.644292,2.851225,-1.947011]},{\"element\":\"H\",\"location\":[1.128000,1.286084,-2.539359]},{\"element\":\"H\",\"location\":[2.074790,-0.372723,-2.442608]},{\"element\":\"H\",\"location\":[0.456584,-1.162441,-2.272573]},{\"element\":\"H\",\"location\":[1.199161,-2.018361,-0.872837]},{\"element\":\"H\",\"location\":[3.113049,-1.831764,-0.828269]},{\"element\":\"H\",\"location\":[2.469120,-4.464565,-1.765709]},{\"element\":\"H\",\"location\":[1.576696,-2.594092,3.433806]},{\"element\":\"H\",\"location\":[1.163574,-0.969415,2.965222]},{\"element\":\"H\",\"location\":[2.738112,-1.687653,2.809327]},{\"charge\":0.252805,\"element\":\"H\",\"location\":[3.293303,0.349684,2.185168]}],\"bonds\":[{\"atoms\":[20,47],\"order\":1}],\"formula\":\"C19H24O5\",\"molecular_weight\":418.065760,\"units\":{\"molecular_weight\":\"g / mol\"}});\n",
       "\n",
       "               $d.resizable({\n",
       "                   aspectRatio: 400 / 300,\n",
       "                   resize: function (evt, ui) {\n",
       "                       $d.imolecule.renderer.setSize(ui.size.width,\n",
       "                                                     ui.size.height);\n",
       "                   }\n",
       "               });\n",
       "           });\n",
       "           </script>"
      ],
      "text/plain": [
       "<IPython.core.display.HTML object>"
      ]
     },
     "execution_count": 135,
     "metadata": {},
     "output_type": "execute_result"
    }
   ],
   "source": [
    "draw_html(single_protonations[1])"
   ]
  },
  {
   "cell_type": "code",
   "execution_count": 78,
   "metadata": {},
   "outputs": [
    {
     "name": "stdout",
     "output_type": "stream",
     "text": [
      "47 -1\n"
     ]
    },
    {
     "data": {
      "text/html": [
       "<div id=\"molecule_70c108fc-e081-49e5-ace0-af42df4c6250\"></div>\n",
       "           <script type=\"text/javascript\">\n",
       "           require.config({baseUrl: '/',\n",
       "                           paths: {imolecule: ['nbextensions/imolecule.min', 'https://rawgit.com/patrickfuller/imolecule/master/imolecule/js/build/imolecule.min']}});\n",
       "           require(['imolecule'], function () {\n",
       "               var $d = $('#molecule_70c108fc-e081-49e5-ace0-af42df4c6250');\n",
       "               $d.width(400); $d.height(300);\n",
       "               $d.imolecule = jQuery.extend({}, imolecule);\n",
       "               $d.imolecule.create($d, {drawingType: 'ball and stick',\n",
       "                                        cameraType: 'perspective',\n",
       "                                        shader: 'lambert',\n",
       "                                        showSave: false});\n",
       "               $d.imolecule.addElements({});\n",
       "               $d.imolecule.draw({\"atoms\":[{\"charge\":-0.099166,\"element\":\"C\",\"location\":[0.420810,-0.672549,4.143754]},{\"charge\":-0.072954,\"element\":\"C\",\"location\":[-0.180056,-0.849197,2.955325]},{\"charge\":-0.025063,\"element\":\"C\",\"location\":[0.659861,-0.502914,1.836103]},{\"charge\":-0.010277,\"element\":\"C\",\"location\":[-0.547954,0.165556,0.822337]},{\"charge\":-0.039569,\"element\":\"C\",\"location\":[-1.853041,0.073746,1.534384]},{\"charge\":-0.019581,\"element\":\"C\",\"location\":[-1.528644,-1.234909,2.233318]},{\"charge\":0.034568,\"element\":\"H\",\"location\":[-2.306959,-1.359995,2.973474]},{\"charge\":-0.046109,\"element\":\"C\",\"location\":[-1.350586,-2.511075,0.941254]},{\"charge\":-0.045497,\"element\":\"C\",\"location\":[-1.011173,-2.187798,-0.593208]},{\"charge\":0.005880,\"element\":\"C\",\"location\":[-1.056084,-0.688635,-0.625452]},{\"charge\":0.034504,\"element\":\"H\",\"location\":[-2.122249,-0.476546,-0.842541]},{\"charge\":0.121412,\"element\":\"C\",\"location\":[-0.261004,-0.122832,-1.759231]},{\"charge\":-0.009852,\"element\":\"C\",\"location\":[1.003093,-0.697493,-2.803467]},{\"charge\":-0.022174,\"element\":\"C\",\"location\":[2.291225,-0.768293,-2.081463]},{\"charge\":0.071218,\"element\":\"C\",\"location\":[1.597045,0.016836,-1.068242]},{\"charge\":0.060407,\"element\":\"H\",\"location\":[2.386562,0.068689,-0.261536]},{\"charge\":-0.390690,\"element\":\"O\",\"location\":[1.224629,-1.321129,-0.414423]},{\"charge\":0.097672,\"element\":\"C\",\"location\":[0.459118,1.447542,-1.958344]},{\"charge\":-0.046573,\"element\":\"C\",\"location\":[-0.238393,3.010458,-1.928257]},{\"charge\":0.316509,\"element\":\"C\",\"location\":[-1.344807,1.189919,-2.315832]},{\"charge\":-0.250104,\"element\":\"O\",\"location\":[-2.403366,1.753189,-2.270243]},{\"charge\":-0.456988,\"element\":\"O\",\"location\":[-1.193270,-0.011604,-2.788950]},{\"charge\":0.025564,\"element\":\"C\",\"location\":[0.503797,1.256528,-0.680279]},{\"charge\":0.035724,\"element\":\"H\",\"location\":[1.524525,1.807856,-0.734370]},{\"charge\":0.012432,\"element\":\"C\",\"location\":[-0.124658,1.609306,0.617443]},{\"charge\":0.037030,\"element\":\"H\",\"location\":[-0.862093,2.398485,0.578844]},{\"charge\":0.045792,\"element\":\"C\",\"location\":[1.036696,2.161877,1.603479]},{\"charge\":-0.549504,\"element\":\"O\",\"location\":[2.216362,2.269973,1.150084]},{\"charge\":-0.549504,\"element\":\"O\",\"location\":[0.643197,2.362881,2.784026]},{\"charge\":0.053449,\"element\":\"H\",\"location\":[-0.032397,-0.696407,5.115898]},{\"charge\":0.053449,\"element\":\"H\",\"location\":[1.501170,-0.428011,4.145446]},{\"charge\":0.031564,\"element\":\"H\",\"location\":[1.636954,0.006270,1.883721]},{\"charge\":0.031564,\"element\":\"H\",\"location\":[1.069435,-1.526557,1.724969]},{\"charge\":0.027668,\"element\":\"H\",\"location\":[-2.722884,-0.064197,0.880154]},{\"charge\":0.027668,\"element\":\"H\",\"location\":[-2.068599,1.000348,2.080196]},{\"charge\":0.027108,\"element\":\"H\",\"location\":[-1.362430,-3.610966,0.873196]},{\"charge\":0.027108,\"element\":\"H\",\"location\":[-0.442432,-2.776633,1.481208]},{\"charge\":0.026953,\"element\":\"H\",\"location\":[-1.448964,-2.593659,-1.541461]},{\"charge\":0.026953,\"element\":\"H\",\"location\":[-0.050208,-2.685882,-0.848844]},{\"charge\":0.030462,\"element\":\"H\",\"location\":[0.651258,-1.624059,-3.236954]},{\"charge\":0.030462,\"element\":\"H\",\"location\":[1.249143,0.011510,-3.612922]},{\"charge\":0.029158,\"element\":\"H\",\"location\":[2.555957,-1.813641,-1.873461]},{\"charge\":0.029158,\"element\":\"H\",\"location\":[3.184057,-0.147201,-2.012011]},{\"charge\":0.209817,\"element\":\"H\",\"location\":[0.527656,-1.356093,0.240414]},{\"charge\":0.024116,\"element\":\"H\",\"location\":[-0.799067,2.961897,-2.891165]},{\"charge\":0.024116,\"element\":\"H\",\"location\":[-1.061175,3.152506,-1.173776]},{\"charge\":0.024116,\"element\":\"H\",\"location\":[0.029943,4.002904,-2.282596]}],\"bonds\":[{\"atoms\":[0,1],\"order\":2},{\"atoms\":[1,2],\"order\":1},{\"atoms\":[2,3],\"order\":1},{\"atoms\":[3,4],\"order\":1},{\"atoms\":[4,5],\"order\":1},{\"atoms\":[5,6],\"order\":1},{\"atoms\":[1,5],\"order\":1},{\"atoms\":[5,7],\"order\":1},{\"atoms\":[7,8],\"order\":1},{\"atoms\":[8,9],\"order\":1},{\"atoms\":[9,10],\"order\":1},{\"atoms\":[3,9],\"order\":1},{\"atoms\":[9,11],\"order\":1},{\"atoms\":[11,12],\"order\":1},{\"atoms\":[12,13],\"order\":1},{\"atoms\":[13,14],\"order\":1},{\"atoms\":[14,15],\"order\":1},{\"atoms\":[14,16],\"order\":1},{\"atoms\":[14,17],\"order\":1},{\"atoms\":[17,18],\"order\":1},{\"atoms\":[17,19],\"order\":1},{\"atoms\":[19,20],\"order\":2},{\"atoms\":[19,21],\"order\":1},{\"atoms\":[11,21],\"order\":1},{\"atoms\":[17,22],\"order\":1},{\"atoms\":[22,23],\"order\":1},{\"atoms\":[11,22],\"order\":1},{\"atoms\":[22,24],\"order\":1},{\"atoms\":[24,25],\"order\":1},{\"atoms\":[3,24],\"order\":1},{\"atoms\":[24,26],\"order\":1},{\"atoms\":[26,27],\"order\":2},{\"atoms\":[26,28],\"order\":1},{\"atoms\":[0,29],\"order\":1},{\"atoms\":[0,30],\"order\":1},{\"atoms\":[2,31],\"order\":1},{\"atoms\":[2,32],\"order\":1},{\"atoms\":[4,33],\"order\":1},{\"atoms\":[4,34],\"order\":1},{\"atoms\":[7,35],\"order\":1},{\"atoms\":[7,36],\"order\":1},{\"atoms\":[8,37],\"order\":1},{\"atoms\":[8,38],\"order\":1},{\"atoms\":[12,39],\"order\":1},{\"atoms\":[12,40],\"order\":1},{\"atoms\":[13,41],\"order\":1},{\"atoms\":[13,42],\"order\":1},{\"atoms\":[16,43],\"order\":1},{\"atoms\":[18,44],\"order\":1},{\"atoms\":[18,45],\"order\":1},{\"atoms\":[18,46],\"order\":1}],\"formula\":\"C19H23O5\",\"molecular_weight\":331.382920,\"units\":{\"molecular_weight\":\"g / mol\"}});\n",
       "\n",
       "               $d.resizable({\n",
       "                   aspectRatio: 400 / 300,\n",
       "                   resize: function (evt, ui) {\n",
       "                       $d.imolecule.renderer.setSize(ui.size.width,\n",
       "                                                     ui.size.height);\n",
       "                   }\n",
       "               });\n",
       "           });\n",
       "           </script>"
      ],
      "text/plain": [
       "<IPython.core.display.HTML object>"
      ]
     },
     "execution_count": 78,
     "metadata": {},
     "output_type": "execute_result"
    }
   ],
   "source": [
    "mol.addh()\n",
    "mol.make3D()\n",
    "print len(mol.atoms), mol.charge\n",
    "draw_html(mol)"
   ]
  },
  {
   "cell_type": "code",
   "execution_count": 79,
   "metadata": {},
   "outputs": [
    {
     "name": "stdout",
     "output_type": "stream",
     "text": [
      "49 -1\n"
     ]
    },
    {
     "data": {
      "text/html": [
       "<div id=\"molecule_322a0770-0432-4d8a-83f7-6a9ed043c9a5\"></div>\n",
       "           <script type=\"text/javascript\">\n",
       "           require.config({baseUrl: '/',\n",
       "                           paths: {imolecule: ['nbextensions/imolecule.min', 'https://rawgit.com/patrickfuller/imolecule/master/imolecule/js/build/imolecule.min']}});\n",
       "           require(['imolecule'], function () {\n",
       "               var $d = $('#molecule_322a0770-0432-4d8a-83f7-6a9ed043c9a5');\n",
       "               $d.width(400); $d.height(300);\n",
       "               $d.imolecule = jQuery.extend({}, imolecule);\n",
       "               $d.imolecule.create($d, {drawingType: 'ball and stick',\n",
       "                                        cameraType: 'perspective',\n",
       "                                        shader: 'lambert',\n",
       "                                        showSave: false});\n",
       "               $d.imolecule.addElements({});\n",
       "               $d.imolecule.draw({\"atoms\":[{\"charge\":-0.099166,\"element\":\"C\",\"location\":[0.448387,0.353280,-4.089100]},{\"charge\":-0.072954,\"element\":\"C\",\"location\":[-0.231813,0.882891,-3.036708]},{\"charge\":-0.025063,\"element\":\"C\",\"location\":[0.301220,1.395824,-1.671473]},{\"charge\":-0.010277,\"element\":\"C\",\"location\":[-0.749783,0.875248,-0.679730]},{\"charge\":-0.039569,\"element\":\"C\",\"location\":[-1.984800,0.618778,-1.420121]},{\"charge\":-0.019581,\"element\":\"C\",\"location\":[-1.765356,0.985251,-2.833308]},{\"charge\":0.034568,\"element\":\"H\",\"location\":[-2.137945,1.962518,-3.059199]},{\"charge\":-0.046109,\"element\":\"C\",\"location\":[-2.493086,0.020712,-3.755519]},{\"charge\":-0.045497,\"element\":\"C\",\"location\":[-2.459262,1.989996,0.708493]},{\"charge\":0.005880,\"element\":\"C\",\"location\":[-0.969288,1.857787,0.438496]},{\"charge\":0.034504,\"element\":\"H\",\"location\":[-0.567692,2.808668,0.156633]},{\"charge\":0.121412,\"element\":\"C\",\"location\":[-0.349694,1.426992,1.553561]},{\"charge\":-0.009852,\"element\":\"C\",\"location\":[2.963351,-1.208866,3.222530]},{\"charge\":-0.022174,\"element\":\"C\",\"location\":[2.381198,-1.825869,1.961259]},{\"charge\":0.071218,\"element\":\"C\",\"location\":[0.902052,-2.106409,2.170607]},{\"charge\":0.060407,\"element\":\"H\",\"location\":[0.780059,-2.785113,2.988763]},{\"charge\":-0.390690,\"element\":\"O\",\"location\":[0.358199,-2.682821,0.992315]},{\"charge\":0.097672,\"element\":\"C\",\"location\":[0.178357,-0.805807,2.478986]},{\"charge\":-0.046573,\"element\":\"C\",\"location\":[0.760509,-0.188801,3.740257]},{\"charge\":0.316509,\"element\":\"C\",\"location\":[-1.300788,-1.086347,2.688336]},{\"charge\":-0.250104,\"element\":\"O\",\"location\":[-1.673585,-1.872291,3.614889]},{\"charge\":-0.456988,\"element\":\"O\",\"location\":[0.591806,2.406072,1.967542]},{\"charge\":0.025564,\"element\":\"C\",\"location\":[0.351653,0.158333,1.316746]},{\"charge\":0.035724,\"element\":\"H\",\"location\":[1.402242,0.327527,1.204781]},{\"charge\":0.012432,\"element\":\"C\",\"location\":[-0.246170,-0.408957,0.008552]},{\"charge\":0.037030,\"element\":\"H\",\"location\":[-1.003677,-1.149413,0.159575]},{\"charge\":0.045792,\"element\":\"C\",\"location\":[0.812181,-1.109229,-0.828056]},{\"charge\":-0.549504,\"element\":\"O\",\"location\":[2.012759,-1.167252,-0.415221]},{\"charge\":-0.549504,\"element\":\"O\",\"location\":[0.459476,-1.698599,-2.070892]},{\"charge\":0.053449,\"element\":\"H\",\"location\":[-0.086613,-0.063276,-4.916842]},{\"charge\":0.053449,\"element\":\"H\",\"location\":[1.518387,0.353280,-4.089100]},{\"charge\":0.031564,\"element\":\"H\",\"location\":[1.293782,1.062222,-1.451404]},{\"charge\":0.031564,\"element\":\"H\",\"location\":[0.351736,2.464491,-1.654156]},{\"charge\":0.027668,\"element\":\"H\",\"location\":[-2.786109,1.197470,-1.010342]},{\"charge\":0.027668,\"element\":\"H\",\"location\":[-2.238887,-0.418313,-1.350971]},{\"charge\":0.027108,\"element\":\"H\",\"location\":[-3.542355,0.052164,-3.548285]},{\"charge\":0.027108,\"element\":\"H\",\"location\":[-2.321951,0.302742,-4.773395]},{\"charge\":0.026953,\"element\":\"H\",\"location\":[-2.617395,2.692907,1.499575]},{\"charge\":0.026953,\"element\":\"H\",\"location\":[-2.953165,2.332313,-0.176820]},{\"charge\":0.030462,\"element\":\"H\",\"location\":[4.004591,-1.011380,3.075157]},{\"charge\":0.030462,\"element\":\"H\",\"location\":[2.453908,-0.293310,3.439613]},{\"charge\":0.029158,\"element\":\"H\",\"location\":[2.890640,-2.741425,1.744174]},{\"charge\":0.029158,\"element\":\"H\",\"location\":[2.503190,-1.147166,1.143102]},{\"charge\":0.209817,\"element\":\"H\",\"location\":[0.834314,-3.538481,0.789434]},{\"charge\":0.024116,\"element\":\"H\",\"location\":[0.251068,0.726755,3.957344]},{\"charge\":0.024116,\"element\":\"H\",\"location\":[0.638515,-0.867504,4.558414]},{\"charge\":0.024116,\"element\":\"H\",\"location\":[1.801749,0.008682,3.592881]},{\"element\":\"H\",\"location\":[0.307041,0.456863,-4.170686]},{\"element\":\"H\",\"location\":[0.927041,0.456863,-4.170686]}],\"bonds\":[{\"atoms\":[0,1],\"order\":2},{\"atoms\":[1,2],\"order\":1},{\"atoms\":[2,3],\"order\":1},{\"atoms\":[3,4],\"order\":1},{\"atoms\":[4,5],\"order\":1},{\"atoms\":[5,6],\"order\":1},{\"atoms\":[1,5],\"order\":1},{\"atoms\":[5,7],\"order\":1},{\"atoms\":[7,8],\"order\":1},{\"atoms\":[8,9],\"order\":1},{\"atoms\":[9,10],\"order\":1},{\"atoms\":[3,9],\"order\":1},{\"atoms\":[9,11],\"order\":1},{\"atoms\":[11,12],\"order\":1},{\"atoms\":[12,13],\"order\":1},{\"atoms\":[13,14],\"order\":1},{\"atoms\":[14,15],\"order\":1},{\"atoms\":[14,16],\"order\":1},{\"atoms\":[14,17],\"order\":1},{\"atoms\":[17,18],\"order\":1},{\"atoms\":[17,19],\"order\":1},{\"atoms\":[19,20],\"order\":2},{\"atoms\":[19,21],\"order\":1},{\"atoms\":[11,21],\"order\":1},{\"atoms\":[17,22],\"order\":1},{\"atoms\":[22,23],\"order\":1},{\"atoms\":[11,22],\"order\":1},{\"atoms\":[22,24],\"order\":1},{\"atoms\":[24,25],\"order\":1},{\"atoms\":[3,24],\"order\":1},{\"atoms\":[24,26],\"order\":1},{\"atoms\":[26,27],\"order\":2},{\"atoms\":[26,28],\"order\":1},{\"atoms\":[0,29],\"order\":1},{\"atoms\":[0,30],\"order\":1},{\"atoms\":[2,31],\"order\":1},{\"atoms\":[2,32],\"order\":1},{\"atoms\":[4,33],\"order\":1},{\"atoms\":[4,34],\"order\":1},{\"atoms\":[7,35],\"order\":1},{\"atoms\":[7,36],\"order\":1},{\"atoms\":[8,37],\"order\":1},{\"atoms\":[8,38],\"order\":1},{\"atoms\":[12,39],\"order\":1},{\"atoms\":[12,40],\"order\":1},{\"atoms\":[13,41],\"order\":1},{\"atoms\":[13,42],\"order\":1},{\"atoms\":[16,43],\"order\":1},{\"atoms\":[18,44],\"order\":1},{\"atoms\":[18,45],\"order\":1},{\"atoms\":[18,46],\"order\":1},{\"atoms\":[47,48],\"order\":1}],\"formula\":\"C19H25O5\",\"molecular_weight\":333.398800,\"units\":{\"molecular_weight\":\"g / mol\"}});\n",
       "\n",
       "               $d.resizable({\n",
       "                   aspectRatio: 400 / 300,\n",
       "                   resize: function (evt, ui) {\n",
       "                       $d.imolecule.renderer.setSize(ui.size.width,\n",
       "                                                     ui.size.height);\n",
       "                   }\n",
       "               });\n",
       "           });\n",
       "           </script>"
      ],
      "text/plain": [
       "<IPython.core.display.HTML object>"
      ]
     },
     "execution_count": 79,
     "metadata": {},
     "output_type": "execute_result"
    }
   ],
   "source": [
    "mol.OBMol.AddAtom(hydrogen)\n",
    "mol.make3D()\n",
    "mol.localopt(steps=1000)\n",
    "print len(mol.atoms), mol.charge\n",
    "draw_html(mol)"
   ]
  },
  {
   "cell_type": "code",
   "execution_count": 85,
   "metadata": {},
   "outputs": [
    {
     "ename": "NotImplementedError",
     "evalue": "Wrong number or type of arguments for overloaded function 'OBMol_NewBond'.\n  Possible C/C++ prototypes are:\n    OpenBabel::OBMol::NewBond()\n    OpenBabel::OBMol::NewBond(unsigned long)\n",
     "output_type": "error",
     "traceback": [
      "\u001b[0;31m----------------------------------------------------\u001b[0m",
      "\u001b[0;31mNotImplementedError\u001b[0mTraceback (most recent call last)",
      "\u001b[0;32m<ipython-input-85-c404e45cabee>\u001b[0m in \u001b[0;36m<module>\u001b[0;34m()\u001b[0m\n\u001b[1;32m      5\u001b[0m         \u001b[0mtmpmol\u001b[0m \u001b[0;34m=\u001b[0m \u001b[0mmol\u001b[0m\u001b[0;34m\u001b[0m\u001b[0m\n\u001b[1;32m      6\u001b[0m         \u001b[0mtmpmol\u001b[0m\u001b[0;34m.\u001b[0m\u001b[0mOBMol\u001b[0m\u001b[0;34m.\u001b[0m\u001b[0mAddAtom\u001b[0m\u001b[0;34m(\u001b[0m\u001b[0mhydrogen\u001b[0m\u001b[0;34m)\u001b[0m\u001b[0;34m\u001b[0m\u001b[0m\n\u001b[0;32m----> 7\u001b[0;31m         \u001b[0mtmpmol\u001b[0m\u001b[0;34m.\u001b[0m\u001b[0mOBMol\u001b[0m\u001b[0;34m.\u001b[0m\u001b[0mNewBond\u001b[0m\u001b[0;34m(\u001b[0m\u001b[0matom\u001b[0m\u001b[0;34m.\u001b[0m\u001b[0midx\u001b[0m\u001b[0;34m,\u001b[0m \u001b[0mtmpmol\u001b[0m\u001b[0;34m.\u001b[0m\u001b[0matoms\u001b[0m\u001b[0;34m[\u001b[0m\u001b[0;34m-\u001b[0m\u001b[0;36m1\u001b[0m\u001b[0;34m]\u001b[0m\u001b[0;34m)\u001b[0m\u001b[0;34m\u001b[0m\u001b[0m\n\u001b[0m\u001b[1;32m      8\u001b[0m         \u001b[0mtmpmol\u001b[0m\u001b[0;34m.\u001b[0m\u001b[0mOBMol\u001b[0m\u001b[0;34m.\u001b[0m\u001b[0mSetCharge\u001b[0m\u001b[0;34m(\u001b[0m\u001b[0mmol\u001b[0m\u001b[0;34m.\u001b[0m\u001b[0mcharge\u001b[0m\u001b[0;34m+\u001b[0m\u001b[0;36m1\u001b[0m\u001b[0;34m)\u001b[0m\u001b[0;34m\u001b[0m\u001b[0m\n\u001b[1;32m      9\u001b[0m         \u001b[0msingle_protonations\u001b[0m\u001b[0;34m.\u001b[0m\u001b[0mappend\u001b[0m\u001b[0;34m(\u001b[0m\u001b[0mtmpmol\u001b[0m\u001b[0;34m)\u001b[0m\u001b[0;34m\u001b[0m\u001b[0m\n",
      "\u001b[0;31mNotImplementedError\u001b[0m: Wrong number or type of arguments for overloaded function 'OBMol_NewBond'.\n  Possible C/C++ prototypes are:\n    OpenBabel::OBMol::NewBond()\n    OpenBabel::OBMol::NewBond(unsigned long)\n"
     ]
    }
   ],
   "source": [
    "single_protonations = []\n",
    "\n",
    "for atom in mol.atoms:\n",
    "    if atom.atomicnum > 1:\n",
    "        tmpmol = mol\n",
    "        tmpmol.OBMol.AddAtom(hydrogen)\n",
    "        tmpmol.OBMol.NewBond(atom.idx)\n",
    "        tmpmol.OBMol.SetCharge(mol.charge+1)\n",
    "        single_protonations.append(tmpmol)"
   ]
  },
  {
   "cell_type": "code",
   "execution_count": 49,
   "metadata": {},
   "outputs": [
    {
     "name": "stdout",
     "output_type": "stream",
     "text": [
      "Atom C3, valence 2, hybridization 3, nonHneighbors 2, formalcharge 0\n",
      "Atom C3, valence 2, hybridization 3, nonHneighbors 2, formalcharge 1\n",
      "49\n"
     ]
    },
    {
     "data": {
      "image/svg+xml": [
       "<svg xmlns=\"http://www.w3.org/2000/svg\" font-family=\"sans-serif\" height=\"100\" stroke=\"rgb(0,0,0)\" stroke-linecap=\"round\" stroke-width=\"2\" viewBox=\"0 0 455.127 313.413\" width=\"100\" x=\"0\" y=\"0\">\n",
       "<line stroke=\"rgb(0,0,0)\" stroke-width=\"2.0\" x1=\"306.4\" x2=\"272.7\" y1=\"162.6\" y2=\"177.7\" />\n",
       "<line stroke=\"rgb(0,0,0)\" stroke-width=\"2.0\" x1=\"304.0\" x2=\"270.2\" y1=\"157.2\" y2=\"172.2\" />\n",
       "<polygon fill=\"rgb(0,0,0)\" points=\"268.117137 206.756209 287.959188 222.101540 282.118520 227.568403 \" stroke=\"rgb(0,0,0)\" stroke-width=\"2.000000\" />\n",
       "<line stroke=\"rgb(0,0,0)\" stroke-width=\"1.0\" x1=\"193.3\" x2=\"191.8\" y1=\"208.9\" y2=\"208.6\" />\n",
       "<line stroke=\"rgb(0,0,0)\" stroke-width=\"1.0\" x1=\"192.3\" x2=\"189.5\" y1=\"216.8\" y2=\"216.2\" />\n",
       "<line stroke=\"rgb(0,0,0)\" stroke-width=\"1.0\" x1=\"191.3\" x2=\"187.2\" y1=\"224.7\" y2=\"223.8\" />\n",
       "<line stroke=\"rgb(0,0,0)\" stroke-width=\"1.0\" x1=\"190.3\" x2=\"184.9\" y1=\"232.5\" y2=\"231.4\" />\n",
       "<line stroke=\"rgb(0,0,0)\" stroke-width=\"1.0\" x1=\"189.2\" x2=\"182.7\" y1=\"240.4\" y2=\"239.0\" />\n",
       "<line stroke=\"rgb(0,0,0)\" stroke-width=\"1.0\" x1=\"188.2\" x2=\"180.4\" y1=\"248.3\" y2=\"246.6\" />\n",
       "<line stroke=\"rgb(0,0,0)\" stroke-width=\"1.0\" x1=\"212.6\" x2=\"211.3\" y1=\"175.6\" y2=\"174.6\" />\n",
       "<line stroke=\"rgb(0,0,0)\" stroke-width=\"1.0\" x1=\"209.7\" x2=\"207.3\" y1=\"180.7\" y2=\"179.0\" />\n",
       "<line stroke=\"rgb(0,0,0)\" stroke-width=\"1.0\" x1=\"206.7\" x2=\"203.3\" y1=\"185.9\" y2=\"183.5\" />\n",
       "<line stroke=\"rgb(0,0,0)\" stroke-width=\"1.0\" x1=\"203.8\" x2=\"199.4\" y1=\"191.1\" y2=\"187.9\" />\n",
       "<line stroke=\"rgb(0,0,0)\" stroke-width=\"1.0\" x1=\"200.8\" x2=\"195.4\" y1=\"196.2\" y2=\"192.3\" />\n",
       "<line stroke=\"rgb(0,0,0)\" stroke-width=\"1.0\" x1=\"197.8\" x2=\"191.4\" y1=\"201.4\" y2=\"196.7\" />\n",
       "<line stroke=\"rgb(0,0,0)\" stroke-width=\"1.0\" x1=\"166.7\" x2=\"166.2\" y1=\"189.1\" y2=\"190.7\" />\n",
       "<line stroke=\"rgb(0,0,0)\" stroke-width=\"1.0\" x1=\"172.6\" x2=\"171.7\" y1=\"190.4\" y2=\"193.1\" />\n",
       "<line stroke=\"rgb(0,0,0)\" stroke-width=\"1.0\" x1=\"178.4\" x2=\"177.1\" y1=\"191.6\" y2=\"195.5\" />\n",
       "<line stroke=\"rgb(0,0,0)\" stroke-width=\"1.0\" x1=\"184.2\" x2=\"182.5\" y1=\"192.8\" y2=\"198.0\" />\n",
       "<line stroke=\"rgb(0,0,0)\" stroke-width=\"1.0\" x1=\"190.0\" x2=\"187.9\" y1=\"194.0\" y2=\"200.4\" />\n",
       "<line stroke=\"rgb(0,0,0)\" stroke-width=\"1.0\" x1=\"195.8\" x2=\"193.4\" y1=\"195.2\" y2=\"202.8\" />\n",
       "<line stroke=\"rgb(0,0,0)\" stroke-width=\"2.0\" x1=\"95.4\" x2=\"71.5\" y1=\"150.6\" y2=\"150.6\" />\n",
       "<line stroke=\"rgb(0,0,0)\" stroke-width=\"2.0\" x1=\"95.4\" x2=\"83.5\" y1=\"150.6\" y2=\"129.9\" />\n",
       "<polygon fill=\"rgb(0,0,0)\" points=\"95.438647 150.649566 125.446164 128.705916 129.446164 135.634119 \" stroke=\"rgb(0,0,0)\" stroke-width=\"2.000000\" />\n",
       "<polygon fill=\"rgb(0,0,0)\" points=\"127.446164 132.170017 76.031631 78.911728 82.079062 73.674499 \" stroke=\"rgb(0,0,0)\" stroke-width=\"2.000000\" />\n",
       "<line stroke=\"rgb(0,0,0)\" stroke-width=\"2.0\" x1=\"156.9\" x2=\"187.3\" y1=\"130.7\" y2=\"77.9\" />\n",
       "<line stroke=\"rgb(0,0,0)\" stroke-width=\"2.0\" x1=\"162.1\" x2=\"192.5\" y1=\"133.7\" y2=\"80.9\" />\n",
       "<polygon fill=\"rgb(0,0,0)\" points=\"159.453682 150.649566 125.446164 135.634119 129.446164 128.705916 \" stroke=\"rgb(0,0,0)\" stroke-width=\"2.000000\" />\n",
       "<line stroke=\"rgb(0,0,0)\" stroke-width=\"2.0\" x1=\"159.5\" x2=\"149.7\" y1=\"150.6\" y2=\"128.8\" />\n",
       "<line stroke=\"rgb(0,0,0)\" stroke-width=\"1.0\" x1=\"187.8\" x2=\"187.3\" y1=\"142.3\" y2=\"140.8\" />\n",
       "<line stroke=\"rgb(0,0,0)\" stroke-width=\"1.0\" x1=\"182.4\" x2=\"181.5\" y1=\"144.7\" y2=\"142.0\" />\n",
       "<line stroke=\"rgb(0,0,0)\" stroke-width=\"1.0\" x1=\"177.0\" x2=\"175.7\" y1=\"147.1\" y2=\"143.2\" />\n",
       "<line stroke=\"rgb(0,0,0)\" stroke-width=\"1.0\" x1=\"171.5\" x2=\"169.9\" y1=\"149.6\" y2=\"144.4\" />\n",
       "<line stroke=\"rgb(0,0,0)\" stroke-width=\"1.0\" x1=\"166.1\" x2=\"164.0\" y1=\"152.0\" y2=\"145.6\" />\n",
       "<line stroke=\"rgb(0,0,0)\" stroke-width=\"1.0\" x1=\"160.7\" x2=\"158.2\" y1=\"154.5\" y2=\"146.8\" />\n",
       "<line stroke=\"rgb(0,0,0)\" stroke-width=\"2.0\" x1=\"194.6\" x2=\"189.6\" y1=\"139.2\" y2=\"115.8\" />\n",
       "<line stroke=\"rgb(0,0,0)\" stroke-width=\"2.0\" x1=\"194.6\" x2=\"249.5\" y1=\"139.2\" y2=\"89.8\" />\n",
       "<line stroke=\"rgb(0,0,0)\" stroke-width=\"2.0\" x1=\"250.5\" x2=\"273.2\" y1=\"86.9\" y2=\"94.3\" />\n",
       "<line stroke=\"rgb(0,0,0)\" stroke-width=\"2.0\" x1=\"248.6\" x2=\"271.4\" y1=\"92.6\" y2=\"100.0\" />\n",
       "<line stroke=\"rgb(0,0,0)\" stroke-width=\"2.0\" x1=\"249.5\" x2=\"244.6\" y1=\"89.8\" y2=\"66.3\" />\n",
       "<line stroke=\"rgb(0,0,0)\" stroke-width=\"2.0\" x1=\"305.2\" x2=\"324.6\" y1=\"159.9\" y2=\"174.0\" />\n",
       "<line stroke=\"rgb(0,0,0)\" stroke-width=\"2.0\" x1=\"305.2\" x2=\"307.7\" y1=\"159.9\" y2=\"136.1\" />\n",
       "<line stroke=\"rgb(0,0,0)\" stroke-width=\"2.0\" x1=\"245.6\" x2=\"235.8\" y1=\"156.1\" y2=\"134.2\" />\n",
       "<line stroke=\"rgb(0,0,0)\" stroke-width=\"2.0\" x1=\"245.6\" x2=\"259.7\" y1=\"156.1\" y2=\"136.7\" />\n",
       "<line stroke=\"rgb(0,0,0)\" stroke-width=\"2.0\" x1=\"253.1\" x2=\"255.6\" y1=\"173.0\" y2=\"149.2\" />\n",
       "<line stroke=\"rgb(0,0,0)\" stroke-width=\"2.0\" x1=\"253.1\" x2=\"275.0\" y1=\"173.0\" y2=\"163.2\" />\n",
       "<line stroke=\"rgb(0,0,0)\" stroke-width=\"2.0\" x1=\"246.4\" x2=\"265.8\" y1=\"236.7\" y2=\"250.7\" />\n",
       "<line stroke=\"rgb(0,0,0)\" stroke-width=\"2.0\" x1=\"246.4\" x2=\"243.9\" y1=\"236.7\" y2=\"260.5\" />\n",
       "<line stroke=\"rgb(0,0,0)\" stroke-width=\"2.0\" x1=\"209.6\" x2=\"207.1\" y1=\"232.8\" y2=\"256.6\" />\n",
       "<line stroke=\"rgb(0,0,0)\" stroke-width=\"2.0\" x1=\"209.6\" x2=\"187.7\" y1=\"232.8\" y2=\"242.5\" />\n",
       "<line stroke=\"rgb(0,0,0)\" stroke-width=\"2.0\" x1=\"127.4\" x2=\"139.4\" y1=\"206.1\" y2=\"226.8\" />\n",
       "<line stroke=\"rgb(0,0,0)\" stroke-width=\"2.0\" x1=\"127.4\" x2=\"97.0\" y1=\"206.1\" y2=\"258.8\" />\n",
       "<line stroke=\"rgb(0,0,0)\" stroke-width=\"2.0\" x1=\"95.4\" x2=\"98.6\" y1=\"187.6\" y2=\"211.4\" />\n",
       "<line stroke=\"rgb(0,0,0)\" stroke-width=\"2.0\" x1=\"95.4\" x2=\"72.3\" y1=\"187.6\" y2=\"181.4\" />\n",
       "<line stroke=\"rgb(0,0,0)\" stroke-width=\"2.0\" x1=\"64.0\" x2=\"53.0\" y1=\"118.6\" y2=\"118.6\" />\n",
       "<line stroke=\"rgb(0,0,0)\" stroke-width=\"2.0\" x1=\"79.1\" x2=\"74.5\" y1=\"76.3\" y2=\"52.8\" />\n",
       "<line stroke=\"rgb(0,0,0)\" stroke-width=\"2.0\" x1=\"79.1\" x2=\"97.2\" y1=\"76.3\" y2=\"60.6\" />\n",
       "<line stroke=\"rgb(0,0,0)\" stroke-width=\"2.0\" x1=\"79.1\" x2=\"55.5\" y1=\"76.3\" y2=\"80.8\" />\n",
       "<line stroke=\"rgb(0,0,0)\" stroke-width=\"2.0\" x1=\"402.1\" x2=\"388.1\" y1=\"40.0\" y2=\"40.0\" />\n",
       "<line stroke=\"rgb(0,0,0)\" stroke-width=\"2.0\" x1=\"216.3\" x2=\"253.1\" y1=\"169.1\" y2=\"173.0\" />\n",
       "<line stroke=\"rgb(0,0,0)\" stroke-width=\"2.0\" x1=\"253.1\" x2=\"268.1\" y1=\"173.0\" y2=\"206.8\" />\n",
       "<line stroke=\"rgb(0,0,0)\" stroke-width=\"2.0\" x1=\"268.1\" x2=\"271.5\" y1=\"206.8\" y2=\"174.9\" />\n",
       "<line stroke=\"rgb(0,0,0)\" stroke-width=\"2.0\" x1=\"271.5\" x2=\"245.6\" y1=\"174.9\" y2=\"156.1\" />\n",
       "<line stroke=\"rgb(0,0,0)\" stroke-width=\"2.0\" x1=\"245.6\" x2=\"216.3\" y1=\"156.1\" y2=\"169.1\" />\n",
       "<line stroke=\"rgb(0,0,0)\" stroke-width=\"2.0\" x1=\"159.5\" x2=\"127.4\" y1=\"132.2\" y2=\"132.2\" />\n",
       "<line stroke=\"rgb(0,0,0)\" stroke-width=\"2.0\" x1=\"127.4\" x2=\"159.5\" y1=\"132.2\" y2=\"150.6\" />\n",
       "<line stroke=\"rgb(0,0,0)\" stroke-width=\"2.0\" x1=\"159.5\" x2=\"159.5\" y1=\"150.6\" y2=\"187.6\" />\n",
       "<line stroke=\"rgb(0,0,0)\" stroke-width=\"2.0\" x1=\"159.5\" x2=\"169.0\" y1=\"187.6\" y2=\"171.1\" />\n",
       "<line stroke=\"rgb(0,0,0)\" stroke-width=\"2.0\" x1=\"169.0\" x2=\"159.5\" y1=\"148.6\" y2=\"132.2\" />\n",
       "<line stroke=\"rgb(0,0,0)\" stroke-width=\"2.0\" x1=\"159.5\" x2=\"194.6\" y1=\"150.6\" y2=\"139.2\" />\n",
       "<line stroke=\"rgb(0,0,0)\" stroke-width=\"2.0\" x1=\"194.6\" x2=\"216.3\" y1=\"139.2\" y2=\"169.1\" />\n",
       "<line stroke=\"rgb(0,0,0)\" stroke-width=\"2.0\" x1=\"216.3\" x2=\"194.6\" y1=\"169.1\" y2=\"199.0\" />\n",
       "<line stroke=\"rgb(0,0,0)\" stroke-width=\"2.0\" x1=\"194.6\" x2=\"159.5\" y1=\"199.0\" y2=\"187.6\" />\n",
       "<line stroke=\"rgb(0,0,0)\" stroke-width=\"2.0\" x1=\"268.1\" x2=\"246.4\" y1=\"206.8\" y2=\"236.7\" />\n",
       "<line stroke=\"rgb(0,0,0)\" stroke-width=\"2.0\" x1=\"246.4\" x2=\"209.6\" y1=\"236.7\" y2=\"232.8\" />\n",
       "<line stroke=\"rgb(0,0,0)\" stroke-width=\"2.0\" x1=\"209.6\" x2=\"194.6\" y1=\"232.8\" y2=\"199.0\" />\n",
       "<line stroke=\"rgb(0,0,0)\" stroke-width=\"2.0\" x1=\"95.4\" x2=\"127.4\" y1=\"150.6\" y2=\"132.2\" />\n",
       "<line stroke=\"rgb(0,0,0)\" stroke-width=\"2.0\" x1=\"159.5\" x2=\"127.4\" y1=\"187.6\" y2=\"206.1\" />\n",
       "<line stroke=\"rgb(0,0,0)\" stroke-width=\"2.0\" x1=\"127.4\" x2=\"95.4\" y1=\"206.1\" y2=\"187.6\" />\n",
       "<line stroke=\"rgb(0,0,0)\" stroke-width=\"2.0\" x1=\"95.4\" x2=\"95.4\" y1=\"187.6\" y2=\"150.6\" />\n",
       "<text fill=\"rgb(191,191,191)\" font-size=\"16\" stroke=\"rgb(191,191,191)\" stroke-width=\"1\" x=\"236.529847\" y=\"281.413379\">H</text>\n",
       "<text fill=\"rgb(191,191,191)\" font-size=\"16\" stroke=\"rgb(191,191,191)\" stroke-width=\"1\" x=\"180.919644\" y=\"111.077124\">H</text>\n",
       "<text fill=\"rgb(255,12,12)\" font-size=\"16\" stroke=\"rgb(255,12,12)\" stroke-width=\"1\" x=\"278.685989\" y=\"109.188639\">O</text>\n",
       "<text fill=\"rgb(255,12,12)\" font-size=\"16\" stroke=\"rgb(255,12,12)\" stroke-width=\"1\" x=\"246.651569\" y=\"39.504197\">_</text>\n",
       "<text fill=\"rgb(255,12,12)\" font-size=\"16\" stroke=\"rgb(255,12,12)\" stroke-width=\"1\" x=\"235.851569\" y=\"61.616197\">O</text>\n",
       "<text fill=\"rgb(191,191,191)\" font-size=\"16\" stroke=\"rgb(191,191,191)\" stroke-width=\"1\" x=\"409.127188\" y=\"48.000000\">H</text>\n",
       "<text fill=\"rgb(191,191,191)\" font-size=\"16\" stroke=\"rgb(191,191,191)\" stroke-width=\"1\" x=\"329.127188\" y=\"189.615425\">H</text>\n",
       "<text fill=\"rgb(191,191,191)\" font-size=\"16\" stroke=\"rgb(191,191,191)\" stroke-width=\"1\" x=\"303.089928\" y=\"131.134780\">H</text>\n",
       "<text fill=\"rgb(191,191,191)\" font-size=\"16\" stroke=\"rgb(191,191,191)\" stroke-width=\"1\" x=\"224.535589\" y=\"130.346669\">H</text>\n",
       "<text fill=\"rgb(191,191,191)\" font-size=\"16\" stroke=\"rgb(191,191,191)\" stroke-width=\"1\" x=\"261.292221\" y=\"134.209947\">H</text>\n",
       "<text fill=\"rgb(191,191,191)\" font-size=\"16\" stroke=\"rgb(191,191,191)\" stroke-width=\"1\" x=\"250.947795\" y=\"144.235761\">H</text>\n",
       "<text fill=\"rgb(191,191,191)\" font-size=\"16\" stroke=\"rgb(191,191,191)\" stroke-width=\"1\" x=\"280.848334\" y=\"165.959774\">H</text>\n",
       "<text fill=\"rgb(191,191,191)\" font-size=\"16\" stroke=\"rgb(191,191,191)\" stroke-width=\"1\" x=\"270.293663\" y=\"266.380760\">H</text>\n",
       "<text fill=\"rgb(191,191,191)\" font-size=\"16\" stroke=\"rgb(191,191,191)\" stroke-width=\"1\" x=\"199.773215\" y=\"277.550102\">H</text>\n",
       "<text fill=\"rgb(191,191,191)\" font-size=\"16\" stroke=\"rgb(191,191,191)\" stroke-width=\"1\" x=\"169.872676\" y=\"255.826089\">H</text>\n",
       "<text fill=\"rgb(191,191,191)\" font-size=\"16\" stroke=\"rgb(191,191,191)\" stroke-width=\"1\" x=\"139.925713\" y=\"246.095731\">H</text>\n",
       "<text fill=\"rgb(191,191,191)\" font-size=\"16\" stroke=\"rgb(191,191,191)\" stroke-width=\"1\" x=\"84.487067\" y=\"278.103249\">H</text>\n",
       "<text fill=\"rgb(191,191,191)\" font-size=\"16\" stroke=\"rgb(191,191,191)\" stroke-width=\"1\" x=\"94.262777\" y=\"232.251572\">H</text>\n",
       "<text fill=\"rgb(191,191,191)\" font-size=\"16\" stroke=\"rgb(191,191,191)\" stroke-width=\"1\" x=\"53.738900\" y=\"186.042946\">H</text>\n",
       "<text fill=\"rgb(191,191,191)\" font-size=\"16\" stroke=\"rgb(191,191,191)\" stroke-width=\"1\" x=\"34.000000\" y=\"126.642049\">H</text>\n",
       "<text fill=\"rgb(191,191,191)\" font-size=\"16\" stroke=\"rgb(191,191,191)\" stroke-width=\"1\" x=\"66.070733\" y=\"48.000000\">H</text>\n",
       "<text fill=\"rgb(191,191,191)\" font-size=\"16\" stroke=\"rgb(191,191,191)\" stroke-width=\"1\" x=\"100.993798\" y=\"60.097705\">H</text>\n",
       "<text fill=\"rgb(191,191,191)\" font-size=\"16\" stroke=\"rgb(191,191,191)\" stroke-width=\"1\" x=\"36.762233\" y=\"91.277727\">H</text>\n",
       "<text fill=\"rgb(191,191,191)\" font-size=\"16\" stroke=\"rgb(191,191,191)\" stroke-width=\"1\" x=\"369.127188\" y=\"48.000000\">H</text>\n",
       "<text fill=\"rgb(102,102,102)\" font-size=\"16\" stroke=\"rgb(102,102,102)\" stroke-width=\"1\" x=\"250.368208\" y=\"152.078485\">+</text>\n",
       "<text fill=\"rgb(191,191,191)\" font-size=\"16\" stroke=\"rgb(191,191,191)\" stroke-width=\"1\" x=\"287.373430\" y=\"241.739437\">H</text>\n",
       "<text fill=\"rgb(191,191,191)\" font-size=\"16\" stroke=\"rgb(191,191,191)\" stroke-width=\"1\" x=\"173.235416\" y=\"279.332559\">H</text>\n",
       "<text fill=\"rgb(191,191,191)\" font-size=\"16\" stroke=\"rgb(191,191,191)\" stroke-width=\"1\" x=\"52.479549\" y=\"158.649566\">H</text>\n",
       "<text fill=\"rgb(255,12,12)\" font-size=\"16\" stroke=\"rgb(255,12,12)\" stroke-width=\"1\" x=\"70.959098\" y=\"126.642049\">O</text>\n",
       "<text fill=\"rgb(255,12,12)\" font-size=\"16\" stroke=\"rgb(255,12,12)\" stroke-width=\"1\" x=\"190.412780\" y=\"76.154982\">O</text>\n",
       "<text fill=\"rgb(255,12,12)\" font-size=\"16\" stroke=\"rgb(255,12,12)\" stroke-width=\"1\" x=\"169.457441\" y=\"167.889341\">O</text>\n",
       "<text fill=\"rgb(191,191,191)\" font-size=\"16\" stroke=\"rgb(191,191,191)\" stroke-width=\"1\" x=\"138.421063\" y=\"124.885750\">H</text>\n",
       "</svg>\n"
      ],
      "text/plain": [
       "<pybel.Molecule at 0x7ff7362bc750>"
      ]
     },
     "execution_count": 49,
     "metadata": {},
     "output_type": "execute_result"
    }
   ],
   "source": [
    "mol = pybel.readstring('smi', smi)\n",
    "\n",
    "mol.OBMol.AddAtom(hydrogen)\n",
    "atom = mol.atoms[2]\n",
    "print \"Atom {}, valence {}, hybridization {}, nonHneighbors {}, formalcharge {}\".format(\n",
    "        atom.type, atom.valence, atom.hyb, atom.heavyvalence, atom.formalcharge)\n",
    "atom.OBAtom.SetFormalCharge(1)\n",
    "print \"Atom {}, valence {}, hybridization {}, nonHneighbors {}, formalcharge {}\".format(\n",
    "        atom.type, atom.valence, atom.hyb, atom.heavyvalence, atom.formalcharge)\n",
    "\n",
    "mol.addh()\n",
    "print len(mol.atoms)\n",
    "mol"
   ]
  },
  {
   "cell_type": "code",
   "execution_count": 23,
   "metadata": {},
   "outputs": [
    {
     "data": {
      "image/svg+xml": [
       "<svg xmlns=\"http://www.w3.org/2000/svg\" font-family=\"sans-serif\" height=\"100\" stroke=\"rgb(0,0,0)\" stroke-linecap=\"round\" stroke-width=\"2\" viewBox=\"0 0 375.127 313.413\" width=\"100\" x=\"0\" y=\"0\">\n",
       "<line stroke=\"rgb(0,0,0)\" stroke-width=\"2.0\" x1=\"68.7\" x2=\"102.4\" y1=\"150.8\" y2=\"135.7\" />\n",
       "<line stroke=\"rgb(0,0,0)\" stroke-width=\"2.0\" x1=\"71.1\" x2=\"104.9\" y1=\"156.3\" y2=\"141.2\" />\n",
       "<polygon fill=\"rgb(0,0,0)\" points=\"107.010051 106.657170 87.168000 91.311840 93.008668 85.844976 \" stroke=\"rgb(0,0,0)\" stroke-width=\"2.000000\" />\n",
       "<line stroke=\"rgb(0,0,0)\" stroke-width=\"2.0\" x1=\"180.5\" x2=\"193.2\" y1=\"114.4\" y2=\"54.8\" />\n",
       "<line stroke=\"rgb(0,0,0)\" stroke-width=\"1.0\" x1=\"176.8\" x2=\"175.5\" y1=\"120.8\" y2=\"119.9\" />\n",
       "<line stroke=\"rgb(0,0,0)\" stroke-width=\"1.0\" x1=\"173.9\" x2=\"171.5\" y1=\"126.0\" y2=\"124.3\" />\n",
       "<line stroke=\"rgb(0,0,0)\" stroke-width=\"1.0\" x1=\"170.9\" x2=\"167.5\" y1=\"131.2\" y2=\"128.7\" />\n",
       "<line stroke=\"rgb(0,0,0)\" stroke-width=\"1.0\" x1=\"168.0\" x2=\"163.6\" y1=\"136.3\" y2=\"133.1\" />\n",
       "<line stroke=\"rgb(0,0,0)\" stroke-width=\"1.0\" x1=\"165.0\" x2=\"159.6\" y1=\"141.5\" y2=\"137.5\" />\n",
       "<line stroke=\"rgb(0,0,0)\" stroke-width=\"1.0\" x1=\"162.0\" x2=\"155.6\" y1=\"146.6\" y2=\"141.9\" />\n",
       "<line stroke=\"rgb(0,0,0)\" stroke-width=\"1.0\" x1=\"208.4\" x2=\"208.9\" y1=\"124.3\" y2=\"122.8\" />\n",
       "<line stroke=\"rgb(0,0,0)\" stroke-width=\"1.0\" x1=\"202.6\" x2=\"203.5\" y1=\"123.1\" y2=\"120.3\" />\n",
       "<line stroke=\"rgb(0,0,0)\" stroke-width=\"1.0\" x1=\"196.8\" x2=\"198.0\" y1=\"121.8\" y2=\"117.9\" />\n",
       "<line stroke=\"rgb(0,0,0)\" stroke-width=\"1.0\" x1=\"190.9\" x2=\"192.6\" y1=\"120.6\" y2=\"115.5\" />\n",
       "<line stroke=\"rgb(0,0,0)\" stroke-width=\"1.0\" x1=\"185.1\" x2=\"187.2\" y1=\"119.4\" y2=\"113.0\" />\n",
       "<line stroke=\"rgb(0,0,0)\" stroke-width=\"1.0\" x1=\"179.3\" x2=\"181.8\" y1=\"118.2\" y2=\"110.6\" />\n",
       "<polygon fill=\"rgb(0,0,0)\" points=\"279.688541 162.763813 304.451137 158.763813 304.451137 166.763813 \" stroke=\"rgb(0,0,0)\" stroke-width=\"2.000000\" />\n",
       "<line stroke=\"rgb(0,0,0)\" stroke-width=\"2.0\" x1=\"279.7\" x2=\"291.7\" y1=\"162.8\" y2=\"183.5\" />\n",
       "<line stroke=\"rgb(0,0,0)\" stroke-width=\"1.0\" x1=\"253.7\" x2=\"254.5\" y1=\"176.9\" y2=\"178.2\" />\n",
       "<line stroke=\"rgb(0,0,0)\" stroke-width=\"1.0\" x1=\"258.5\" x2=\"259.9\" y1=\"173.3\" y2=\"175.8\" />\n",
       "<line stroke=\"rgb(0,0,0)\" stroke-width=\"1.0\" x1=\"263.3\" x2=\"265.4\" y1=\"169.8\" y2=\"173.4\" />\n",
       "<line stroke=\"rgb(0,0,0)\" stroke-width=\"1.0\" x1=\"268.1\" x2=\"270.8\" y1=\"166.3\" y2=\"171.0\" />\n",
       "<line stroke=\"rgb(0,0,0)\" stroke-width=\"1.0\" x1=\"272.9\" x2=\"276.2\" y1=\"162.8\" y2=\"168.6\" />\n",
       "<line stroke=\"rgb(0,0,0)\" stroke-width=\"1.0\" x1=\"277.7\" x2=\"281.7\" y1=\"159.3\" y2=\"166.2\" />\n",
       "<line stroke=\"rgb(0,0,0)\" stroke-width=\"2.0\" x1=\"247.7\" x2=\"296.1\" y1=\"181.2\" y2=\"237.1\" />\n",
       "<line stroke=\"rgb(0,0,0)\" stroke-width=\"2.0\" x1=\"218.3\" x2=\"187.8\" y1=\"182.7\" y2=\"235.5\" />\n",
       "<line stroke=\"rgb(0,0,0)\" stroke-width=\"2.0\" x1=\"213.1\" x2=\"182.6\" y1=\"179.7\" y2=\"232.5\" />\n",
       "<polygon fill=\"rgb(0,0,0)\" points=\"215.673506 162.763813 249.681024 177.779260 245.681024 184.707464 \" stroke=\"rgb(0,0,0)\" stroke-width=\"2.000000\" />\n",
       "<line stroke=\"rgb(0,0,0)\" stroke-width=\"2.0\" x1=\"215.7\" x2=\"225.4\" y1=\"162.8\" y2=\"184.7\" />\n",
       "<line stroke=\"rgb(0,0,0)\" stroke-width=\"1.0\" x1=\"187.3\" x2=\"187.8\" y1=\"171.1\" y2=\"172.7\" />\n",
       "<line stroke=\"rgb(0,0,0)\" stroke-width=\"1.0\" x1=\"192.7\" x2=\"193.6\" y1=\"168.7\" y2=\"171.4\" />\n",
       "<line stroke=\"rgb(0,0,0)\" stroke-width=\"1.0\" x1=\"198.2\" x2=\"199.4\" y1=\"166.3\" y2=\"170.2\" />\n",
       "<line stroke=\"rgb(0,0,0)\" stroke-width=\"1.0\" x1=\"203.6\" x2=\"205.3\" y1=\"163.8\" y2=\"169.0\" />\n",
       "<line stroke=\"rgb(0,0,0)\" stroke-width=\"1.0\" x1=\"209.0\" x2=\"211.1\" y1=\"161.4\" y2=\"167.8\" />\n",
       "<line stroke=\"rgb(0,0,0)\" stroke-width=\"1.0\" x1=\"214.4\" x2=\"216.9\" y1=\"159.0\" y2=\"166.6\" />\n",
       "<line stroke=\"rgb(0,0,0)\" stroke-width=\"2.0\" x1=\"180.5\" x2=\"185.5\" y1=\"174.2\" y2=\"197.6\" />\n",
       "<polygon fill=\"rgb(0,0,0)\" points=\"158.799302 144.284264 183.759383 171.833661 177.287247 176.535943 \" stroke=\"rgb(0,0,0)\" stroke-width=\"2.000000\" />\n",
       "<line stroke=\"rgb(0,0,0)\" stroke-width=\"2.0\" x1=\"180.5\" x2=\"125.6\" y1=\"174.2\" y2=\"223.6\" />\n",
       "<line stroke=\"rgb(0,0,0)\" stroke-width=\"2.0\" x1=\"124.7\" x2=\"101.9\" y1=\"226.5\" y2=\"219.1\" />\n",
       "<line stroke=\"rgb(0,0,0)\" stroke-width=\"2.0\" x1=\"126.5\" x2=\"103.7\" y1=\"220.8\" y2=\"213.4\" />\n",
       "<line stroke=\"rgb(0,0,0)\" stroke-width=\"2.0\" x1=\"125.6\" x2=\"130.6\" y1=\"223.6\" y2=\"247.1\" />\n",
       "<line stroke=\"rgb(0,0,0)\" stroke-width=\"2.0\" x1=\"69.9\" x2=\"50.5\" y1=\"153.5\" y2=\"139.4\" />\n",
       "<line stroke=\"rgb(0,0,0)\" stroke-width=\"2.0\" x1=\"69.9\" x2=\"67.4\" y1=\"153.5\" y2=\"177.3\" />\n",
       "<line stroke=\"rgb(0,0,0)\" stroke-width=\"2.0\" x1=\"129.6\" x2=\"139.3\" y1=\"157.3\" y2=\"179.2\" />\n",
       "<line stroke=\"rgb(0,0,0)\" stroke-width=\"2.0\" x1=\"129.6\" x2=\"115.5\" y1=\"157.3\" y2=\"176.7\" />\n",
       "<line stroke=\"rgb(0,0,0)\" stroke-width=\"2.0\" x1=\"122.0\" x2=\"119.5\" y1=\"140.4\" y2=\"164.2\" />\n",
       "<line stroke=\"rgb(0,0,0)\" stroke-width=\"2.0\" x1=\"122.0\" x2=\"100.2\" y1=\"140.4\" y2=\"150.2\" />\n",
       "<line stroke=\"rgb(0,0,0)\" stroke-width=\"2.0\" x1=\"128.7\" x2=\"109.4\" y1=\"76.8\" y2=\"62.7\" />\n",
       "<line stroke=\"rgb(0,0,0)\" stroke-width=\"2.0\" x1=\"128.7\" x2=\"131.2\" y1=\"76.8\" y2=\"52.9\" />\n",
       "<line stroke=\"rgb(0,0,0)\" stroke-width=\"2.0\" x1=\"165.5\" x2=\"168.0\" y1=\"80.6\" y2=\"56.8\" />\n",
       "<line stroke=\"rgb(0,0,0)\" stroke-width=\"2.0\" x1=\"165.5\" x2=\"187.4\" y1=\"80.6\" y2=\"70.9\" />\n",
       "<line stroke=\"rgb(0,0,0)\" stroke-width=\"2.0\" x1=\"247.7\" x2=\"235.7\" y1=\"107.3\" y2=\"86.6\" />\n",
       "<line stroke=\"rgb(0,0,0)\" stroke-width=\"2.0\" x1=\"247.7\" x2=\"278.1\" y1=\"107.3\" y2=\"54.6\" />\n",
       "<line stroke=\"rgb(0,0,0)\" stroke-width=\"2.0\" x1=\"279.7\" x2=\"276.6\" y1=\"125.8\" y2=\"102.1\" />\n",
       "<line stroke=\"rgb(0,0,0)\" stroke-width=\"2.0\" x1=\"279.7\" x2=\"302.8\" y1=\"125.8\" y2=\"132.0\" />\n",
       "<line stroke=\"rgb(0,0,0)\" stroke-width=\"2.0\" x1=\"311.2\" x2=\"322.1\" y1=\"194.8\" y2=\"194.8\" />\n",
       "<line stroke=\"rgb(0,0,0)\" stroke-width=\"2.0\" x1=\"296.1\" x2=\"300.6\" y1=\"237.1\" y2=\"260.6\" />\n",
       "<line stroke=\"rgb(0,0,0)\" stroke-width=\"2.0\" x1=\"296.1\" x2=\"278.0\" y1=\"237.1\" y2=\"252.8\" />\n",
       "<line stroke=\"rgb(0,0,0)\" stroke-width=\"2.0\" x1=\"296.1\" x2=\"319.6\" y1=\"237.1\" y2=\"232.6\" />\n",
       "<line stroke=\"rgb(0,0,0)\" stroke-width=\"2.0\" x1=\"158.8\" x2=\"122.0\" y1=\"144.3\" y2=\"140.4\" />\n",
       "<line stroke=\"rgb(0,0,0)\" stroke-width=\"2.0\" x1=\"122.0\" x2=\"107.0\" y1=\"140.4\" y2=\"106.7\" />\n",
       "<line stroke=\"rgb(0,0,0)\" stroke-width=\"2.0\" x1=\"107.0\" x2=\"103.7\" y1=\"106.7\" y2=\"138.5\" />\n",
       "<line stroke=\"rgb(0,0,0)\" stroke-width=\"2.0\" x1=\"103.7\" x2=\"129.6\" y1=\"138.5\" y2=\"157.3\" />\n",
       "<line stroke=\"rgb(0,0,0)\" stroke-width=\"2.0\" x1=\"129.6\" x2=\"158.8\" y1=\"157.3\" y2=\"144.3\" />\n",
       "<line stroke=\"rgb(0,0,0)\" stroke-width=\"2.0\" x1=\"215.7\" x2=\"247.7\" y1=\"181.2\" y2=\"181.2\" />\n",
       "<line stroke=\"rgb(0,0,0)\" stroke-width=\"2.0\" x1=\"247.7\" x2=\"215.7\" y1=\"181.2\" y2=\"162.8\" />\n",
       "<line stroke=\"rgb(0,0,0)\" stroke-width=\"2.0\" x1=\"215.7\" x2=\"215.7\" y1=\"162.8\" y2=\"125.8\" />\n",
       "<line stroke=\"rgb(0,0,0)\" stroke-width=\"2.0\" x1=\"215.7\" x2=\"206.2\" y1=\"125.8\" y2=\"142.3\" />\n",
       "<line stroke=\"rgb(0,0,0)\" stroke-width=\"2.0\" x1=\"206.2\" x2=\"215.7\" y1=\"164.8\" y2=\"181.2\" />\n",
       "<line stroke=\"rgb(0,0,0)\" stroke-width=\"2.0\" x1=\"215.7\" x2=\"180.5\" y1=\"162.8\" y2=\"174.2\" />\n",
       "<line stroke=\"rgb(0,0,0)\" stroke-width=\"2.0\" x1=\"180.5\" x2=\"158.8\" y1=\"174.2\" y2=\"144.3\" />\n",
       "<line stroke=\"rgb(0,0,0)\" stroke-width=\"2.0\" x1=\"158.8\" x2=\"180.5\" y1=\"144.3\" y2=\"114.4\" />\n",
       "<line stroke=\"rgb(0,0,0)\" stroke-width=\"2.0\" x1=\"180.5\" x2=\"215.7\" y1=\"114.4\" y2=\"125.8\" />\n",
       "<line stroke=\"rgb(0,0,0)\" stroke-width=\"2.0\" x1=\"107.0\" x2=\"128.7\" y1=\"106.7\" y2=\"76.8\" />\n",
       "<line stroke=\"rgb(0,0,0)\" stroke-width=\"2.0\" x1=\"128.7\" x2=\"165.5\" y1=\"76.8\" y2=\"80.6\" />\n",
       "<line stroke=\"rgb(0,0,0)\" stroke-width=\"2.0\" x1=\"165.5\" x2=\"180.5\" y1=\"80.6\" y2=\"114.4\" />\n",
       "<line stroke=\"rgb(0,0,0)\" stroke-width=\"2.0\" x1=\"279.7\" x2=\"247.7\" y1=\"162.8\" y2=\"181.2\" />\n",
       "<line stroke=\"rgb(0,0,0)\" stroke-width=\"2.0\" x1=\"215.7\" x2=\"247.7\" y1=\"125.8\" y2=\"107.3\" />\n",
       "<line stroke=\"rgb(0,0,0)\" stroke-width=\"2.0\" x1=\"247.7\" x2=\"279.7\" y1=\"107.3\" y2=\"125.8\" />\n",
       "<line stroke=\"rgb(0,0,0)\" stroke-width=\"2.0\" x1=\"279.7\" x2=\"279.7\" y1=\"125.8\" y2=\"162.8\" />\n",
       "<text fill=\"rgb(191,191,191)\" font-size=\"16\" stroke=\"rgb(191,191,191)\" stroke-width=\"1\" x=\"92.833525\" y=\"63.032619\">H</text>\n",
       "<text fill=\"rgb(191,191,191)\" font-size=\"16\" stroke=\"rgb(191,191,191)\" stroke-width=\"1\" x=\"182.207544\" y=\"218.336255\">H</text>\n",
       "<text fill=\"rgb(255,12,12)\" font-size=\"16\" stroke=\"rgb(255,12,12)\" stroke-width=\"1\" x=\"84.441199\" y=\"220.224740\">O</text>\n",
       "<text fill=\"rgb(255,12,12)\" font-size=\"16\" stroke=\"rgb(255,12,12)\" stroke-width=\"1\" x=\"138.075619\" y=\"245.685182\">_</text>\n",
       "<text fill=\"rgb(255,12,12)\" font-size=\"16\" stroke=\"rgb(255,12,12)\" stroke-width=\"1\" x=\"127.275619\" y=\"267.797182\">O</text>\n",
       "<text fill=\"rgb(191,191,191)\" font-size=\"16\" stroke=\"rgb(191,191,191)\" stroke-width=\"1\" x=\"34.000000\" y=\"139.797954\">H</text>\n",
       "<text fill=\"rgb(191,191,191)\" font-size=\"16\" stroke=\"rgb(191,191,191)\" stroke-width=\"1\" x=\"60.037261\" y=\"198.278599\">H</text>\n",
       "<text fill=\"rgb(191,191,191)\" font-size=\"16\" stroke=\"rgb(191,191,191)\" stroke-width=\"1\" x=\"138.591599\" y=\"199.066710\">H</text>\n",
       "<text fill=\"rgb(191,191,191)\" font-size=\"16\" stroke=\"rgb(191,191,191)\" stroke-width=\"1\" x=\"101.834967\" y=\"195.203433\">H</text>\n",
       "<text fill=\"rgb(191,191,191)\" font-size=\"16\" stroke=\"rgb(191,191,191)\" stroke-width=\"1\" x=\"112.179393\" y=\"185.177618\">H</text>\n",
       "<text fill=\"rgb(191,191,191)\" font-size=\"16\" stroke=\"rgb(191,191,191)\" stroke-width=\"1\" x=\"82.278854\" y=\"163.453606\">H</text>\n",
       "<text fill=\"rgb(191,191,191)\" font-size=\"16\" stroke=\"rgb(191,191,191)\" stroke-width=\"1\" x=\"224.706125\" y=\"204.527629\">H</text>\n",
       "<text fill=\"rgb(191,191,191)\" font-size=\"16\" stroke=\"rgb(191,191,191)\" stroke-width=\"1\" x=\"126.597341\" y=\"48.000000\">H</text>\n",
       "<text fill=\"rgb(191,191,191)\" font-size=\"16\" stroke=\"rgb(191,191,191)\" stroke-width=\"1\" x=\"163.353973\" y=\"51.863278\">H</text>\n",
       "<text fill=\"rgb(191,191,191)\" font-size=\"16\" stroke=\"rgb(191,191,191)\" stroke-width=\"1\" x=\"193.254512\" y=\"73.587290\">H</text>\n",
       "<text fill=\"rgb(191,191,191)\" font-size=\"16\" stroke=\"rgb(191,191,191)\" stroke-width=\"1\" x=\"223.201475\" y=\"83.317649\">H</text>\n",
       "<text fill=\"rgb(191,191,191)\" font-size=\"16\" stroke=\"rgb(191,191,191)\" stroke-width=\"1\" x=\"278.640121\" y=\"51.310131\">H</text>\n",
       "<text fill=\"rgb(191,191,191)\" font-size=\"16\" stroke=\"rgb(191,191,191)\" stroke-width=\"1\" x=\"268.864411\" y=\"97.161807\">H</text>\n",
       "<text fill=\"rgb(191,191,191)\" font-size=\"16\" stroke=\"rgb(191,191,191)\" stroke-width=\"1\" x=\"309.388288\" y=\"143.370434\">H</text>\n",
       "<text fill=\"rgb(191,191,191)\" font-size=\"16\" stroke=\"rgb(191,191,191)\" stroke-width=\"1\" x=\"329.127188\" y=\"202.771331\">H</text>\n",
       "<text fill=\"rgb(191,191,191)\" font-size=\"16\" stroke=\"rgb(191,191,191)\" stroke-width=\"1\" x=\"297.056455\" y=\"281.413379\">H</text>\n",
       "<text fill=\"rgb(191,191,191)\" font-size=\"16\" stroke=\"rgb(191,191,191)\" stroke-width=\"1\" x=\"262.133390\" y=\"269.315675\">H</text>\n",
       "<text fill=\"rgb(191,191,191)\" font-size=\"16\" stroke=\"rgb(191,191,191)\" stroke-width=\"1\" x=\"326.364955\" y=\"238.135653\">H</text>\n",
       "<text fill=\"rgb(191,191,191)\" font-size=\"16\" stroke=\"rgb(191,191,191)\" stroke-width=\"1\" x=\"75.753758\" y=\"87.673943\">H</text>\n",
       "<text fill=\"rgb(191,191,191)\" font-size=\"16\" stroke=\"rgb(191,191,191)\" stroke-width=\"1\" x=\"189.891772\" y=\"50.080820\">H</text>\n",
       "<text fill=\"rgb(191,191,191)\" font-size=\"16\" stroke=\"rgb(191,191,191)\" stroke-width=\"1\" x=\"310.647639\" y=\"170.763813\">H</text>\n",
       "<text fill=\"rgb(255,12,12)\" font-size=\"16\" stroke=\"rgb(255,12,12)\" stroke-width=\"1\" x=\"292.168090\" y=\"202.771331\">O</text>\n",
       "<text fill=\"rgb(255,12,12)\" font-size=\"16\" stroke=\"rgb(255,12,12)\" stroke-width=\"1\" x=\"172.714408\" y=\"253.258397\">O</text>\n",
       "<text fill=\"rgb(255,12,12)\" font-size=\"16\" stroke=\"rgb(255,12,12)\" stroke-width=\"1\" x=\"193.669747\" y=\"161.524039\">O</text>\n",
       "</svg>\n"
      ],
      "text/plain": [
       "<pybel.Molecule at 0x7ff7365df8d0>"
      ]
     },
     "execution_count": 23,
     "metadata": {},
     "output_type": "execute_result"
    }
   ],
   "source": [
    "mol"
   ]
  },
  {
   "cell_type": "code",
   "execution_count": 15,
   "metadata": {},
   "outputs": [
    {
     "name": "stdout",
     "output_type": "stream",
     "text": [
      "Atom C2, valence 1, hybridization 2, nonHneighbors 1\n",
      "Atom C2, valence 3, hybridization 2, nonHneighbors 3\n",
      "Atom C3, valence 2, hybridization 3, nonHneighbors 2\n",
      "Atom C3, valence 4, hybridization 3, nonHneighbors 4\n",
      "Atom C3, valence 2, hybridization 3, nonHneighbors 2\n",
      "Atom C3, valence 4, hybridization 3, nonHneighbors 3\n",
      "Atom H, valence 1, hybridization 0, nonHneighbors 1\n",
      "Atom C3, valence 2, hybridization 3, nonHneighbors 2\n",
      "Atom C3, valence 2, hybridization 3, nonHneighbors 2\n",
      "Atom C3, valence 4, hybridization 3, nonHneighbors 3\n",
      "Atom H, valence 1, hybridization 0, nonHneighbors 1\n",
      "Atom C3, valence 4, hybridization 3, nonHneighbors 4\n",
      "Atom C3, valence 2, hybridization 3, nonHneighbors 2\n",
      "Atom C3, valence 2, hybridization 3, nonHneighbors 2\n",
      "Atom C3, valence 4, hybridization 3, nonHneighbors 3\n",
      "Atom H, valence 1, hybridization 0, nonHneighbors 1\n",
      "Atom O3, valence 1, hybridization 3, nonHneighbors 1\n",
      "Atom C3, valence 4, hybridization 3, nonHneighbors 4\n",
      "Atom C3, valence 1, hybridization 3, nonHneighbors 1\n",
      "Atom C2, valence 3, hybridization 2, nonHneighbors 3\n",
      "Atom O2, valence 1, hybridization 2, nonHneighbors 1\n",
      "Atom O3, valence 2, hybridization 2, nonHneighbors 2\n",
      "Atom C3, valence 4, hybridization 3, nonHneighbors 3\n",
      "Atom H, valence 1, hybridization 0, nonHneighbors 1\n",
      "Atom C3, valence 4, hybridization 3, nonHneighbors 3\n",
      "Atom H, valence 1, hybridization 0, nonHneighbors 1\n",
      "Atom Cac, valence 3, hybridization 2, nonHneighbors 3\n",
      "Atom O.co2, valence 1, hybridization 2, nonHneighbors 1\n",
      "Atom O.co2, valence 1, hybridization 2, nonHneighbors 1\n"
     ]
    }
   ],
   "source": [
    "for atom in mol:\n",
    "    print \"Atom {}, valence {}, hybridization {}, nonHneighbors {}\".format(\n",
    "        atom.type, atom.valence, atom.hyb, atom.heavyvalence)"
   ]
  },
  {
   "cell_type": "code",
   "execution_count": 14,
   "metadata": {},
   "outputs": [
    {
     "data": {
      "text/plain": [
       "<Swig Object of type 'std::vector< double *,std::allocator< double * > > *' at 0x7ff73656b480>"
      ]
     },
     "execution_count": 14,
     "metadata": {},
     "output_type": "execute_result"
    }
   ],
   "source": [
    "mol.conformers"
   ]
  }
 ],
 "metadata": {
  "anaconda-cloud": {},
  "kernelspec": {
   "display_name": "Python [conda root]",
   "language": "python",
   "name": "conda-root-py"
  },
  "language_info": {
   "codemirror_mode": {
    "name": "ipython",
    "version": 2
   },
   "file_extension": ".py",
   "mimetype": "text/x-python",
   "name": "python",
   "nbconvert_exporter": "python",
   "pygments_lexer": "ipython2",
   "version": "2.7.13"
  }
 },
 "nbformat": 4,
 "nbformat_minor": 2
}
