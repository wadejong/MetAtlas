{
 "cells": [
  {
   "cell_type": "code",
   "execution_count": null,
   "metadata": {
    "collapsed": true
   },
   "outputs": [],
   "source": [
    "%reset"
   ]
  },
  {
   "cell_type": "code",
   "execution_count": 1,
   "metadata": {},
   "outputs": [],
   "source": [
    "import pandas as pd\n",
    "import hashlib\n",
    "from rdkit import Chem\n",
    "from rdkit.Chem import AllChem\n",
    "import pybel"
   ]
  },
  {
   "cell_type": "code",
   "execution_count": 2,
   "metadata": {
    "collapsed": true
   },
   "outputs": [],
   "source": [
    "df = pd.read_csv('chebi_and_metacyc_molecules.csv', dtype=str)"
   ]
  },
  {
   "cell_type": "code",
   "execution_count": null,
   "metadata": {
    "collapsed": true,
    "scrolled": false
   },
   "outputs": [],
   "source": [
    "s1 = lambda i: '{} {} {}'.format(df.loc[i, 'name'], \n",
    "                                 df.loc[i, 'sanitized_smiles'],\n",
    "                                 df.loc[i, 'formula'])\n",
    "\n",
    "s2 = lambda i: '{} {}'.format(df.loc[i, 'name'], df.loc[i, 'formula'])\n",
    "s3 = lambda i: '{} {}'.format(df.loc[i, 'name'], df.loc[i, 'sanitized_smiles'])\n",
    "s4 = lambda i: '{} {}'.format(df.loc[i, 'formula'], df.loc[i, 'sanitized_smiles'])\n",
    "\n",
    "potato = lambda s: [hashlib.sha256(s(i)).hexdigest() for i in range(len(df))]\n",
    "name_form_smile = potato(s1)\n",
    "name_form = potato(s2)\n",
    "name_smile = potato(s3)\n",
    "form_smile = potato(s4)\n",
    "\n",
    "df['name_form_smile'] = name_form_smile\n",
    "df['name_form'] = name_form\n",
    "df['name_smile'] = name_smile\n",
    "df['form_smile'] = form_smile"
   ]
  },
  {
   "cell_type": "code",
   "execution_count": 3,
   "metadata": {},
   "outputs": [],
   "source": [
    "# %load metatlas.py\n",
    "\"\"\"\n",
    "FireWorks implementation for the computation of electronic structure for\n",
    "molecules in the Metatlas database.\n",
    "\n",
    "-----------    ----------    -----------\n",
    "| Create  |    | Run    |    | Process |\n",
    "| Orca    | => | Orca   | => | Output  |\n",
    "| Input   |    | Calc   |    | File    |\n",
    "-----------    ----------    -----------\n",
    "\"\"\"\n",
    "import re\n",
    "import subprocess\n",
    "import pybel\n",
    "from mendeleev import element\n",
    "from fireworks import Firework, FiretaskBase, FWAction\n",
    "import psi4\n",
    "\n",
    "class ComputeEnergyTask(FiretaskBase):\n",
    "    _fw_name = 'ComputeEnergyTask'\n",
    "    required_params = ['input_string', 'calc_details']\n",
    "\n",
    "    def _write_string_to_orca_file(self, formula, input_string):\n",
    "        input_name = formula + '.inp'\n",
    "        with open(input_name, 'w') as f:\n",
    "            f.write(input_string)\n",
    "\n",
    "        return\n",
    "\n",
    "    def _calculate_energy(self):\n",
    "        formula = self['calc_details']['molecular_formula']\n",
    "        fname = formula + '.inp'\n",
    "        path_to_output = formula + '.out'\n",
    "        with open(path_to_output, 'w') as f:\n",
    "            p = subprocess.Popen(['srun', 'orca', formula+'.inp'], stdout=f)\n",
    "            p.wait()\n",
    "\n",
    "        return path_to_output\n",
    "\n",
    "    def run_task(self, fw_spec):\n",
    "        formula = self['calc_details']['molecular_formula']\n",
    "        input_string = self['input_string']\n",
    "        self._write_string_to_orca_file(formula, input_string)\n",
    "\n",
    "        try:\n",
    "            with open(formula+'.out', 'r') as f:\n",
    "                content = f.read()\n",
    "        except IOError:\n",
    "            print 'No output file found yet. Running!'\n",
    "            try:\n",
    "                path_to_output = self._calculate_energy()\n",
    "                with open(path_to_output, 'r') as f:\n",
    "                    contents = f.read()\n",
    "\n",
    "                if 'TERMINATED NORMALLY' not in contents:\n",
    "                    raise\n",
    "            except:  # some kind of fault error\n",
    "                rerun_fw = Firework(ComputeEnergyTask(input_string=self['input_string'],\n",
    "                                                      calc_details=self['calc_details']),\n",
    "                                    name=formula)\n",
    "                return FWAction(detours=rerun_fw)\n",
    "        else:\n",
    "            if 'OPTIMIZATION RUN DONE' not in content:\n",
    "                print 'Not optimized. Running!'\n",
    "                try:\n",
    "                    path_to_output = self._calculate_energy()\n",
    "                    with open(path_to_output, 'r') as f:\n",
    "                        contents = f.read()\n",
    "\n",
    "                    if 'TERMINATED NORMALLY' not in contents:\n",
    "                        raise\n",
    "                except:  # some kind of fault error\n",
    "                    rerun_fw = Firework(ComputeEnergyTask(input_string=self['input_string'],\n",
    "                                                          calc_details=self['calc_details']),\n",
    "                                        name=formula)\n",
    "                    return FWAction(detours=rerun_fw)\n",
    "\n",
    "        Results = ParseResults(formula+'.trj')\n",
    "\n",
    "        return FWAction(\n",
    "            stored_data={\n",
    "                'energy': {\n",
    "                    'value': Results.energy,\n",
    "                    'units': 'Hartree'\n",
    "                },\n",
    "                'optimized_coords': Results.opt_coords\n",
    "            })\n",
    "\n",
    "\n",
    "\n",
    "class ParseResults(object):\n",
    "    def __init__(self, path_to_calc_file):\n",
    "        with open(path_to_calc_file, 'r') as output:\n",
    "            content = output.readlines()\n",
    "\n",
    "        natoms = int(content[0].strip())\n",
    "        # back up 2 additional items, energy, natoms in xyz format\n",
    "        content = content[-natoms-2:]\n",
    "\n",
    "        self.opt_coords = ''.join(content)\n",
    "        self.energy = self._get_energy(content[1])\n",
    "\n",
    "    def _get_energy(self, contents):\n",
    "        match = re.search(r'\\-[0-9]+\\.[0-9]+', contents)\n",
    "        return match.group(0)\n",
    "\n",
    "\n",
    "class AddCalculationtoDBTask(FiretaskBase):\n",
    "    required_params = ['path_to_calc_output']\n",
    "    def run_task(self, fw_spec):\n",
    "        path_to_calc_output = ' '\n",
    "        return FWAction()\n",
    "\n",
    "\n",
    "class ProtonateMolecule(ComputeEnergyTask):\n",
    "\n",
    "    def protonate(m, atom, db):\n",
    "        mm = ob.OBMol(m)\n",
    "        atom.IncrementImplicitValence()\n",
    "        mm.AddHydrogens(atom)\n",
    "        print 'protonating atom', mm.GetFormula()\n",
    "        total_charge = m.GetTotalCharge()\n",
    "        m.SetTotalCharge(total_charge + 1)\n",
    "        egy = getEnergy(m, db, mongoDB)\n",
    "        if egy < protonationEnergy:\n",
    "            protonated_energy = egy\n",
    "            protonated_atom = atom.GetIdx()\n",
    "        atom_to_delete = m.getAtom(m.NumAtoms())\n",
    "        m.DeleteAtom(atom_to_delete)\n",
    "        m.SetTotalCharge(total_charge)\n",
    "        print('protonation', egy)\n",
    "\n",
    "    def run_task(self):\n",
    "        pass\n",
    "\n",
    "\n",
    "class DeprotonateMolecule(ComputeEnergyTask):\n",
    "    def deprotonate(m, atom, db):\n",
    "        mm = ob.OBMol(m) #     mm.DeleteAtom(atom) #     print 'deprotonating atom', mm.GetFormula()\n",
    "        mm.SetTotalCharge(m.GetTotalCharge() - 1)\n",
    "        try:\n",
    "            egy = get_energy(mm, db)\n",
    "        except:\n",
    "            print \"failed to assign deprot energy\"\n",
    "\n",
    "        deprotonated_energy = 0\n",
    "        if egy < deprotonated_energy:\n",
    "            deprotonated_energy = egy\n",
    "        for connected_atom in ob.OBAtomAtomIter(atom):\n",
    "            deprotonated_atom = connectedAtom.GetIdx()\n",
    "            print('deprotonation', egy)\n",
    "\n",
    "    def run_task(self):\n",
    "        pass\n",
    "\n",
    "\n",
    "def read_molecules_from_csv(fname):\n",
    "    \"\"\" given a csv file, return dict of inchikey to inchistring \"\"\"\n",
    "    mols = {}\n",
    "    with open(fname) as csvFile:\n",
    "        csv_reader = csv.reader(csvFile)\n",
    "        for row in csv_reader:\n",
    "            _, inchi_string, inchi_key = row[0], row[1], row[2]\n",
    "            mols[inchi_key] = inchi_string\n",
    "    return mols\n",
    "\n",
    "def read_molecules_from_csv_new(fname):\n",
    "    mols = {}\n",
    "    with open(fname) as csvFile:\n",
    "        csv_reader = csv.reader(csvFile)\n",
    "        for row in csv_reader:\n",
    "            smiles, formula = row[5], row[1]\n",
    "            mols[formula] = smiles\n",
    "\n",
    "    return mols\n",
    "\n",
    "def create_pybel_molecule(mol_string, string_type='smi', lprint=False):\n",
    "    \"\"\"create an openbabel molecule from an inchistring\"\"\"\n",
    "    if lprint:\n",
    "        print '{} string in create mol is {}'.format(string_type, mol_string)\n",
    "\n",
    "    try:\n",
    "        molecule = pybel.readstring(string_type, mol_string, opt={})\n",
    "    except TypeError:\n",
    "        print 'Unable to convert inchi string to pybel.Molecule'\n",
    "        quit()\n",
    "    else:\n",
    "        molecule.title = molecule.formula\n",
    "        molecule.addh()\n",
    "        molecule.make3D()\n",
    "\n",
    "        return molecule\n",
    "\n",
    "\n",
    "def get_n_electrons(molecule):\n",
    "    elec_count = [atom.atomicnum for atom in molecule.atoms]\n",
    "    return sum(elec_count)\n",
    "\n",
    "def psi4_xyzfile_to_psi4mol(smile_string, fname):\n",
    "    \n",
    "    m = create_pybel_molecule(smile_string, 'smi')\n",
    "    try:\n",
    "        m.write('xyz', fname)\n",
    "    except:\n",
    "        pass\n",
    "    \n",
    "    qmol = psi4.qcdb.Molecule.init_with_xyz(fname)\n",
    "    psi4mol = psi4.geometry(qmol.create_psi4_string_from_molecule())\n",
    "    psi4mol.update_geometry()\n",
    "\n",
    "    return psi4mol"
   ]
  },
  {
   "cell_type": "code",
   "execution_count": 23,
   "metadata": {
    "scrolled": true
   },
   "outputs": [
    {
     "name": "stdout",
     "output_type": "stream",
     "text": [
      "Optimizer: Optimization complete!\n",
      "CPU times: user 3min 48s, sys: 768 ms, total: 3min 49s\n",
      "Wall time: 3min 50s\n"
     ]
    }
   ],
   "source": [
    "%%time\n",
    "\n",
    "smi, fname = df.loc[4, 'sanitized_smiles'], df.loc[4, 'formula']+'.xyz'\n",
    "mol = psi4_xyzfile_to_psi4mol(smi, fname)\n",
    "\n",
    "psi4.optimize('pbeh3c/def2-svp', molecule=mol)"
   ]
  },
  {
   "cell_type": "code",
   "execution_count": 24,
   "metadata": {},
   "outputs": [
    {
     "name": "stdout",
     "output_type": "stream",
     "text": [
      "Optimizer: Optimization complete!\n",
      "CPU times: user 4min 48s, sys: 468 ms, total: 4min 48s\n",
      "Wall time: 4min 49s\n"
     ]
    }
   ],
   "source": [
    "%%time\n",
    "\n",
    "smi, fname = df.loc[4, 'sanitized_smiles'], df.loc[4, 'formula']+'.xyz'\n",
    "mol = psi4_xyzfile_to_psi4mol(smi, fname)\n",
    "\n",
    "psi4.optimize('pbe/def2-svp', molecule=mol)"
   ]
  },
  {
   "cell_type": "code",
   "execution_count": 20,
   "metadata": {},
   "outputs": [],
   "source": [
    "mol_string = mol.save_string_xyz_file().encode('utf-8')"
   ]
  },
  {
   "cell_type": "code",
   "execution_count": 21,
   "metadata": {
    "scrolled": true
   },
   "outputs": [
    {
     "data": {
      "image/svg+xml": [
       "<svg xmlns=\"http://www.w3.org/2000/svg\" font-family=\"sans-serif\" height=\"100\" stroke=\"rgb(0,0,0)\" stroke-linecap=\"round\" stroke-width=\"2\" viewBox=\"0 0 240 220\" width=\"100\" x=\"0\" y=\"0\">\n",
       "<line stroke=\"rgb(0,0,0)\" stroke-width=\"2.0\" x1=\"187.0\" x2=\"173.0\" y1=\"114.6\" y2=\"114.6\" />\n",
       "<line stroke=\"rgb(0,0,0)\" stroke-width=\"2.0\" x1=\"153.5\" x2=\"140.0\" y1=\"103.4\" y2=\"80.0\" />\n",
       "<line stroke=\"rgb(0,0,0)\" stroke-width=\"2.0\" x1=\"46.5\" x2=\"53.5\" y1=\"103.4\" y2=\"91.3\" />\n",
       "<line stroke=\"rgb(0,0,0)\" stroke-width=\"2.0\" x1=\"53.5\" x2=\"46.5\" y1=\"68.7\" y2=\"56.6\" />\n",
       "<line stroke=\"rgb(0,0,0)\" stroke-width=\"2.0\" x1=\"73.0\" x2=\"100.0\" y1=\"80.0\" y2=\"80.0\" />\n",
       "<line stroke=\"rgb(0,0,0)\" stroke-width=\"2.0\" x1=\"100.0\" x2=\"100.0\" y1=\"53.0\" y2=\"80.0\" />\n",
       "<line stroke=\"rgb(0,0,0)\" stroke-width=\"2.0\" x1=\"140.0\" x2=\"100.0\" y1=\"80.0\" y2=\"80.0\" />\n",
       "<line stroke=\"rgb(0,0,0)\" stroke-width=\"2.0\" x1=\"140.0\" x2=\"163.4\" y1=\"80.0\" y2=\"66.5\" />\n",
       "<line stroke=\"rgb(0,0,0)\" stroke-width=\"2.0\" x1=\"140.0\" x2=\"140.0\" y1=\"80.0\" y2=\"53.0\" />\n",
       "<line stroke=\"rgb(0,0,0)\" stroke-width=\"2.0\" x1=\"100.0\" x2=\"100.0\" y1=\"80.0\" y2=\"120.0\" />\n",
       "<line stroke=\"rgb(0,0,0)\" stroke-width=\"2.0\" x1=\"113.5\" x2=\"100.0\" y1=\"143.4\" y2=\"120.0\" />\n",
       "<line stroke=\"rgb(0,0,0)\" stroke-width=\"2.0\" x1=\"100.0\" x2=\"127.0\" y1=\"120.0\" y2=\"120.0\" />\n",
       "<line stroke=\"rgb(0,0,0)\" stroke-width=\"2.0\" x1=\"100.0\" x2=\"76.6\" y1=\"120.0\" y2=\"133.5\" />\n",
       "<line stroke=\"rgb(0,0,0)\" stroke-width=\"2.0\" x1=\"65.4\" x2=\"65.4\" y1=\"167.0\" y2=\"153.0\" />\n",
       "<text fill=\"rgb(12,12,255)\" font-size=\"16\" stroke=\"rgb(12,12,255)\" stroke-width=\"1\" x=\"54.000000\" y=\"88.000000\">N</text>\n",
       "<text fill=\"rgb(255,12,12)\" font-size=\"16\" stroke=\"rgb(255,12,12)\" stroke-width=\"1\" x=\"59.358984\" y=\"148.000000\">O</text>\n",
       "<text fill=\"rgb(255,12,12)\" font-size=\"16\" stroke=\"rgb(255,12,12)\" stroke-width=\"1\" x=\"154.000000\" y=\"122.641016\">O</text>\n",
       "<text fill=\"rgb(191,191,191)\" font-size=\"16\" stroke=\"rgb(191,191,191)\" stroke-width=\"1\" x=\"34.000000\" y=\"53.358984\">H</text>\n",
       "<text fill=\"rgb(191,191,191)\" font-size=\"16\" stroke=\"rgb(191,191,191)\" stroke-width=\"1\" x=\"34.000000\" y=\"122.641016\">H</text>\n",
       "<text fill=\"rgb(191,191,191)\" font-size=\"16\" stroke=\"rgb(191,191,191)\" stroke-width=\"1\" x=\"94.000000\" y=\"48.000000\">H</text>\n",
       "<text fill=\"rgb(191,191,191)\" font-size=\"16\" stroke=\"rgb(191,191,191)\" stroke-width=\"1\" x=\"134.000000\" y=\"128.000000\">H</text>\n",
       "<text fill=\"rgb(191,191,191)\" font-size=\"16\" stroke=\"rgb(191,191,191)\" stroke-width=\"1\" x=\"114.000000\" y=\"162.641016\">H</text>\n",
       "<text fill=\"rgb(191,191,191)\" font-size=\"16\" stroke=\"rgb(191,191,191)\" stroke-width=\"1\" x=\"59.358984\" y=\"188.000000\">H</text>\n",
       "<text fill=\"rgb(191,191,191)\" font-size=\"16\" stroke=\"rgb(191,191,191)\" stroke-width=\"1\" x=\"168.641016\" y=\"68.000000\">H</text>\n",
       "<text fill=\"rgb(191,191,191)\" font-size=\"16\" stroke=\"rgb(191,191,191)\" stroke-width=\"1\" x=\"134.000000\" y=\"48.000000\">H</text>\n",
       "<text fill=\"rgb(191,191,191)\" font-size=\"16\" stroke=\"rgb(191,191,191)\" stroke-width=\"1\" x=\"194.000000\" y=\"122.641016\">H</text>\n",
       "</svg>\n"
      ],
      "text/plain": [
       "<pybel.Molecule at 0x7f3440a876d0>"
      ]
     },
     "execution_count": 21,
     "metadata": {},
     "output_type": "execute_result"
    }
   ],
   "source": [
    "pybel.readstring('xyz', mol_string)"
   ]
  },
  {
   "cell_type": "code",
   "execution_count": 22,
   "metadata": {},
   "outputs": [
    {
     "data": {
      "image/svg+xml": [
       "<svg xmlns=\"http://www.w3.org/2000/svg\" font-family=\"sans-serif\" height=\"100\" stroke=\"rgb(0,0,0)\" stroke-linecap=\"round\" stroke-width=\"2\" viewBox=\"0 0 183.923 180\" width=\"100\" x=\"0\" y=\"0\">\n",
       "<line stroke=\"rgb(0,0,0)\" stroke-width=\"2.0\" x1=\"109.3\" x2=\"109.3\" y1=\"127.0\" y2=\"100.0\" />\n",
       "<line stroke=\"rgb(0,0,0)\" stroke-width=\"2.0\" x1=\"109.3\" x2=\"143.9\" y1=\"100.0\" y2=\"80.0\" />\n",
       "<line stroke=\"rgb(0,0,0)\" stroke-width=\"2.0\" x1=\"143.9\" x2=\"143.9\" y1=\"80.0\" y2=\"53.0\" />\n",
       "<line stroke=\"rgb(0,0,0)\" stroke-width=\"2.0\" x1=\"109.3\" x2=\"74.6\" y1=\"100.0\" y2=\"80.0\" />\n",
       "<line stroke=\"rgb(0,0,0)\" stroke-width=\"2.0\" x1=\"74.6\" x2=\"51.3\" y1=\"80.0\" y2=\"93.5\" />\n",
       "<text fill=\"rgb(12,12,255)\" font-size=\"16\" stroke=\"rgb(12,12,255)\" stroke-width=\"1\" x=\"105.282032\" y=\"148.000000\">NH</text>\n",
       "<text fill=\"rgb(12,12,255)\" font-size=\"13\" stroke=\"rgb(12,12,255)\" stroke-width=\"1\" x=\"129.282032\" y=\"151.680000\">2</text>\n",
       "<text fill=\"rgb(255,12,12)\" font-size=\"16\" stroke=\"rgb(255,12,12)\" stroke-width=\"1\" x=\"137.923048\" y=\"48.000000\">OH</text>\n",
       "<text fill=\"rgb(255,12,12)\" font-size=\"16\" stroke=\"rgb(255,12,12)\" stroke-width=\"1\" x=\"22.000000\" y=\"108.000000\">HO</text>\n",
       "</svg>\n"
      ],
      "text/plain": [
       "<pybel.Molecule at 0x7f3440507f90>"
      ]
     },
     "execution_count": 22,
     "metadata": {},
     "output_type": "execute_result"
    }
   ],
   "source": [
    "pybel.readstring('smi', smi)"
   ]
  }
 ],
 "metadata": {
  "anaconda-cloud": {},
  "kernelspec": {
   "display_name": "Python [default]",
   "language": "python",
   "name": "python2"
  },
  "language_info": {
   "codemirror_mode": {
    "name": "ipython",
    "version": 2
   },
   "file_extension": ".py",
   "mimetype": "text/x-python",
   "name": "python",
   "nbconvert_exporter": "python",
   "pygments_lexer": "ipython2",
   "version": "2.7.13"
  }
 },
 "nbformat": 4,
 "nbformat_minor": 2
}
