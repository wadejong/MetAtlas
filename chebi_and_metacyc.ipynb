{
 "cells": [
  {
   "cell_type": "code",
   "execution_count": 1,
   "metadata": {},
   "outputs": [],
   "source": [
    "import pandas as pd\n",
    "import hashlib\n",
    "from rdkit import Chem\n",
    "from rdkit.Chem import AllChem\n",
    "from metatlas import make_df_with_molecules_from_csv, psi4_xyzfile_to_psi4mol\n",
    "from tqdm import tqdm_notebook as tqdm\n",
    "import psi4\n",
    "\n",
    "CSV_FILE = 'chebi_and_metacyc_molecules.csv'"
   ]
  },
  {
   "cell_type": "code",
   "execution_count": 2,
   "metadata": {},
   "outputs": [],
   "source": [
    "molecules = make_df_with_molecules_from_csv(CSV_FILE)"
   ]
  },
  {
   "cell_type": "code",
   "execution_count": 26,
   "metadata": {
    "collapsed": true
   },
   "outputs": [],
   "source": [
    "import pybel"
   ]
  },
  {
   "cell_type": "code",
   "execution_count": 31,
   "metadata": {},
   "outputs": [
    {
     "data": {
      "image/svg+xml": [
       "<svg xmlns=\"http://www.w3.org/2000/svg\" font-family=\"sans-serif\" height=\"100\" stroke=\"rgb(0,0,0)\" stroke-linecap=\"round\" stroke-width=\"2\" viewBox=\"0 0 379.019 238.679\" width=\"100\" x=\"0\" y=\"0\">\n",
       "<line stroke=\"rgb(0,0,0)\" stroke-width=\"2.0\" x1=\"305.1\" x2=\"291.3\" y1=\"69.8\" y2=\"93.7\" />\n",
       "<line stroke=\"rgb(0,0,0)\" stroke-width=\"2.0\" x1=\"299.9\" x2=\"286.1\" y1=\"66.8\" y2=\"90.7\" />\n",
       "<line stroke=\"rgb(0,0,0)\" stroke-width=\"1.0\" x1=\"241.1\" x2=\"242.5\" y1=\"115.0\" y2=\"115.8\" />\n",
       "<line stroke=\"rgb(0,0,0)\" stroke-width=\"1.0\" x1=\"243.2\" x2=\"245.7\" y1=\"110.1\" y2=\"111.5\" />\n",
       "<line stroke=\"rgb(0,0,0)\" stroke-width=\"1.0\" x1=\"245.4\" x2=\"249.0\" y1=\"105.1\" y2=\"107.2\" />\n",
       "<line stroke=\"rgb(0,0,0)\" stroke-width=\"1.0\" x1=\"247.5\" x2=\"252.2\" y1=\"100.1\" y2=\"102.9\" />\n",
       "<line stroke=\"rgb(0,0,0)\" stroke-width=\"1.0\" x1=\"249.6\" x2=\"255.4\" y1=\"95.2\" y2=\"98.5\" />\n",
       "<line stroke=\"rgb(0,0,0)\" stroke-width=\"1.0\" x1=\"251.7\" x2=\"258.7\" y1=\"90.2\" y2=\"94.2\" />\n",
       "<polygon fill=\"rgb(0,0,0)\" points=\"305.467222 121.250468 325.947711 104.814130 329.946121 111.743251 \" stroke=\"rgb(0,0,0)\" stroke-width=\"2.000000\" />\n",
       "<line stroke=\"rgb(0,0,0)\" stroke-width=\"2.0\" x1=\"238.4\" x2=\"238.4\" y1=\"159.9\" y2=\"185.7\" />\n",
       "<line stroke=\"rgb(0,0,0)\" stroke-width=\"1.0\" x1=\"237.6\" x2=\"239.2\" y1=\"152.2\" y2=\"152.2\" />\n",
       "<line stroke=\"rgb(0,0,0)\" stroke-width=\"1.0\" x1=\"237.0\" x2=\"239.9\" y1=\"146.0\" y2=\"146.0\" />\n",
       "<line stroke=\"rgb(0,0,0)\" stroke-width=\"1.0\" x1=\"236.4\" x2=\"240.5\" y1=\"139.8\" y2=\"139.8\" />\n",
       "<line stroke=\"rgb(0,0,0)\" stroke-width=\"1.0\" x1=\"235.7\" x2=\"241.2\" y1=\"133.6\" y2=\"133.6\" />\n",
       "<line stroke=\"rgb(0,0,0)\" stroke-width=\"1.0\" x1=\"235.1\" x2=\"241.8\" y1=\"127.4\" y2=\"127.4\" />\n",
       "<line stroke=\"rgb(0,0,0)\" stroke-width=\"1.0\" x1=\"234.5\" x2=\"242.5\" y1=\"121.2\" y2=\"121.2\" />\n",
       "<polygon fill=\"rgb(0,0,0)\" points=\"171.430669 159.928456 238.445886 155.941811 238.444292 163.941811 \" stroke=\"rgb(0,0,0)\" stroke-width=\"2.000000\" />\n",
       "<line stroke=\"rgb(0,0,0)\" stroke-width=\"2.0\" x1=\"104.4\" x2=\"82.1\" y1=\"121.2\" y2=\"108.3\" />\n",
       "<line stroke=\"rgb(0,0,0)\" stroke-width=\"2.0\" x1=\"104.4\" x2=\"82.1\" y1=\"121.2\" y2=\"134.1\" />\n",
       "<line stroke=\"rgb(0,0,0)\" stroke-width=\"1.0\" x1=\"110.7\" x2=\"111.5\" y1=\"116.7\" y2=\"118.0\" />\n",
       "<line stroke=\"rgb(0,0,0)\" stroke-width=\"1.0\" x1=\"115.8\" x2=\"117.2\" y1=\"113.0\" y2=\"115.5\" />\n",
       "<line stroke=\"rgb(0,0,0)\" stroke-width=\"1.0\" x1=\"120.8\" x2=\"122.9\" y1=\"109.4\" y2=\"113.0\" />\n",
       "<line stroke=\"rgb(0,0,0)\" stroke-width=\"1.0\" x1=\"125.8\" x2=\"128.6\" y1=\"105.7\" y2=\"110.4\" />\n",
       "<line stroke=\"rgb(0,0,0)\" stroke-width=\"1.0\" x1=\"130.9\" x2=\"134.2\" y1=\"102.1\" y2=\"107.9\" />\n",
       "<line stroke=\"rgb(0,0,0)\" stroke-width=\"1.0\" x1=\"135.9\" x2=\"139.9\" y1=\"98.4\" y2=\"105.3\" />\n",
       "<line stroke=\"rgb(0,0,0)\" stroke-width=\"1.0\" x1=\"137.1\" x2=\"138.7\" y1=\"96.7\" y2=\"96.7\" />\n",
       "<line stroke=\"rgb(0,0,0)\" stroke-width=\"1.0\" x1=\"136.5\" x2=\"139.4\" y1=\"92.5\" y2=\"92.5\" />\n",
       "<line stroke=\"rgb(0,0,0)\" stroke-width=\"1.0\" x1=\"135.8\" x2=\"140.0\" y1=\"88.4\" y2=\"88.4\" />\n",
       "<line stroke=\"rgb(0,0,0)\" stroke-width=\"1.0\" x1=\"135.2\" x2=\"140.6\" y1=\"84.2\" y2=\"84.2\" />\n",
       "<line stroke=\"rgb(0,0,0)\" stroke-width=\"1.0\" x1=\"134.6\" x2=\"141.3\" y1=\"80.1\" y2=\"80.1\" />\n",
       "<line stroke=\"rgb(0,0,0)\" stroke-width=\"1.0\" x1=\"133.9\" x2=\"141.9\" y1=\"75.9\" y2=\"75.9\" />\n",
       "<line stroke=\"rgb(0,0,0)\" stroke-width=\"2.0\" x1=\"121.2\" x2=\"53.0\" y1=\"133.9\" y2=\"133.9\" />\n",
       "<line stroke=\"rgb(0,0,0)\" stroke-width=\"2.0\" x1=\"121.2\" x2=\"53.0\" y1=\"127.9\" y2=\"127.9\" />\n",
       "<polygon fill=\"rgb(0,0,0)\" points=\"171.438383 121.223758 135.924974 105.338884 139.924974 98.410681 \" stroke=\"rgb(0,0,0)\" stroke-width=\"2.000000\" />\n",
       "<line stroke=\"rgb(0,0,0)\" stroke-width=\"2.0\" x1=\"171.4\" x2=\"171.4\" y1=\"121.2\" y2=\"95.5\" />\n",
       "<line stroke=\"rgb(0,0,0)\" stroke-width=\"2.0\" x1=\"204.9\" x2=\"204.9\" y1=\"101.9\" y2=\"63.2\" />\n",
       "<line stroke=\"rgb(0,0,0)\" stroke-width=\"2.0\" x1=\"203.8\" x2=\"227.4\" y1=\"60.4\" y2=\"50.4\" />\n",
       "<line stroke=\"rgb(0,0,0)\" stroke-width=\"2.0\" x1=\"206.1\" x2=\"229.7\" y1=\"66.0\" y2=\"55.9\" />\n",
       "<line stroke=\"rgb(0,0,0)\" stroke-width=\"2.0\" x1=\"204.9\" x2=\"184.4\" y1=\"63.2\" y2=\"47.8\" />\n",
       "<line stroke=\"rgb(0,0,0)\" stroke-width=\"2.0\" x1=\"238.5\" x2=\"272.0\" y1=\"121.2\" y2=\"101.9\" />\n",
       "<line stroke=\"rgb(0,0,0)\" stroke-width=\"2.0\" x1=\"272.0\" x2=\"305.5\" y1=\"101.9\" y2=\"121.3\" />\n",
       "<line stroke=\"rgb(0,0,0)\" stroke-width=\"2.0\" x1=\"305.5\" x2=\"288.7\" y1=\"121.3\" y2=\"92.2\" />\n",
       "<line stroke=\"rgb(0,0,0)\" stroke-width=\"2.0\" x1=\"288.7\" x2=\"255.2\" y1=\"92.2\" y2=\"92.2\" />\n",
       "<line stroke=\"rgb(0,0,0)\" stroke-width=\"2.0\" x1=\"255.2\" x2=\"238.5\" y1=\"92.2\" y2=\"121.2\" />\n",
       "<line stroke=\"rgb(0,0,0)\" stroke-width=\"2.0\" x1=\"121.2\" x2=\"137.9\" y1=\"130.9\" y2=\"101.9\" />\n",
       "<line stroke=\"rgb(0,0,0)\" stroke-width=\"2.0\" x1=\"137.9\" x2=\"171.4\" y1=\"101.9\" y2=\"121.2\" />\n",
       "<line stroke=\"rgb(0,0,0)\" stroke-width=\"2.0\" x1=\"171.4\" x2=\"171.4\" y1=\"121.2\" y2=\"159.9\" />\n",
       "<line stroke=\"rgb(0,0,0)\" stroke-width=\"2.0\" x1=\"171.4\" x2=\"150.9\" y1=\"159.9\" y2=\"159.9\" />\n",
       "<line stroke=\"rgb(0,0,0)\" stroke-width=\"2.0\" x1=\"131.4\" x2=\"121.2\" y1=\"148.7\" y2=\"130.9\" />\n",
       "<line stroke=\"rgb(0,0,0)\" stroke-width=\"2.0\" x1=\"171.4\" x2=\"204.9\" y1=\"121.2\" y2=\"101.9\" />\n",
       "<line stroke=\"rgb(0,0,0)\" stroke-width=\"2.0\" x1=\"204.9\" x2=\"238.5\" y1=\"101.9\" y2=\"121.2\" />\n",
       "<line stroke=\"rgb(0,0,0)\" stroke-width=\"2.0\" x1=\"238.5\" x2=\"238.4\" y1=\"121.2\" y2=\"159.9\" />\n",
       "<line stroke=\"rgb(0,0,0)\" stroke-width=\"2.0\" x1=\"238.4\" x2=\"171.4\" y1=\"159.9\" y2=\"159.9\" />\n",
       "<line stroke=\"rgb(0,0,0)\" stroke-width=\"2.0\" x1=\"305.5\" x2=\"305.5\" y1=\"121.3\" y2=\"160.0\" />\n",
       "<line stroke=\"rgb(0,0,0)\" stroke-width=\"2.0\" x1=\"305.5\" x2=\"272.0\" y1=\"160.0\" y2=\"179.3\" />\n",
       "<line stroke=\"rgb(0,0,0)\" stroke-width=\"2.0\" x1=\"272.0\" x2=\"238.4\" y1=\"179.3\" y2=\"159.9\" />\n",
       "<line stroke=\"rgb(0,0,0)\" stroke-width=\"2.0\" x1=\"104.4\" x2=\"137.9\" y1=\"121.2\" y2=\"101.9\" />\n",
       "<line stroke=\"rgb(0,0,0)\" stroke-width=\"2.0\" x1=\"171.4\" x2=\"137.9\" y1=\"159.9\" y2=\"179.3\" />\n",
       "<line stroke=\"rgb(0,0,0)\" stroke-width=\"2.0\" x1=\"137.9\" x2=\"104.4\" y1=\"179.3\" y2=\"159.9\" />\n",
       "<line stroke=\"rgb(0,0,0)\" stroke-width=\"2.0\" x1=\"104.4\" x2=\"104.4\" y1=\"159.9\" y2=\"121.2\" />\n",
       "<text fill=\"rgb(255,12,12)\" font-size=\"16\" stroke=\"rgb(255,12,12)\" stroke-width=\"1\" x=\"156.002131\" y=\"48.000000\">HO</text>\n",
       "<text fill=\"rgb(255,12,12)\" font-size=\"16\" stroke=\"rgb(255,12,12)\" stroke-width=\"1\" x=\"234.517960\" y=\"56.012270\">O</text>\n",
       "<text fill=\"rgb(191,191,191)\" font-size=\"16\" stroke=\"rgb(191,191,191)\" stroke-width=\"1\" x=\"165.446102\" y=\"90.486632\">H</text>\n",
       "<text fill=\"rgb(255,12,12)\" font-size=\"16\" stroke=\"rgb(255,12,12)\" stroke-width=\"1\" x=\"131.916268\" y=\"167.923429\">O</text>\n",
       "<text fill=\"rgb(255,12,12)\" font-size=\"16\" stroke=\"rgb(255,12,12)\" stroke-width=\"1\" x=\"34.000000\" y=\"138.884419\">O</text>\n",
       "<text fill=\"rgb(102,102,102)\" font-size=\"16\" stroke=\"rgb(102,102,102)\" stroke-width=\"1\" x=\"133.927662\" y=\"71.137656\">CH</text>\n",
       "<text fill=\"rgb(102,102,102)\" font-size=\"13\" stroke=\"rgb(102,102,102)\" stroke-width=\"1\" x=\"157.927662\" y=\"74.817656\">3</text>\n",
       "<text fill=\"rgb(255,12,12)\" font-size=\"16\" stroke=\"rgb(255,12,12)\" stroke-width=\"1\" x=\"52.873940\" y=\"148.574311\">HO</text>\n",
       "<text fill=\"rgb(191,191,191)\" font-size=\"16\" stroke=\"rgb(191,191,191)\" stroke-width=\"1\" x=\"64.879901\" y=\"109.836169\">H</text>\n",
       "<text fill=\"rgb(102,102,102)\" font-size=\"16\" stroke=\"rgb(102,102,102)\" stroke-width=\"1\" x=\"305.017259\" y=\"65.088286\">CH</text>\n",
       "<text fill=\"rgb(102,102,102)\" font-size=\"13\" stroke=\"rgb(102,102,102)\" stroke-width=\"1\" x=\"329.017259\" y=\"68.768286\">2</text>\n",
       "<text fill=\"rgb(191,191,191)\" font-size=\"16\" stroke=\"rgb(191,191,191)\" stroke-width=\"1\" x=\"232.437369\" y=\"206.678937\">H</text>\n",
       "<text fill=\"rgb(191,191,191)\" font-size=\"16\" stroke=\"rgb(191,191,191)\" stroke-width=\"1\" x=\"333.019003\" y=\"109.889606\">H</text>\n",
       "</svg>\n"
      ],
      "text/plain": [
       "<pybel.Molecule at 0x7ff22fe734d0>"
      ]
     },
     "execution_count": 31,
     "metadata": {},
     "output_type": "execute_result"
    }
   ],
   "source": [
    "pybel.readstring('smi', molecules.loc[0, 'sanitized_smiles'], opt={})"
   ]
  },
  {
   "cell_type": "code",
   "execution_count": 20,
   "metadata": {},
   "outputs": [
    {
     "data": {
      "application/vnd.jupyter.widget-view+json": {
       "model_id": "e757145cc11b403eaabed189de92c60b"
      }
     },
     "metadata": {},
     "output_type": "display_data"
    },
    {
     "name": "stdout",
     "output_type": "stream",
     "text": [
      "oh no 0\n",
      "oh no 19\n",
      "oh no 22\n",
      "\n"
     ]
    },
    {
     "ename": "RuntimeError",
     "evalue": "Invariant Violation\n\tbad lower bound\n\tViolation occurred on line 192 in file Code/GraphMol/DistGeomHelpers/BoundsMatrixBuilder.cpp\n\tFailed Expression: lb > DIST12_DELTA || clb > DIST12_DELTA\n\tRDKIT: 2016.09.4\n\tBOOST: 1_56\n",
     "output_type": "error",
     "traceback": [
      "\u001b[0;31m---------------------------------------------------------------------------\u001b[0m",
      "\u001b[0;31mRuntimeError\u001b[0m                              Traceback (most recent call last)",
      "\u001b[0;32m<ipython-input-20-0be49eada7f8>\u001b[0m in \u001b[0;36m<module>\u001b[0;34m()\u001b[0m\n\u001b[1;32m      2\u001b[0m     \u001b[0mmol\u001b[0m \u001b[0;34m=\u001b[0m \u001b[0mmolecules\u001b[0m\u001b[0;34m.\u001b[0m\u001b[0mloc\u001b[0m\u001b[0;34m[\u001b[0m\u001b[0mi\u001b[0m\u001b[0;34m,\u001b[0m \u001b[0;34m'molecule'\u001b[0m\u001b[0;34m]\u001b[0m\u001b[0;34m\u001b[0m\u001b[0m\n\u001b[1;32m      3\u001b[0m     \u001b[0mm2\u001b[0m \u001b[0;34m=\u001b[0m \u001b[0mChem\u001b[0m\u001b[0;34m.\u001b[0m\u001b[0mAddHs\u001b[0m\u001b[0;34m(\u001b[0m\u001b[0mmol\u001b[0m\u001b[0;34m)\u001b[0m\u001b[0;34m\u001b[0m\u001b[0m\n\u001b[0;32m----> 4\u001b[0;31m     \u001b[0;32mif\u001b[0m \u001b[0mAllChem\u001b[0m\u001b[0;34m.\u001b[0m\u001b[0mEmbedMolecule\u001b[0m\u001b[0;34m(\u001b[0m\u001b[0mm2\u001b[0m\u001b[0;34m)\u001b[0m \u001b[0;34m<\u001b[0m \u001b[0;36m0\u001b[0m\u001b[0;34m:\u001b[0m\u001b[0;34m\u001b[0m\u001b[0m\n\u001b[0m\u001b[1;32m      5\u001b[0m         \u001b[0;32mprint\u001b[0m \u001b[0;34m'oh no {}'\u001b[0m\u001b[0;34m.\u001b[0m\u001b[0mformat\u001b[0m\u001b[0;34m(\u001b[0m\u001b[0mi\u001b[0m\u001b[0;34m)\u001b[0m\u001b[0;34m\u001b[0m\u001b[0m\n",
      "\u001b[0;31mRuntimeError\u001b[0m: Invariant Violation\n\tbad lower bound\n\tViolation occurred on line 192 in file Code/GraphMol/DistGeomHelpers/BoundsMatrixBuilder.cpp\n\tFailed Expression: lb > DIST12_DELTA || clb > DIST12_DELTA\n\tRDKIT: 2016.09.4\n\tBOOST: 1_56\n"
     ]
    }
   ],
   "source": [
    "for i in tqdm(range(0,40)):\n",
    "    mol = molecules.loc[i, 'molecule']\n",
    "    m2 = Chem.AddHs(mol)\n",
    "    if AllChem.EmbedMolecule(m2) < 0:\n",
    "        print 'oh no {}'.format(i)\n"
   ]
  },
  {
   "cell_type": "code",
   "execution_count": 22,
   "metadata": {},
   "outputs": [
    {
     "data": {
      "text/plain": [
       "'C6H9*2NO3'"
      ]
     },
     "execution_count": 22,
     "metadata": {},
     "output_type": "execute_result"
    }
   ],
   "source": [
    "Chem.rdMolDescriptors.CalcMolFormula(mol)"
   ]
  },
  {
   "cell_type": "code",
   "execution_count": 71,
   "metadata": {
    "scrolled": true
   },
   "outputs": [
    {
     "name": "stdout",
     "output_type": "stream",
     "text": [
      "Index=0, Symbol=C, x=11.7451245443, y=-2.21385897352, z=-0.079860744166\n",
      "Index=0, Symbol=C, x=10.7715101053, y=-1.39105619801, z=-0.912466132819\n",
      "Index=0, Symbol=C, x=10.6259641126, y=-0.0210668979682, z=-0.274989268983\n",
      "Index=0, Symbol=C, x=9.17592473084, y=0.402633002677, z=-0.425107105619\n",
      "Index=0, Symbol=C, x=8.32358325196, y=-0.629453933839, z=0.263730676322\n",
      "Index=0, Symbol=C, x=7.24313386216, y=-0.0150877119592, z=1.11182386796\n",
      "Index=0, Symbol=C, x=5.86659514476, y=-0.454354237537, z=0.656950609535\n",
      "Index=0, Symbol=C, x=5.17210949963, y=0.619864601605, z=-0.161403088276\n",
      "Index=0, Symbol=C, x=4.13187085756, y=1.34370819702, z=0.644471912606\n",
      "Index=0, Symbol=C, x=2.7244215202, y=0.901173639159, z=0.335011032236\n",
      "Index=0, Symbol=C, x=2.39225333017, y=0.979534822413, z=-1.12910818889\n",
      "Index=0, Symbol=C, x=1.19450162768, y=1.83537825941, z=-1.42888645125\n",
      "Index=0, Symbol=C, x=0.0251370879645, y=1.57143049871, z=-0.524924075184\n",
      "Index=0, Symbol=C, x=-0.290729291397, y=0.102847756703, z=-0.377241500282\n",
      "Index=0, Symbol=C, x=-0.494126336021, y=-0.277804576794, z=1.06242305638\n",
      "Index=0, Symbol=C, x=-1.93142860255, y=-0.499003611991, z=1.42900027113\n",
      "Index=0, Symbol=C, x=-2.75055494365, y=0.776783836588, z=1.40359693106\n",
      "Index=0, Symbol=C, x=-4.13230249074, y=0.523410102604, z=0.838026083492\n",
      "Index=0, Symbol=C, x=-4.23746337942, y=1.24623519714, z=-0.460708054488\n",
      "Index=0, Symbol=C, x=-5.46038657729, y=0.855550953459, z=-1.28356517605\n",
      "Index=0, Symbol=C, x=-5.60799580605, y=-0.607917355112, z=-1.46993753419\n",
      "Index=0, Symbol=C, x=-6.48257860377, y=-1.37648753595, z=-0.583674437197\n",
      "Index=0, Symbol=C, x=-7.33494383295, y=-0.68759110987, z=0.408290279955\n",
      "Index=0, Symbol=C, x=-8.8272333261, y=-0.931859622003, z=0.181511192706\n",
      "Index=0, Symbol=C, x=-9.52298989266, y=-0.36272525145, z=1.4127806803\n",
      "Index=0, Symbol=C, x=-10.8695663874, y=0.160274151634, z=0.962091360597\n",
      "Index=0, Symbol=C, x=-11.3540498159, y=-0.726374187966, z=-0.113261110121\n",
      "Index=0, Symbol=O, x=-11.4808097231, y=-1.95266666568, z=0.16189956042\n",
      "Index=0, Symbol=O, x=-11.5361233713, y=-0.262002639946, z=-1.41507676257\n",
      "Index=0, Symbol=H, x=12.5441956879, y=-1.52907889082, z=0.269812101203\n",
      "Index=0, Symbol=H, x=11.175419304, y=-2.66984456836, z=0.760296925579\n",
      "Index=0, Symbol=H, x=12.1356712308, y=-3.04322030487, z=-0.709206246123\n",
      "Index=0, Symbol=H, x=11.0810979583, y=-1.32844543439, z=-1.96799986347\n",
      "Index=0, Symbol=H, x=9.79505243816, y=-1.90615407394, z=-0.865796067973\n",
      "Index=0, Symbol=H, x=10.8908479858, y=-0.125725140872, z=0.79971311326\n",
      "Index=0, Symbol=H, x=11.2952826506, y=0.715413171029, z=-0.760011910608\n",
      "Index=0, Symbol=H, x=9.00991955838, y=1.42405397101, z=-0.0367880118834\n",
      "Index=0, Symbol=H, x=8.96384665407, y=0.395665223175, z=-1.51694097623\n",
      "Index=0, Symbol=H, x=8.92348810867, y=-1.31743751821, z=0.908035981465\n",
      "Index=0, Symbol=H, x=7.84272206958, y=-1.28172308266, z=-0.501156073261\n",
      "Index=0, Symbol=H, x=7.33334707564, y=1.09392490942, z=1.01691885069\n",
      "Index=0, Symbol=H, x=7.35590047293, y=-0.266731761394, z=2.19543653641\n",
      "Index=0, Symbol=H, x=5.22240050661, y=-0.676967076228, z=1.52997950798\n",
      "Index=0, Symbol=H, x=5.92838478034, y=-1.37645209245, z=0.0582073309465\n",
      "Index=0, Symbol=H, x=5.96419549154, y=1.36629325792, z=-0.416273433699\n",
      "Index=0, Symbol=H, x=4.80767353614, y=0.223088102421, z=-1.11918901888\n",
      "Index=0, Symbol=H, x=4.3212909481, y=1.09929066637, z=1.71445518151\n",
      "Index=0, Symbol=H, x=4.19216063317, y=2.44448135155, z=0.565010334018\n",
      "Index=0, Symbol=H, x=2.62755916253, y=-0.163953177177, z=0.664466653893\n",
      "Index=0, Symbol=H, x=2.04632127507, y=1.57671239764, z=0.909912745286\n",
      "Index=0, Symbol=H, x=3.26773986186, y=1.46995589016, z=-1.62540410652\n",
      "Index=0, Symbol=H, x=2.30992834975, y=-0.0228734477575, z=-1.60339720357\n",
      "Index=0, Symbol=H, x=1.47368011656, y=2.89446117892, z=-1.333105529\n",
      "Index=0, Symbol=H, x=0.88832762548, y=1.63327439595, z=-2.47885720347\n",
      "Index=0, Symbol=H, x=-0.868340824472, y=2.03558367062, z=-1.01435973579\n",
      "Index=0, Symbol=H, x=0.109572221496, y=2.05128536172, z=0.46726902419\n",
      "Index=0, Symbol=H, x=-1.20678256811, y=-0.194719785863, z=-0.946972923033\n",
      "Index=0, Symbol=H, x=0.520712961315, y=-0.551356627828, z=-0.783409070093\n",
      "Index=0, Symbol=H, x=-0.108582571935, y=0.547990487694, z=1.69793409523\n",
      "Index=0, Symbol=H, x=0.0489490499226, y=-1.22032048981, z=1.32324266425\n",
      "Index=0, Symbol=H, x=-2.43812711777, y=-1.20820900821, z=0.731066493095\n",
      "Index=0, Symbol=H, x=-1.95308615384, y=-0.979008457635, z=2.43188552998\n",
      "Index=0, Symbol=H, x=-2.85294750691, y=1.09294587517, z=2.47290985806\n",
      "Index=0, Symbol=H, x=-2.23788883952, y=1.60862371499, z=0.899049175924\n",
      "Index=0, Symbol=H, x=-4.88885356777, y=0.933546040614, z=1.52203256296\n",
      "Index=0, Symbol=H, x=-4.20902061443, y=-0.555091752757, z=0.652966335388\n",
      "Index=0, Symbol=H, x=-4.21513983686, y=2.34197045069, z=-0.378636470033\n",
      "Index=0, Symbol=H, x=-3.34347520905, y=0.963378788428, z=-1.07219669931\n",
      "Index=0, Symbol=H, x=-6.36376988679, y=1.40546434272, z=-0.991629052605\n",
      "Index=0, Symbol=H, x=-5.20829586599, y=1.29128361337, z=-2.28996463439\n",
      "Index=0, Symbol=H, x=-5.91415088031, y=-0.800121324522, z=-2.53300765159\n",
      "Index=0, Symbol=H, x=-4.56109974643, y=-1.01452318832, z=-1.44581156604\n",
      "Index=0, Symbol=H, x=-5.86742869023, y=-2.13687964258, z=-0.0321275011974\n",
      "Index=0, Symbol=H, x=-7.17578110213, y=-2.02882024358, z=-1.18110302513\n",
      "Index=0, Symbol=H, x=-7.16650274936, y=-1.08086390672, z=1.44584883142\n",
      "Index=0, Symbol=H, x=-7.23220349439, y=0.395293842418, z=0.499198971994\n",
      "Index=0, Symbol=H, x=-9.17362739508, y=-0.467949137898, z=-0.751939399462\n",
      "Index=0, Symbol=H, x=-8.98693862646, y=-2.02911591128, z=0.171352451113\n",
      "Index=0, Symbol=H, x=-9.59087797606, y=-1.09599071466, z=2.22939940267\n",
      "Index=0, Symbol=H, x=-8.96430510848, y=0.519867454354, z=1.81222477535\n",
      "Index=0, Symbol=H, x=-10.7297594028, y=1.18840462187, z=0.572725695064\n",
      "Index=0, Symbol=H, x=-11.5887144913, y=0.113967638389, z=1.80417168898\n",
      "Index=0, Symbol=H, x=-12.308834783, y=-0.664158167359, z=-1.9216356992\n"
     ]
    }
   ],
   "source": [
    "mol = molecules.loc[2342, 'molecule']\n",
    "m2 = Chem.AddHs(mol)\n",
    "\n",
    "AllChem.EmbedMolecule(m2)\n",
    "Chem.MolToMolFile(m2, 'mol.mol')\n",
    "\n",
    "conf = m2.GetConformer()\n",
    "\n",
    "natoms = m2.GetNumAtoms()\n",
    "for idx in range(natoms):\n",
    "    atom = m2.GetAtomWithIdx(idx)\n",
    "    xyz = conf.GetAtomPosition(idx)\n",
    "    print 'Index={}, Symbol={}, x={}, y={}, z={}'.format(atom_index, atom.GetSymbol(), xyz.x, xyz.y, xyz.z)"
   ]
  },
  {
   "cell_type": "code",
   "execution_count": null,
   "metadata": {
    "collapsed": true
   },
   "outputs": [],
   "source": [
    "\"\"\" Likely main.py structure \"\"\"\n",
    "for index, row in tqdm(molecules.iterrows()):\n",
    "    if row['molecule']:\n",
    "        \n",
    "        \n",
    "for row in range(df.len-1):\n",
    "    smi, fname = df.loc[row, 'sanitized_smiles'], df.loc[row, 'formula']+'.xyz'\n",
    "    mol = psi4_xyzfile_to_psi4mol(smi, fname)\n",
    "    \n",
    "    psi4.optimize('pbeh3c/def-svp', molecule=mol)"
   ]
  },
  {
   "cell_type": "code",
   "execution_count": 1,
   "metadata": {
    "scrolled": true
   },
   "outputs": [
    {
     "ename": "NameError",
     "evalue": "name 'df' is not defined",
     "output_type": "error",
     "traceback": [
      "\u001b[0;31m---------------------------------------------------------------------------\u001b[0m",
      "\u001b[0;31mNameError\u001b[0m                                 Traceback (most recent call last)",
      "\u001b[0;32m<ipython-input-1-66821e0fa3b4>\u001b[0m in \u001b[0;36m<module>\u001b[0;34m()\u001b[0m\n\u001b[0;32m----> 1\u001b[0;31m \u001b[0msmi\u001b[0m\u001b[0;34m,\u001b[0m \u001b[0mfname\u001b[0m \u001b[0;34m=\u001b[0m \u001b[0mdf\u001b[0m\u001b[0;34m.\u001b[0m\u001b[0mloc\u001b[0m\u001b[0;34m[\u001b[0m\u001b[0;36m4\u001b[0m\u001b[0;34m,\u001b[0m \u001b[0;34m'sanitized_smiles'\u001b[0m\u001b[0;34m]\u001b[0m\u001b[0;34m,\u001b[0m \u001b[0mdf\u001b[0m\u001b[0;34m.\u001b[0m\u001b[0mloc\u001b[0m\u001b[0;34m[\u001b[0m\u001b[0;36m4\u001b[0m\u001b[0;34m,\u001b[0m \u001b[0;34m'formula'\u001b[0m\u001b[0;34m]\u001b[0m\u001b[0;34m+\u001b[0m\u001b[0;34m'.xyz'\u001b[0m\u001b[0;34m\u001b[0m\u001b[0m\n\u001b[0m\u001b[1;32m      2\u001b[0m \u001b[0mmol\u001b[0m \u001b[0;34m=\u001b[0m \u001b[0mpsi4_xyzfile_to_psi4mol\u001b[0m\u001b[0;34m(\u001b[0m\u001b[0msmi\u001b[0m\u001b[0;34m,\u001b[0m \u001b[0mfname\u001b[0m\u001b[0;34m)\u001b[0m\u001b[0;34m\u001b[0m\u001b[0m\n\u001b[1;32m      3\u001b[0m \u001b[0;34m\u001b[0m\u001b[0m\n\u001b[1;32m      4\u001b[0m \u001b[0mpsi4\u001b[0m\u001b[0;34m.\u001b[0m\u001b[0mset_num_threads\u001b[0m\u001b[0;34m(\u001b[0m\u001b[0;36m8\u001b[0m\u001b[0;34m)\u001b[0m\u001b[0;34m\u001b[0m\u001b[0m\n\u001b[1;32m      5\u001b[0m \u001b[0mpsi4\u001b[0m\u001b[0;34m.\u001b[0m\u001b[0mset_variable\u001b[0m\u001b[0;34m(\u001b[0m\u001b[0;34m'print'\u001b[0m\u001b[0;34m,\u001b[0m \u001b[0;36m5\u001b[0m\u001b[0;34m)\u001b[0m\u001b[0;34m\u001b[0m\u001b[0m\n",
      "\u001b[0;31mNameError\u001b[0m: name 'df' is not defined"
     ]
    }
   ],
   "source": [
    "smi, fname = df.loc[4, 'sanitized_smiles'], df.loc[4, 'formula']+'.xyz'\n",
    "mol = psi4_xyzfile_to_psi4mol(smi, fname)\n",
    "\n",
    "\n",
    "psi4.optimize('pbeh3c/def2-svp', molecule=mol)"
   ]
  },
  {
   "cell_type": "code",
   "execution_count": 3,
   "metadata": {},
   "outputs": [
    {
     "name": "stdout",
     "output_type": "stream",
     "text": [
      "Optimizer: Optimization complete!\n"
     ]
    }
   ],
   "source": [
    "psi4.set_num_threads(8)\n",
    "psi4.set_variable('print', 5)\n",
    "mol = psi4_xyzfile_to_psi4mol('C3H10NO2+.xyz')\n",
    "\n",
    "e, wfn = psi4.optimize('pbe/def2-svp', molecule=mol, return_wfn='on')"
   ]
  },
  {
   "cell_type": "code",
   "execution_count": null,
   "metadata": {},
   "outputs": [],
   "source": [
    "wfn.iterations()"
   ]
  }
 ],
 "metadata": {
  "anaconda-cloud": {},
  "kernelspec": {
   "display_name": "Python [default]",
   "language": "python",
   "name": "python2"
  },
  "language_info": {
   "codemirror_mode": {
    "name": "ipython",
    "version": 2
   },
   "file_extension": ".py",
   "mimetype": "text/x-python",
   "name": "python",
   "nbconvert_exporter": "python",
   "pygments_lexer": "ipython2",
   "version": "2.7.13"
  }
 },
 "nbformat": 4,
 "nbformat_minor": 2
}
