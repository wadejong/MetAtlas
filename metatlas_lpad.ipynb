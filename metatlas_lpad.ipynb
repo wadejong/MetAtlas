{
 "cells": [
  {
   "cell_type": "code",
   "execution_count": 16,
   "metadata": {},
   "outputs": [],
   "source": [
    "# %load main.py\n",
    "\"\"\"\n",
    "FireWorks implementation for the computation of electronic structure for\n",
    "molecules in the Metatlas database.\n",
    "\n",
    "-----------    ----------    -----------\n",
    "| Create  |    | Run    |    | Process |\n",
    "| Orca    | => | Orca   | => | Output  |\n",
    "| Input   |    | Calc   |    | File    |\n",
    "-----------    ----------    -----------\n",
    "\"\"\"\n",
    "import pprint\n",
    "from configparser import ConfigParser\n",
    "from fireworks import Firework, LaunchPad, Workflow, FWorker\n",
    "from fireworks.user_objects.queue_adapters.common_adapter import CommonAdapter\n",
    "from fireworks.user_objects.metatlas import ComputeEnergyTask, AddCalculationtoDBTask\n",
    "from fireworks.queue.queue_launcher import launch_rocket_to_queue\n",
    "from metatlas import read_molecules_from_csv, create_pybel_molecule, create_orca_input_string\n",
    "import matplotlib\n",
    "%matplotlib inline\n",
    "import matplotlib.pyplot as plt\n",
    "\n",
    "def create_launchpad(db_config_file):\n",
    "    \"\"\"use to create a FW launchpad using mongodb creds from file\"\"\"\n",
    "    config = ConfigParser()\n",
    "    with open(db_config_file) as f:\n",
    "        config.read_file(f)\n",
    "    db = config['db']\n",
    "\n",
    "    lpad = LaunchPad(\n",
    "        host=db['host'],\n",
    "        port=int(db['port']),\n",
    "        name=db['name'],\n",
    "        username=db['username'],\n",
    "        password=db['password'])\n",
    "\n",
    "    return lpad\n",
    "\n",
    "\n",
    "def create_fworker(name):\n",
    "    fworker_config = '/home/bkrull/.fireworks/' + name.lower() + '.yaml'\n",
    "    fworker = FWorker().from_file(fworker_config)\n",
    "\n",
    "    return fworker\n",
    "\n",
    "\n",
    "def create_queue_adapater(q_type):\n",
    "    slurm_adapter = CommonAdapter(\n",
    "        q_type=q_type,\n",
    "        template_file='/home/bkrull/.fireworks/slurm.yaml',\n",
    "        reserve=True)\n",
    "\n",
    "    return slurm_adapter\n",
    "\n",
    "\n",
    "METATLAS_DB_CONFIG = '/home/bkrull/.fireworks/metatlas.ini'\n",
    "CSV_FILE = 'metatlas_inchi_inchikey.csv'\n",
    "PROJECT_HOME = 'scr/'\n",
    "\n",
    "metatlas_lpad = create_launchpad(METATLAS_DB_CONFIG)"
   ]
  },
  {
   "cell_type": "markdown",
   "metadata": {},
   "source": [
    "## Find completed but not processed\n",
    "These fw_ids have already been updated to have 'AddCalculationtoDBTask' in their structure,\n",
    "not quite sure because they're not in the 'READY' state to be run.."
   ]
  },
  {
   "cell_type": "code",
   "execution_count": 30,
   "metadata": {},
   "outputs": [
    {
     "name": "stdout",
     "output_type": "stream",
     "text": [
      "Number of AddtoDBTasks: 21459\n",
      "Number of AddtoDBTasks with launchdirs: 21459\n",
      "{'created_on': '2017-05-04T17:14:36.949575',\n",
      " 'fw_id': 1,\n",
      " 'launches': [{'action': {'additions': [{'created_on': '2017-05-04T17:35:41.208063',\n",
      "                                         'fws': [{'created_on': '2017-05-04T17:35:41.208063',\n",
      "                                                  'fw_id': -1,\n",
      "                                                  'name': 'Unnamed FW',\n",
      "                                                  'spec': {'_tasks': [{'_fw_name': 'fireworks::AddCalculationtoDBTask',\n",
      "                                                                       'path_to_calc_output': 'C44H76NO8P.out'}]},\n",
      "                                                  'updated_on': '2017-05-04T17:35:41.208073'}],\n",
      "                                         'links': {'-1': []},\n",
      "                                         'metadata': {},\n",
      "                                         'name': 'Unnamed FW',\n",
      "                                         'updated_on': '2017-05-04T17:35:41.208073'}],\n",
      "                          'defuse_children': False,\n",
      "                          'defuse_workflow': False,\n",
      "                          'detours': [],\n",
      "                          'exit': False,\n",
      "                          'mod_spec': [],\n",
      "                          'stored_data': {'path_to_calc_output': 'C44H76NO8P.out'},\n",
      "                          'update_spec': {}},\n",
      "               'fw_id': 1,\n",
      "               'fworker': {'category': '',\n",
      "                           'env': {},\n",
      "                           'name': 'edison',\n",
      "                           'query': '{}'},\n",
      "               'host': 'nid06096',\n",
      "               'ip': '10.128.24.1',\n",
      "               'launch_dir': '/global/u2/b/bkrull/apps/MetAtlas/calcs/block_2017-05-04-17-14-56-239051/launcher_2017-05-04-17-14-56-304810',\n",
      "               'launch_id': 1,\n",
      "               'state': 'COMPLETED',\n",
      "               'state_history': [{'created_on': '2017-05-04T17:15:43.595000',\n",
      "                                  'state': 'RUNNING',\n",
      "                                  'updated_on': '2017-05-04T17:35:41.214370'},\n",
      "                                 {'created_on': '2017-05-04T17:35:41.217177',\n",
      "                                  'state': 'COMPLETED'}],\n",
      "               'trackers': []}],\n",
      " 'name': 'C44H76NO8P',\n",
      " 'spec': {'_tasks': [{'_fw_name': 'ComputeEnergyTask',\n",
      "                      'calc_details': {'charge': 0,\n",
      "                                       'molecularSpinMultiplicity': 1,\n",
      "                                       'molecular_formula': 'C44H76NO8P',\n",
      "                                       'numberOfElectrons': 426,\n",
      "                                       'waveFunctionTheory': 'PM3'},\n",
      "                      'input_string': '%MaxCore 6000\\n!SlowConv\\n!NOSOSCF\\n!PM3 Opt \\n%coords \\n  CTyp xyz\\n Charge 0\\n Mult 1\\n coords\\n C -3.34129193253 23.5926725808 -15.990330013 \\n C 7.50681524519 -4.85390543301 -28.7576671625 \\n C -4.154094335 22.8373656534 -17.0305784586 \\n C 7.69841869224 -3.61152546872 -27.9003186061 \\n C -3.23983228075 22.0945960835 -18.009056342 \\n C 6.52968260051 -2.65084411848 -28.0711406778 \\n C -2.36165741729 21.0697080727 -17.296938825 \\n C 5.20683602996 -3.3169643884 -27.7307070047 \\n C -3.20459565036 20.0875289956 -16.4989448466 \\n C 5.16857034135 -3.72957097699 -26.2869916741 \\n C -4.05431210952 19.2549109987 -17.4152166306 \\n C 4.29053604502 -3.2372718825 -25.4167577862 \\n C -3.93327574957 17.9321002359 -17.5166857649 \\n C 3.25698318178 -2.26642735492 -25.8301150291 \\n C -2.96057588361 17.1754829583 -16.6970015674 \\n C 1.92442795949 -2.82483913081 -25.5354719922 \\n C -3.65367749438 16.1549327575 -15.8694536408 \\n C 1.10165367477 -2.19645761138 -24.7102049234 \\n C -3.32145969127 14.8674117783 -15.9288677507 \\n C -2.26946675098 14.3922191863 -16.8563800857 \\n C -1.18944942482 13.6942715447 -16.1170218362 \\n C -0.862585092725 12.4447285592 -16.4177696369 \\n C -1.58896113863 11.7304789375 -17.483257844 \\n C 1.42258994648 -0.854081953002 -24.1277234232 \\n C -0.629474675354 11.3243016857 -18.5107745685 \\n C 0.417988675455 0.126169269012 -24.6923310096 \\n C -0.501126719864 10.0141415705 -18.7592270014 \\n C -0.97256835341 -0.397857896453 -24.3008560153 \\n C -1.4213454962 9.0709104488 -18.1041389119 \\n C -1.00479577032 -0.601160780693 -22.7686705639 \\n C -2.30583320005 8.52465643938 -19.2468867702 \\n C -0.622998577625 0.709278079044 -22.1973187003 \\n C -1.3521205561 7.87482950283 -20.2744718332 \\n C -1.60410144904 1.59452445631 -22.9239746829 \\n C -0.352211912826 7.08925239637 -19.5020901506 \\n C -3.18411168282 1.19975968962 -22.2186314666 \\n C -1.35410719083 6.38507169066 -18.6160437833 \\n C -2.36763935924 4.5353440509 -17.0844039731 \\n C -0.667989548927 4.12318799038 -17.9257676476 \\n C -4.83010508883 3.43831251108 -20.6141467788 \\n C -3.0260796219 3.98408526906 -22.2328002333 \\n C -3.99193418003 4.63457541009 -21.2355336985 \\n C -3.33374053733 1.28998351866 -20.6267022092 \\n C -2.5440534498 5.41841432991 -19.4194931001 \\n N -3.8929976896 4.20698029102 -17.516151325 \\n O -2.63733859425 0.583697192882 -19.847591577 \\n O -2.63427827046 4.23190932273 -19.2327300368 \\n O 0.157932083843 2.82085731588 -20.7239464664 \\n O -0.814173288308 4.89535540098 -21.6212663485 \\n O -4.11052032424 2.26615241512 -20.0518024179 \\n O -0.0485333636793 4.7685525956 -19.5157431501 \\n O -2.14134388863 2.91878655161 -21.5578277931 \\n O -3.38388881498 5.77565234325 -20.404074297 \\n P -1.09493862615 3.84366957361 -20.5367854716 \\n H -2.71434216211 22.9251696663 -15.3894836688 \\n H -3.99830108232 24.1185507486 -15.2956958722 \\n H -2.68617447504 24.3157539431 -16.484282434 \\n H 7.42556443398 -4.57450620433 -29.8125942702 \\n H 8.34121752608 -5.54228039519 -28.6263619248 \\n H 6.60164231171 -5.40848729165 -28.4891438963 \\n H -4.84162937681 22.1480835725 -16.526129419 \\n H -4.79509821422 23.5269108404 -17.5853931676 \\n H 8.62633019257 -3.10199753538 -28.1724579961 \\n H 7.8025091714 -3.90072998451 -26.8484135696 \\n H -3.85007816924 21.5973032782 -18.7721203327 \\n H -2.60305375849 22.8031105164 -18.5468561252 \\n H 6.48288503999 -2.29566483281 -29.1074023761 \\n H 6.67586711384 -1.75934112923 -27.4447097921 \\n H -1.72973289643 20.538000953 -18.0203504809 \\n H -1.66093052923 21.5640313319 -16.6146034332 \\n H 4.98462347567 -4.18993992246 -28.3463181136 \\n H 4.43873356016 -2.60568139162 -28.0265745506 \\n H -2.50129296165 19.5290476798 -15.8858245072 \\n H -3.85375926976 20.557616809 -15.7578167884 \\n H 5.89785916139 -4.4427128231 -25.9142984524 \\n H -4.78440140011 19.7478355211 -18.0520621619 \\n H 4.32369514579 -3.52874442093 -24.3669488384 \\n H -4.52992877545 17.3808112511 -18.2423111545 \\n H 3.21338429487 -1.97864232854 -26.8750504581 \\n H 3.53718831316 -1.34177820834 -25.334152649 \\n H -2.21864199251 16.829649011 -17.41223709 \\n H -2.36417900626 17.7413554972 -15.9878609179 \\n H 1.61257729045 -3.7505205357 -26.0108124376 \\n H -4.42461917058 16.4854345711 -15.179514566 \\n H 0.13198056343 -2.65453877705 -24.5272617272 \\n H -3.84570190996 14.1355672153 -15.3198762155 \\n H -2.82572357981 13.8388558176 -17.6084509269 \\n H -1.74215095794 15.1239583036 -17.4606696555 \\n H -0.633621321707 14.2274289576 -15.3547376454 \\n H -0.0697409830526 11.921759812 -15.8881153661 \\n H -2.15208106546 10.9871557785 -16.9274114198 \\n H -2.37947954957 12.2123174626 -18.0476302018 \\n H 2.40239519299 -0.433705355214 -24.3192775562 \\n H 1.42458669767 -0.945078231221 -23.0386917687 \\n H -0.046448604018 12.0185905959 -19.0857302555 \\n H 0.492733879214 0.251479253007 -25.7754068668 \\n H 0.664543872957 1.12929078816 -24.303344122 \\n H 0.212458565791 9.69145267073 -19.5033078033 \\n H -1.28848385814 -1.30709338714 -24.790052985 \\n H -1.72491368645 0.279471055301 -24.7110663239 \\n H -0.73568144755 8.42237948 -17.5306278974 \\n H -2.10073285576 9.32035337326 -17.2963544629 \\n H -0.355553890313 -1.36721178763 -22.3562037402 \\n H -1.9908388658 -0.885194781571 -22.415192108 \\n H -3.05934002113 7.83633317302 -18.8053944381 \\n H -2.95790926383 9.23648079389 -19.7305967006 \\n H 0.427999196398 1.02059594538 -22.3284758001 \\n H -0.737408351717 0.725584884853 -21.112493079 \\n H -1.87775548965 7.20273375737 -20.947249122 \\n H -0.8337736416 8.55896962793 -20.9252076123 \\n H -1.73464556195 1.81312665697 -23.9874142775 \\n H -1.00424541769 2.54598848448 -22.8687086232 \\n H 0.292877945564 6.56186905604 -20.2066004057 \\n H 0.42525701899 7.5544220417 -18.8668954292 \\n H -3.51473354529 0.229980452846 -22.5764137726 \\n H -3.97159358039 1.8314359457 -22.6180594936 \\n H -0.724779781965 6.06208197626 -17.7664600355 \\n H -1.87495190452 6.96308019186 -17.8524802969 \\n H -2.31765068316 4.60447251557 -15.9971284341 \\n H -2.60410268364 5.58370629841 -17.1958621629 \\n H -0.513435704765 3.04465315703 -17.9857506437 \\n H 0.126481019556 4.52092401313 -17.2698043605 \\n H -5.45577256323 3.83672625034 -19.8089932329 \\n H -5.51723723514 3.01654914507 -21.3550290669 \\n H -3.60958463566 3.5278307678 -23.0379085552 \\n H -2.43936439871 4.69849442377 -22.8147097599 \\n H -4.71222180763 5.22505280779 -21.8043319293 \\n H -4.26467228168 5.01149140606 -18.0856149002 \\n H -3.77245191491 3.57981615405 -18.3430166781 \\n H 0.245578523961 2.15083572589 -20.0326158295 \\n end\\nend\\n%geom\\n MaxIter 200\\n end\\n%scf\\n MaxIter 1500\\n end\\n'}]},\n",
      " 'state': 'COMPLETED',\n",
      " 'updated_on': '2017-05-04T17:35:41.331138'}\n"
     ]
    }
   ],
   "source": [
    "query = {\n",
    "    'action.additions.0': {\n",
    "        '$exists':'true'\n",
    "    }\n",
    "}\n",
    "\n",
    "completed_not_processed = metatlas_lpad.get_fw_ids(query, launches_mode=True)\n",
    "fw = metatlas_lpad.get_fw_by_id(completed_not_processed[0]).as_dict()\n",
    "\n",
    "query = {\n",
    "    'action.additions.0': {\n",
    "        '$exists':'true'\n",
    "    },\n",
    "    'launch_dir': {\n",
    "        '$exists': 'true'\n",
    "    }\n",
    "}\n",
    "completed_not_processed_with_ldir = metatlas_lpad.get_fw_ids(query, launches_mode=True)\n",
    "\n",
    "print 'Number of AddtoDBTasks: {}'.format(len(completed_not_processed))\n",
    "print 'Number of AddtoDBTasks with launchdirs: {}'.format(len(completed_not_processed_with_ldir))\n",
    "pprint.pprint(fw)"
   ]
  },
  {
   "cell_type": "markdown",
   "metadata": {},
   "source": [
    "## Find completed that have optimized coordinates added"
   ]
  },
  {
   "cell_type": "code",
   "execution_count": 34,
   "metadata": {
    "scrolled": false
   },
   "outputs": [
    {
     "name": "stdout",
     "output_type": "stream",
     "text": [
      "Number of Completed with coords: 3944\n",
      "Number of Completed with coords with launch_dir: 3944\n",
      "{'created_on': '2017-05-04T21:32:18.491656',\n",
      " 'fw_id': 29400,\n",
      " 'launches': [{'action': {'additions': [],\n",
      "                          'defuse_children': False,\n",
      "                          'defuse_workflow': False,\n",
      "                          'detours': [],\n",
      "                          'exit': False,\n",
      "                          'mod_spec': [],\n",
      "                          'stored_data': {'energy': {'units': 'Hartree',\n",
      "                                                     'value': '-133.066555748950'},\n",
      "                                          'optimized_coords': '49\\nCoordinates from ORCA-job C17H28O4 E -133.066555748950\\n  C       0.962311     -9.724499      4.653908\\n  C       4.093382     -6.656971      0.377458\\n  C      -2.791887     -6.255518      1.306186\\n  C      -0.241922     -5.414046     -0.831854\\n  C      -2.311900     -7.963228      3.605724\\n  C      -1.278856     -8.719554      4.368882\\n  C       0.326710     -8.560646      2.490346\\n  C       0.994094     -7.190772      2.505760\\n  C       0.054363     -4.962233      1.868556\\n  C      -2.151876     -6.464292      3.836456\\n  C      -1.152590     -4.700100      2.367791\\n  C       1.558471     -7.116818     -0.919130\\n  C      -0.062760     -8.987551      3.871164\\n  C       3.464600     -8.012019      0.240595\\n  C       0.775786     -6.177666      1.364960\\n  C      -2.382012     -5.553103      2.601744\\n  C       0.339457     -6.622302     -0.069590\\n  O       3.904806     -9.083479      0.597116\\n  O      -3.449438     -4.689675      3.017952\\n  O      -0.692484     -7.590981     -0.114893\\n  O       2.244965     -8.216217     -0.350797\\n  H       0.564284    -10.133122      5.591926\\n  H       1.796192     -9.055321      4.908226\\n  H       1.375818    -10.561822      4.075065\\n  H       3.566784     -6.073920      1.153875\\n  H       5.151394     -6.726258      0.654962\\n  H       4.008503     -6.094210     -0.566091\\n  H      -3.812783     -6.654084      1.355957\\n  H      -2.734025     -5.561467      0.449053\\n  H      -2.107445     -7.099145      1.066270\\n  H       0.418722     -4.541292     -0.756415\\n  H      -0.382652     -5.639257     -1.897485\\n  H      -1.230469     -5.130486     -0.425113\\n  H      -2.211402     -8.208584      2.518900\\n  H      -3.324501     -8.297190      3.898945\\n  H      -1.553207     -9.049377      5.377862\\n  H       1.002255     -9.313507      2.035694\\n  H      -0.599365     -8.565820      1.872408\\n  H       0.729958     -6.681018      3.459861\\n  H       2.089906     -7.362207      2.572336\\n  H       0.722500     -4.086672      1.832386\\n  H      -1.134080     -6.261903      4.237632\\n  H      -2.840908     -6.155200      4.651089\\n  H      -1.297030     -3.654859      2.689402\\n  H       1.202677     -7.532612     -1.880936\\n  H       2.244780     -6.271790     -1.146102\\n  H       1.820994     -5.783287      1.194561\\n  H      -3.698374     -4.169202      2.265930\\n  H      -0.310072     -8.421814      0.149078\\n'},\n",
      "                          'update_spec': {}},\n",
      "               'fw_id': 29400,\n",
      "               'fworker': {'category': '',\n",
      "                           'env': {},\n",
      "                           'name': 'edison',\n",
      "                           'query': '{}'},\n",
      "               'host': 'nid06110',\n",
      "               'ip': '10.128.24.15',\n",
      "               'launch_dir': '/scratch2/scratchdirs/bkrull/metatlas/block_2017-06-30-19-19-37-509046/launcher_2017-06-30-22-58-16-030400',\n",
      "               'launch_id': 28965,\n",
      "               'state': 'COMPLETED',\n",
      "               'state_history': [{'created_on': '2017-06-30T23:58:07.571990',\n",
      "                                  'state': 'RUNNING',\n",
      "                                  'updated_on': '2017-06-30T23:59:32.646994'},\n",
      "                                 {'created_on': '2017-06-30T23:59:32.649748',\n",
      "                                  'state': 'COMPLETED'}],\n",
      "               'trackers': []}],\n",
      " 'name': 'C17H28O4',\n",
      " 'spec': {'_tasks': [{'_fw_name': 'ComputeEnergyTask',\n",
      "                      'calc_details': {'charge': 0,\n",
      "                                       'molecularSpinMultiplicity': 1,\n",
      "                                       'molecular_formula': 'C17H28O4',\n",
      "                                       'numberOfElectrons': 162,\n",
      "                                       'waveFunctionTheory': 'PM3'},\n",
      "                      'input_string': '%MaxCore 6000\\n!SlowConv\\n!NOSOSCF\\n!PM3 Opt \\n%coords \\n  CTyp xyz\\n Charge 0\\n Mult 1\\n coords\\n C 1.41583285068 -9.5779713312 4.5432090767 \\n C 3.48753487715 -6.96050383473 0.367577240866 \\n C -2.61934761181 -6.11291875829 0.781369605687 \\n C -0.150751307769 -5.18067667964 -0.704075906278 \\n C -2.11518762474 -8.20300363766 3.1523686158 \\n C -1.02055221867 -8.83330344972 4.04679463907 \\n C 0.860209252398 -8.42913782622 2.48959727946 \\n C 1.52995639253 -6.9935314138 2.63308363883 \\n C 0.232717859651 -4.78000353021 2.42083804607 \\n C -2.3936983344 -6.66305041599 3.3848878913 \\n C -1.11346878716 -4.55821774397 2.50298203617 \\n C 0.767345428266 -7.48190626339 -0.575769868857 \\n C 0.297871468503 -8.93000940831 3.75852090603 \\n C 2.87714197668 -8.319369692 0.45813015632 \\n C 1.16328858168 -5.74065523658 1.55449204899 \\n C -2.340989168 -5.56955442155 2.21531588378 \\n C 0.443164847334 -6.24771125265 0.293893978814 \\n O 3.43282411157 -9.21821987935 1.07894306935 \\n O -3.46927623115 -4.6682692628 2.30075252294 \\n O -0.527767049932 -6.64117211186 1.17541267108 \\n O 1.65127641053 -8.50448432453 -0.0860243296062 \\n H 1.16214329293 -10.5843692722 4.87129996142 \\n H 1.7413420091 -8.92894444696 5.35582022752 \\n H 2.31722616777 -9.70638659109 3.9141399204 \\n H 3.44452351387 -6.39353563222 1.29495164223 \\n H 4.54797990015 -7.07588485453 0.198887693919 \\n H 3.01828963727 -6.38139532564 -0.422060762432 \\n H -3.61160873051 -6.10981805628 0.359757722305 \\n H -2.13983223606 -5.34063806639 0.207302441621 \\n H -2.24635777985 -7.09676565354 0.46301499724 \\n H 0.543548730359 -4.88363126946 -1.48899384605 \\n H -1.01756177489 -5.59347085129 -1.26006441888 \\n H -0.513388778839 -4.25588905557 -0.233220718909 \\n H -1.95557270769 -8.50847658466 2.11752999592 \\n H -3.0515953722 -8.74925304661 3.33751690978 \\n H -1.3671628065 -9.26377682978 4.98408689301 \\n H 1.5391561151 -9.22032234962 2.1751460898 \\n H 0.154650390233 -8.64687362388 1.70575642211 \\n H 1.30727782282 -6.63190389634 3.64439847684 \\n H 2.61006531686 -7.155488603 2.75376397393 \\n H 0.655421382162 -4.71505873515 3.42740950003 \\n H -1.70300902865 -6.34232942006 4.18065705181 \\n H -3.38960320873 -6.59323976338 3.83486639271 \\n H -1.37094260386 -3.81691620617 3.2726966166 \\n H -0.196132642358 -8.01089642369 -0.727033848446 \\n H 1.09757071685 -7.20807094902 -1.57619618006 \\n H 1.99848088114 -5.09450955146 1.22243181733 \\n H -3.5245798963 -4.27109416083 1.40511026169 \\n H -0.796776237434 -7.55448512901 1.31633752884 \\n end\\nend\\n%geom\\n MaxIter 200\\n end\\n%scf\\n MaxIter 1500\\n end\\n'}]},\n",
      " 'state': 'COMPLETED',\n",
      " 'updated_on': '2017-06-30T23:59:32.659378'}\n"
     ]
    }
   ],
   "source": [
    "query = {\n",
    "    'action.stored_data.optimized_coords': {\n",
    "        '$exists': 'true'\n",
    "    }\n",
    "}\n",
    "\n",
    "completed_with_coords = metatlas_lpad.get_fw_ids(query, launches_mode=True)\n",
    "fw = metatlas_lpad.get_fw_by_id(completed_with_coords[-1]).as_dict()\n",
    "\n",
    "query = {\n",
    "    'action.stored_data.optimized_coords': {\n",
    "        '$exists': 'true'\n",
    "    },\n",
    "    'launch_dir': {\n",
    "        '$exists': 'true'\n",
    "    }\n",
    "}\n",
    "\n",
    "completed_with_coords_with_ldir = metatlas_lpad.get_fw_ids(query, launches_mode=True)\n",
    "\n",
    "print 'Number of Completed with coords: {}'.format(len(completed_with_coords))\n",
    "print 'Number of Completed with coords with launch_dir: {}'.format(len(completed_with_coords_with_ldir))\n",
    "\n",
    "pprint.pprint(fw)"
   ]
  },
  {
   "cell_type": "markdown",
   "metadata": {},
   "source": [
    "## Find fizzled"
   ]
  },
  {
   "cell_type": "code",
   "execution_count": 32,
   "metadata": {
    "scrolled": false
   },
   "outputs": [
    {
     "name": "stdout",
     "output_type": "stream",
     "text": [
      "Number of fizzled jobs: 2487\n",
      "Number of fizzled jobs with launch dir: 2487\n",
      "{'created_on': '2017-05-04T17:18:49.138703',\n",
      " 'fw_id': 460,\n",
      " 'launches': [{'action': None,\n",
      "               'fw_id': 460,\n",
      "               'fworker': {'category': '',\n",
      "                           'env': {},\n",
      "                           'name': 'edison',\n",
      "                           'query': '{}'},\n",
      "               'host': 'nid06101',\n",
      "               'ip': '10.128.24.6',\n",
      "               'launch_dir': '/global/u2/b/bkrull/apps/MetAtlas/calcs/block_2017-05-04-18-30-00-929389/launcher_2017-05-04-18-35-49-574657',\n",
      "               'launch_id': 433,\n",
      "               'state': 'FIZZLED',\n",
      "               'state_history': [{'created_on': '2017-05-04T18:37:16.379509',\n",
      "                                  'state': 'RUNNING',\n",
      "                                  'updated_on': '2017-05-04T21:37:16.415062'},\n",
      "                                 {'created_on': '2017-06-28T15:38:21.709508',\n",
      "                                  'state': 'FIZZLED'}],\n",
      "               'trackers': []}],\n",
      " 'name': 'C50H87NO36',\n",
      " 'spec': {'_tasks': [{'_fw_name': 'ComputeEnergyTask',\n",
      "                      'calc_details': {'charge': 0,\n",
      "                                       'molecularSpinMultiplicity': 1,\n",
      "                                       'molecular_formula': 'C50H87NO36',\n",
      "                                       'numberOfElectrons': 682,\n",
      "                                       'waveFunctionTheory': 'PM3'},\n",
      "                      'input_string': '%MaxCore 6000\\n!SlowConv\\n!NOSOSCF\\n!PM3 Opt \\n%coords \\n  CTyp xyz\\n Charge 0\\n Mult 1\\n coords\\n C -4.95212032094 3.49989560558 1.38029909936 \\n C -1.00412176832 6.78458759544 1.44884325015 \\n C -1.47607093986 2.32316110244 -0.685320039066 \\n C 2.29829426 5.516737578 -0.924736656539 \\n C 0.327237414281 0.333905645683 0.716013873925 \\n C -5.03731519645 5.38956749096 -0.301981163888 \\n C -6.46396230539 5.2025945509 2.79086022308 \\n C 1.89442039846 6.01205647174 2.98476386828 \\n C 0.849704584425 1.58876609034 1.52162097231 \\n C -2.33281898609 6.76012558364 -0.289085518514 \\n C -4.42567160006 4.81194767702 1.90662245315 \\n C -1.40320041682 4.8367843862 2.10068698957 \\n C 0.664331398672 2.99004477869 -1.4762501064 \\n C 0.885700706159 5.43733063272 -1.20179675261 \\n C 0.0210689931731 2.28230021413 -0.407300421122 \\n C -5.24238111487 4.17868042018 -0.899630190241 \\n C -6.10680617921 7.28449859916 2.13090637796 \\n C -2.58386013189 7.70345867108 0.897959880279 \\n C 0.473809313114 5.71224571705 2.83025015101 \\n C -1.35756090249 0.943828752678 0.880902745592 \\n C -3.50612027904 4.0570436612 -1.31960262149 \\n C -5.14500587203 6.07916832497 1.98663273781 \\n C -0.811906844877 4.69829276724 3.20723799851 \\n C 0.811428758652 4.6797494118 0.300341641838 \\n C 0.56055730031 6.34829973397 -3.01771413381 \\n C -3.83139205558 7.1336646429 2.46552077928 \\n C 0.0990072547755 3.9093661703 4.11477243325 \\n C -1.86640108291 0.85786284448 -1.13169840942 \\n C -4.82033070987 7.99239849577 3.01372498547 \\n C -0.632454355854 2.46897288756 3.56297202985 \\n C 2.08505726111 6.30986463497 0.583101087249 \\n C -1.45587908682 5.89177862625 -3.23254874441 \\n C 1.20456245201 2.55357233411 3.05880622496 \\n C -3.1627526048 6.7573626487 4.03621518575 \\n C -1.88248739363 1.91050778791 3.63703502935 \\n C 3.51199093934 4.6935483456 0.258844751738 \\n C -0.488070336688 5.65855562573 -1.86790291875 \\n C -0.341525892427 4.76972858312 -0.381186160743 \\n C -2.97803018057 6.60159807114 1.68432787708 \\n C -1.6431359772 2.97046056216 -2.0956523673 \\n C -2.01412384218 4.53497769991 -3.07617867176 \\n C -0.275070825519 2.56288281477 1.29954073122 \\n C 0.916806425358 4.41801829797 -3.13497102834 \\n C -3.03157343432 3.75920401361 0.558383073064 \\n C -3.09039367544 5.41095630105 3.72975021472 \\n C -2.49198431419 2.38635118325 2.54000686891 \\n C 2.84180888546 3.52821552831 -1.34073420815 \\n C -1.97071139076 4.23612453142 -1.10111131121 \\n C 0.441860388621 2.87127076653 -3.45071735568 \\n C 1.22106856983 3.35208184592 0.11966045897 \\n N -4.52565603135 3.27888335735 -1.34453628559 \\n O -5.92018142824 5.09518851045 4.14429933604 \\n O 1.52839343917 6.59697651746 4.05919700585 \\n O 1.08107969787 3.32766658794 1.58865918296 \\n O -6.36278441817 3.61973074345 -0.811791392025 \\n O -6.87870725156 7.98898836635 3.00840028752 \\n O -1.16160780925 8.56614165799 1.78196429995 \\n O -6.20354778985 6.76670929621 0.445761866241 \\n O 1.24159067397 4.36886919286 3.2358078756 \\n O -1.04531206657 5.47777758693 0.613020524132 \\n O 1.04473518033 7.56898028451 -2.6282972735 \\n O -4.23386568565 7.78101692959 4.42574639496 \\n O 0.211618795771 4.19870135384 5.28690090644 \\n O -3.14909581863 0.77621462674 -0.974163248117 \\n O -5.22681318899 9.22720816076 3.14037201636 \\n O 0.305151144299 2.08276523778 4.64704875747 \\n O 1.45995366004 7.23338841204 1.27444759787 \\n O -1.54419554655 6.15387272265 -4.41198207398 \\n O 2.51873083114 2.78518596465 2.67900375862 \\n O -4.39725897679 6.16370938663 5.29719237155 \\n O -2.56661500884 2.78682433752 4.42489500105 \\n O 3.49038401417 3.9300628319 1.4055412017 \\n O -0.110902847011 7.02850908981 -1.34712705835 \\n O -2.60915995169 5.42796339842 -0.332106516976 \\n O -4.09010101086 4.6702210691 3.21963325563 \\n O -2.61153493948 3.76559048697 2.54648871021 \\n O 2.03070007549 2.43429896377 -1.30235769636 \\n O -0.744525618642 3.60710765203 -0.968500264999 \\n O 0.688708218866 1.49329275848 -2.19058576897 \\n O -3.00892045929 2.11997345934 0.750511502672 \\n O 0.888194711692 5.17470146835 1.54747876638 \\n O -1.7617655562 3.86249748272 0.602243396696 \\n O -2.52119057128 6.08022194356 2.80836726477 \\n O 0.218088461249 4.21060830157 -1.76026945688 \\n O -1.49098853533 2.46898710363 1.74640820991 \\n O 2.38478923506 4.26935010529 -2.64406302309 \\n O -0.972297350477 3.23652956739 -3.94418331054 \\n H -4.5056843408 3.12531231966 0.551187543647 \\n H -5.94628107885 3.52663836866 1.07695460248 \\n H -4.68987176131 2.85696423289 2.12559557184 \\n H -0.121207927487 7.00182526002 1.12715219791 \\n H -1.16327961088 7.80497787117 0.21242062323 \\n H -1.50130564227 7.04732456559 2.22021962384 \\n H -2.1587718781 2.80419484012 -0.285062185304 \\n H -1.30066440332 1.62232516168 -2.153273494 \\n H -1.29122740877 2.06276952731 0.12322499759 \\n H 2.78216562481 6.49234291675 -0.848394386832 \\n H 2.18940839555 4.87803667785 0.564170334055 \\n H 3.07096851202 5.12534866211 -1.35295907956 \\n H -0.439699985137 0.839559492131 2.00978833123 \\n H -0.141163715291 0.0547040559678 -0.0517534861304 \\n H 1.77140853814 0.494386823498 1.39224011359 \\n H -5.3213397446 6.18959969937 -0.824077931427 \\n H -5.80317327104 5.18371434448 0.551982071213 \\n H -4.11930846742 5.94836360032 -0.126814926043 \\n H -7.27231496193 5.13198874446 2.26341853235 \\n H -5.92435015768 4.39450911081 2.43933390409 \\n H 2.55065499057 5.07250851959 2.84090292487 \\n H 2.44017233906 6.19525845684 2.18118532762 \\n H 0.402581987401 1.74820457833 2.23983288437 \\n H 2.00174427787 1.73359201787 0.63453152166 \\n H -1.83740677121 6.95523045644 -1.10721761251 \\n H -1.00180638812 6.65722006901 -0.193729582271 \\n H -4.52094170042 5.70289487596 1.29826921357 \\n H -0.725874418862 4.30425300016 1.25993395932 \\n H -0.486794472853 3.77226162836 -2.62630718838 \\n H 0.498294791089 6.10531151995 -0.267006369847 \\n H -0.322658537203 1.84279246957 -1.27494917712 \\n H -5.43406682409 7.72842349674 1.3520166544 \\n H -2.91691646341 8.23713096993 0.091312953374 \\n H -0.440974074321 6.36380401875 3.02153494721 \\n H -1.65074335949 0.206522023145 1.58893491861 \\n H -3.20546460223 5.24802911613 -1.73191927553 \\n H -5.97835543241 6.439759737 3.26331145776 \\n H -1.06084709422 5.28783038052 4.06548172358 \\n H 0.139405499258 4.18377421985 1.884835397 \\n H 1.47229077424 5.88397639251 -3.18316997811 \\n H -3.54131102254 8.71460405216 2.45566889996 \\n H -1.38566240013 3.57245712692 3.4773336791 \\n H -0.798305505402 0.505849926972 -1.26681440556 \\n H -4.14381059744 8.18649448721 1.49545852864 \\n H -0.303485056438 2.91359862281 2.73982733648 \\n H 1.54314901776 7.0088407197 -0.127090005953 \\n H -2.05830314561 6.3792043345 -2.41247636441 \\n H 0.910988334277 1.14612028222 3.20512516127 \\n H -2.44502299909 7.4722335345 4.43154045073 \\n H -1.56435144013 0.96980271159 3.33225220347 \\n H 3.92855416952 5.59934549465 0.103120520224 \\n H -1.24204277825 5.24093277076 -1.76814283156 \\n H 1.29415815729 4.19919881018 -0.923910192801 \\n H -3.16865731541 5.83643764514 1.19079567619 \\n H -2.16005657016 2.7321430692 -2.89047251722 \\n H -2.99395609315 4.14725173274 -2.9019376477 \\n H 0.803410067319 1.58744853567 0.218906719098 \\n H 0.395827326526 4.84360809958 -3.93310241522 \\n H -2.85033876645 4.53271502565 1.19452372874 \\n H -2.49648698803 5.05290290036 4.49878159685 \\n H -3.33289428588 1.76698787636 2.22676764331 \\n H 3.74770775626 3.18159667458 -1.239812601 \\n H -2.87754408188 2.82915097369 -1.28723634722 \\n H 1.23764361328 2.73874998673 -4.03604382135 \\n H 2.17210668447 3.36674428777 0.37677165643 \\n H -4.90971043559 5.16543242405 4.17731264889 \\n H 0.75726795972 7.07792198473 3.72076324768 \\n H -0.0192290240159 3.58104492041 0.567508506722 \\n H -7.02625441199 4.12292688854 -0.371976090022 \\n H -6.34302744444 7.80563118927 3.84417343864 \\n H -0.482599431357 7.83309838099 2.44557457103 \\n H -5.37618031225 7.35949830093 0.0384502224776 \\n H 1.3294411834 4.46390088439 2.22882673402 \\n H -1.49759521781 5.5233924782 -0.311756737152 \\n H 0.344432961112 7.86108412852 -1.91060753481 \\n H -4.60680517695 6.6468630471 4.25297354531 \\n H 1.05568253121 4.05675832692 4.63917846006 \\n H -3.94173297729 1.16639608954 -1.2874807908 \\n H -5.45576219055 9.14762895331 2.20341207274 \\n H -0.449080566232 2.56555647327 5.00109176327 \\n H 1.26864741687 6.18839169649 1.1771954401 \\n H -1.40520618856 6.97767577763 -3.88941749894 \\n H 2.21264165 3.58832713849 2.16173186788 \\n H -4.94360991085 6.97890990721 5.62324760006 \\n H -2.88413737433 3.55952764005 3.79322322484 \\n H 3.07236045331 2.98515361095 1.32611714019 \\n H 1.07634642797 6.93693063764 -1.48995992838 \\n end\\nend\\n%geom\\n MaxIter 200\\n end\\n%scf\\n MaxIter 1500\\n end\\n'}]},\n",
      " 'state': 'FIZZLED',\n",
      " 'updated_on': '2017-06-28T15:38:31.542824'}\n"
     ]
    }
   ],
   "source": [
    "query = {\n",
    "    'state': 'FIZZLED'\n",
    "}\n",
    "\n",
    "fizzled = metatlas_lpad.get_fw_ids(query, launches_mode=True)\n",
    "fw = metatlas_lpad.get_fw_by_id(fizzled[0]).as_dict()\n",
    "\n",
    "query = {\n",
    "    'state': 'FIZZLED',\n",
    "    'launch_dir': {\n",
    "        '$exists': 'true'\n",
    "    }\n",
    "}\n",
    "\n",
    "fizzled_with_ldir = metatlas_lpad.get_fw_ids(query, launches_mode=True)\n",
    "\n",
    "print 'Number of fizzled jobs: {}'.format(len(fizzled))\n",
    "print 'Number of fizzled jobs with launch dir: {}'.format(len(fizzled_with_ldir))\n",
    "pprint.pprint(fw)"
   ]
  },
  {
   "cell_type": "markdown",
   "metadata": {},
   "source": [
    "## Launched statistics"
   ]
  },
  {
   "cell_type": "code",
   "execution_count": 33,
   "metadata": {},
   "outputs": [
    {
     "name": "stdout",
     "output_type": "stream",
     "text": [
      "Total number of launched jobs: 28393\n",
      "Number of fizzled jobs: 2487\n",
      "Number of Completed with coords: 3944\n",
      "Number of AddtoDBTasks: 21459\n",
      "Unaccounted launches: 503\n"
     ]
    },
    {
     "data": {
      "image/png": "[encoded data removed]",
      "text/plain": [
       "<matplotlib.figure.Figure at 0x7fbb0c0c13d0>"
      ]
     },
     "metadata": {},
     "output_type": "display_data"
    }
   ],
   "source": [
    "query = {}\n",
    "\n",
    "total_launched = metatlas_lpad.get_fw_ids(query, launches_mode=True)\n",
    "total_status_jobs = len(completed_and_processed) + \\\n",
    "                    len(completed_with_coords) + len(fizzled)\n",
    "    \n",
    "plt.bar([0, 1, 2, 3, 4], \n",
    "        [len(total_launched), total_status_jobs, len(fizzled), \n",
    "         len(completed_with_coords), len(completed_not_processed)],\n",
    "       tick_label=['Launched', 'Accounted for', 'Fizzled', 'Completed', 'Waiting'])\n",
    "\n",
    "print 'Total number of launched jobs: {}'.format(len(total_launched))\n",
    "print 'Number of fizzled jobs: {}'.format(len(fizzled))\n",
    "print 'Number of Completed with coords: {}'.format(len(completed_with_coords))\n",
    "print 'Number of AddtoDBTasks: {}'.format(len(completed_not_processed))\n",
    "print 'Unaccounted launches: {}'.format(len(total_launched) - total_status_jobs)"
   ]
  },
  {
   "cell_type": "markdown",
   "metadata": {},
   "source": [
    "## Figure out method for running a local parse of completed but not processed calcs"
   ]
  },
  {
   "cell_type": "code",
   "execution_count": null,
   "metadata": {
    "collapsed": true
   },
   "outputs": [],
   "source": [
    "def get_and_update_outputfile_dir(fw_id):\n",
    "    fw = lpad.get_fw_dict_by_id(fw_id)\n",
    "    time_created = lpad.get_fw_dict_by_id(fw_id)['created_on']\n",
    "    time_created = datetime.datetime.strptime(time_created,'%Y-%m-%dT%H:%M:%S.%f')\n",
    "    output_file = fw['spec']['_tasks'][0]['path_to_calc_output']\n",
    "    mol = output_file.split('.')[0]\n",
    "    \n",
    "    calc_db_id = lpad.get_fw_ids({'state': 'COMPLETED', \n",
    "                                  'spec._tasks._fw_name': 'ComputeEnergyTask', \n",
    "                                  'name': mol})[-1]\n",
    "#    for i in calc_db_id:\n",
    "#        try:\n",
    "#            calc = lpad.get_fw_dict_by_id(i)\n",
    "#        except:\n",
    "#            pass\n",
    "#        else:\n",
    "#            calc_time = calc['launches'][0]['time_end']\n",
    "#            calc_time = datetime.datetime.strptime(calc_time,'%Y-%m-%dT%H:%M:%S.%f')\n",
    "#            print time_created - calc_time\n",
    "        \n",
    "    calc_dir = lpad.get_fw_dict_by_id(calc_db_id)['launches'][0]['launch_dir']\n",
    "    new_path_to_output = calc_dir+'/'+output_file\n",
    "    \n",
    "    print new_path_to_output\n",
    "    lpad.update_spec([fw_id], \n",
    "                    {'_tasks': [{'_fw_name': 'fireworks::AddCalculationtoDBTask', \n",
    "                                'path_to_calc_output': new_path_to_output}]})\n",
    "    # parse molecule name from"
   ]
  },
  {
   "cell_type": "code",
   "execution_count": 40,
   "metadata": {
    "collapsed": true
   },
   "outputs": [],
   "source": [
    "mol = 'C44H76NO8P'\n",
    "fw = Firework(AddCalculationtoDBTask(input_file=mol+'.out'),\n",
    "        name=mol)\n",
    "wf = Workflow([fw])\n",
    "lpad.append_wf(wf, [179950, 179949])"
   ]
  },
  {
   "cell_type": "code",
   "execution_count": 69,
   "metadata": {
    "collapsed": true
   },
   "outputs": [],
   "source": [
    "def make_xyz(atoms):\n",
    "    xyz = []\n",
    "    natoms = str(len(atoms))\n",
    "    \n",
    "    xyz.append(natoms+'\\n\\n')\n",
    "    \n",
    "    for atom in atoms:\n",
    "        line = atom['elementSymbol'] + '\\t'\n",
    "        line += '\\t'.join(atom['cartesianCoordinates']['value'])\n",
    "        \n",
    "        xyz.append(line)\n",
    "    print xyz"
   ]
  },
  {
   "cell_type": "code",
   "execution_count": 87,
   "metadata": {
    "collapsed": true
   },
   "outputs": [],
   "source": [
    "with open('C10H14N5O7P.trj', 'r') as f:\n",
    "    content = f.readlines()"
   ]
  },
  {
   "cell_type": "code",
   "execution_count": 88,
   "metadata": {},
   "outputs": [
    {
     "data": {
      "text/plain": [
       "list"
      ]
     },
     "execution_count": 88,
     "metadata": {},
     "output_type": "execute_result"
    }
   ],
   "source": [
    "type(content)"
   ]
  },
  {
   "cell_type": "code",
   "execution_count": 6,
   "metadata": {
    "scrolled": false
   },
   "outputs": [
    {
     "name": "stdout",
     "output_type": "stream",
     "text": [
      "2017-06-28 15:08:03,990 INFO No information to recover launch id 1 for m_fw 1. Skipping...\n"
     ]
    },
    {
     "data": {
      "text/plain": [
       "{u'_id': ObjectId('590b617cd95cbb63a650309a'),\n",
       " u'archived_launches': [],\n",
       " u'created_on': u'2017-05-04T17:14:36.949575',\n",
       " u'fw_id': 1,\n",
       " u'launches': [{u'_id': ObjectId('590b61bfd95cbb63a6503112'),\n",
       "   u'action': {u'additions': [{u'created_on': u'2017-05-04T17:35:41.208063',\n",
       "      u'fw_id': -1,\n",
       "      u'name': u'Unnamed FW',\n",
       "      u'spec': {u'_tasks': [{u'_fw_name': u'fireworks::AddCalculationtoDBTask',\n",
       "         u'path_to_calc_output': u'C44H76NO8P.out'}]},\n",
       "      u'updated_on': u'2017-05-04T17:35:41.208073'}],\n",
       "    u'defuse_children': False,\n",
       "    u'defuse_workflow': False,\n",
       "    u'detours': [],\n",
       "    u'exit': False,\n",
       "    u'mod_spec': [],\n",
       "    u'stored_data': {u'path_to_calc_output': u'C44H76NO8P.out'},\n",
       "    u'update_spec': {}},\n",
       "   u'fw_id': 1,\n",
       "   u'fworker': {u'category': u'',\n",
       "    u'env': {},\n",
       "    u'name': u'edison',\n",
       "    u'query': u'{}'},\n",
       "   u'host': u'nid06096',\n",
       "   u'ip': u'10.128.24.1',\n",
       "   u'launch_dir': u'/global/u2/b/bkrull/apps/MetAtlas/calcs/block_2017-05-04-17-14-56-239051/launcher_2017-05-04-17-14-56-304810',\n",
       "   u'launch_id': 1,\n",
       "   u'runtime_secs': 1197.622177,\n",
       "   u'state': u'COMPLETED',\n",
       "   u'state_history': [{u'created_on': u'2017-05-04T17:15:43.595000',\n",
       "     u'state': u'RUNNING',\n",
       "     u'updated_on': u'2017-05-04T17:35:41.214370'},\n",
       "    {u'created_on': u'2017-05-04T17:35:41.217177', u'state': u'COMPLETED'}],\n",
       "   u'time_end': u'2017-05-04T17:35:41.217177',\n",
       "   u'time_start': u'2017-05-04T17:15:43.595000',\n",
       "   u'trackers': []}],\n",
       " u'name': u'C44H76NO8P',\n",
       " u'spec': {u'_tasks': [{u'_fw_name': u'ComputeEnergyTask',\n",
       "    u'calc_details': {u'charge': 0,\n",
       "     u'molecularSpinMultiplicity': 1,\n",
       "     u'molecular_formula': u'C44H76NO8P',\n",
       "     u'numberOfElectrons': 426,\n",
       "     u'waveFunctionTheory': u'PM3'},\n",
       "    u'input_string': u'%MaxCore 6000\\n!SlowConv\\n!NOSOSCF\\n!PM3 Opt \\n%coords \\n  CTyp xyz\\n Charge 0\\n Mult 1\\n coords\\n C -3.34129193253 23.5926725808 -15.990330013 \\n C 7.50681524519 -4.85390543301 -28.7576671625 \\n C -4.154094335 22.8373656534 -17.0305784586 \\n C 7.69841869224 -3.61152546872 -27.9003186061 \\n C -3.23983228075 22.0945960835 -18.009056342 \\n C 6.52968260051 -2.65084411848 -28.0711406778 \\n C -2.36165741729 21.0697080727 -17.296938825 \\n C 5.20683602996 -3.3169643884 -27.7307070047 \\n C -3.20459565036 20.0875289956 -16.4989448466 \\n C 5.16857034135 -3.72957097699 -26.2869916741 \\n C -4.05431210952 19.2549109987 -17.4152166306 \\n C 4.29053604502 -3.2372718825 -25.4167577862 \\n C -3.93327574957 17.9321002359 -17.5166857649 \\n C 3.25698318178 -2.26642735492 -25.8301150291 \\n C -2.96057588361 17.1754829583 -16.6970015674 \\n C 1.92442795949 -2.82483913081 -25.5354719922 \\n C -3.65367749438 16.1549327575 -15.8694536408 \\n C 1.10165367477 -2.19645761138 -24.7102049234 \\n C -3.32145969127 14.8674117783 -15.9288677507 \\n C -2.26946675098 14.3922191863 -16.8563800857 \\n C -1.18944942482 13.6942715447 -16.1170218362 \\n C -0.862585092725 12.4447285592 -16.4177696369 \\n C -1.58896113863 11.7304789375 -17.483257844 \\n C 1.42258994648 -0.854081953002 -24.1277234232 \\n C -0.629474675354 11.3243016857 -18.5107745685 \\n C 0.417988675455 0.126169269012 -24.6923310096 \\n C -0.501126719864 10.0141415705 -18.7592270014 \\n C -0.97256835341 -0.397857896453 -24.3008560153 \\n C -1.4213454962 9.0709104488 -18.1041389119 \\n C -1.00479577032 -0.601160780693 -22.7686705639 \\n C -2.30583320005 8.52465643938 -19.2468867702 \\n C -0.622998577625 0.709278079044 -22.1973187003 \\n C -1.3521205561 7.87482950283 -20.2744718332 \\n C -1.60410144904 1.59452445631 -22.9239746829 \\n C -0.352211912826 7.08925239637 -19.5020901506 \\n C -3.18411168282 1.19975968962 -22.2186314666 \\n C -1.35410719083 6.38507169066 -18.6160437833 \\n C -2.36763935924 4.5353440509 -17.0844039731 \\n C -0.667989548927 4.12318799038 -17.9257676476 \\n C -4.83010508883 3.43831251108 -20.6141467788 \\n C -3.0260796219 3.98408526906 -22.2328002333 \\n C -3.99193418003 4.63457541009 -21.2355336985 \\n C -3.33374053733 1.28998351866 -20.6267022092 \\n C -2.5440534498 5.41841432991 -19.4194931001 \\n N -3.8929976896 4.20698029102 -17.516151325 \\n O -2.63733859425 0.583697192882 -19.847591577 \\n O -2.63427827046 4.23190932273 -19.2327300368 \\n O 0.157932083843 2.82085731588 -20.7239464664 \\n O -0.814173288308 4.89535540098 -21.6212663485 \\n O -4.11052032424 2.26615241512 -20.0518024179 \\n O -0.0485333636793 4.7685525956 -19.5157431501 \\n O -2.14134388863 2.91878655161 -21.5578277931 \\n O -3.38388881498 5.77565234325 -20.404074297 \\n P -1.09493862615 3.84366957361 -20.5367854716 \\n H -2.71434216211 22.9251696663 -15.3894836688 \\n H -3.99830108232 24.1185507486 -15.2956958722 \\n H -2.68617447504 24.3157539431 -16.484282434 \\n H 7.42556443398 -4.57450620433 -29.8125942702 \\n H 8.34121752608 -5.54228039519 -28.6263619248 \\n H 6.60164231171 -5.40848729165 -28.4891438963 \\n H -4.84162937681 22.1480835725 -16.526129419 \\n H -4.79509821422 23.5269108404 -17.5853931676 \\n H 8.62633019257 -3.10199753538 -28.1724579961 \\n H 7.8025091714 -3.90072998451 -26.8484135696 \\n H -3.85007816924 21.5973032782 -18.7721203327 \\n H -2.60305375849 22.8031105164 -18.5468561252 \\n H 6.48288503999 -2.29566483281 -29.1074023761 \\n H 6.67586711384 -1.75934112923 -27.4447097921 \\n H -1.72973289643 20.538000953 -18.0203504809 \\n H -1.66093052923 21.5640313319 -16.6146034332 \\n H 4.98462347567 -4.18993992246 -28.3463181136 \\n H 4.43873356016 -2.60568139162 -28.0265745506 \\n H -2.50129296165 19.5290476798 -15.8858245072 \\n H -3.85375926976 20.557616809 -15.7578167884 \\n H 5.89785916139 -4.4427128231 -25.9142984524 \\n H -4.78440140011 19.7478355211 -18.0520621619 \\n H 4.32369514579 -3.52874442093 -24.3669488384 \\n H -4.52992877545 17.3808112511 -18.2423111545 \\n H 3.21338429487 -1.97864232854 -26.8750504581 \\n H 3.53718831316 -1.34177820834 -25.334152649 \\n H -2.21864199251 16.829649011 -17.41223709 \\n H -2.36417900626 17.7413554972 -15.9878609179 \\n H 1.61257729045 -3.7505205357 -26.0108124376 \\n H -4.42461917058 16.4854345711 -15.179514566 \\n H 0.13198056343 -2.65453877705 -24.5272617272 \\n H -3.84570190996 14.1355672153 -15.3198762155 \\n H -2.82572357981 13.8388558176 -17.6084509269 \\n H -1.74215095794 15.1239583036 -17.4606696555 \\n H -0.633621321707 14.2274289576 -15.3547376454 \\n H -0.0697409830526 11.921759812 -15.8881153661 \\n H -2.15208106546 10.9871557785 -16.9274114198 \\n H -2.37947954957 12.2123174626 -18.0476302018 \\n H 2.40239519299 -0.433705355214 -24.3192775562 \\n H 1.42458669767 -0.945078231221 -23.0386917687 \\n H -0.046448604018 12.0185905959 -19.0857302555 \\n H 0.492733879214 0.251479253007 -25.7754068668 \\n H 0.664543872957 1.12929078816 -24.303344122 \\n H 0.212458565791 9.69145267073 -19.5033078033 \\n H -1.28848385814 -1.30709338714 -24.790052985 \\n H -1.72491368645 0.279471055301 -24.7110663239 \\n H -0.73568144755 8.42237948 -17.5306278974 \\n H -2.10073285576 9.32035337326 -17.2963544629 \\n H -0.355553890313 -1.36721178763 -22.3562037402 \\n H -1.9908388658 -0.885194781571 -22.415192108 \\n H -3.05934002113 7.83633317302 -18.8053944381 \\n H -2.95790926383 9.23648079389 -19.7305967006 \\n H 0.427999196398 1.02059594538 -22.3284758001 \\n H -0.737408351717 0.725584884853 -21.112493079 \\n H -1.87775548965 7.20273375737 -20.947249122 \\n H -0.8337736416 8.55896962793 -20.9252076123 \\n H -1.73464556195 1.81312665697 -23.9874142775 \\n H -1.00424541769 2.54598848448 -22.8687086232 \\n H 0.292877945564 6.56186905604 -20.2066004057 \\n H 0.42525701899 7.5544220417 -18.8668954292 \\n H -3.51473354529 0.229980452846 -22.5764137726 \\n H -3.97159358039 1.8314359457 -22.6180594936 \\n H -0.724779781965 6.06208197626 -17.7664600355 \\n H -1.87495190452 6.96308019186 -17.8524802969 \\n H -2.31765068316 4.60447251557 -15.9971284341 \\n H -2.60410268364 5.58370629841 -17.1958621629 \\n H -0.513435704765 3.04465315703 -17.9857506437 \\n H 0.126481019556 4.52092401313 -17.2698043605 \\n H -5.45577256323 3.83672625034 -19.8089932329 \\n H -5.51723723514 3.01654914507 -21.3550290669 \\n H -3.60958463566 3.5278307678 -23.0379085552 \\n H -2.43936439871 4.69849442377 -22.8147097599 \\n H -4.71222180763 5.22505280779 -21.8043319293 \\n H -4.26467228168 5.01149140606 -18.0856149002 \\n H -3.77245191491 3.57981615405 -18.3430166781 \\n H 0.245578523961 2.15083572589 -20.0326158295 \\n end\\nend\\n%geom\\n MaxIter 200\\n end\\n%scf\\n MaxIter 1500\\n end\\n'}]},\n",
       " u'state': u'COMPLETED',\n",
       " u'updated_on': u'2017-05-04T17:35:41.331138'}"
      ]
     },
     "execution_count": 6,
     "metadata": {},
     "output_type": "execute_result"
    }
   ],
   "source": [
    "lpad.rerun_fws_task_level(1, recover_mode='prev_dir')\n",
    "lpad.get_fw_dict_by_id(1)"
   ]
  }
 ],
 "metadata": {
  "anaconda-cloud": {},
  "kernelspec": {
   "display_name": "Python [conda root]",
   "language": "python",
   "name": "conda-root-py"
  },
  "language_info": {
   "codemirror_mode": {
    "name": "ipython",
    "version": 2
   },
   "file_extension": ".py",
   "mimetype": "text/x-python",
   "name": "python",
   "nbconvert_exporter": "python",
   "pygments_lexer": "ipython2",
   "version": "2.7.13"
  }
 },
 "nbformat": 4,
 "nbformat_minor": 2
}
